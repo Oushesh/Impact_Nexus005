{
 "cells": [
  {
   "cell_type": "code",
   "execution_count": 1,
   "metadata": {},
   "outputs": [],
   "source": [
    "import os\n",
    "os.chdir('../..')"
   ]
  },
  {
   "cell_type": "code",
   "execution_count": 2,
   "metadata": {},
   "outputs": [],
   "source": [
    "import pandas as pd"
   ]
  },
  {
   "cell_type": "code",
   "execution_count": 3,
   "metadata": {},
   "outputs": [],
   "source": [
    "import pandas as pd\n",
    "segment_df = pd.read_excel('assets/keywords_raw/unspsc.xlsx', sheet_name='Segment', index_col=None, header=None, skiprows=1, usecols=\"A:B\")\n",
    "family_df = pd.read_excel('assets/keywords_raw/unspsc.xlsx', sheet_name='Family', index_col=None, header=None,skiprows=1, usecols=\"A:B\")\n",
    "class_df = pd.read_excel('assets/keywords_raw/unspsc.xlsx', sheet_name='Class', index_col=None, header=None,skiprows=1, usecols=\"A:B\")\n",
    "commodity_df = pd.read_excel('assets/keywords_raw/unspsc.xlsx', sheet_name='Commodity', index_col=None, header=None,skiprows=1, usecols=\"A:B\")"
   ]
  },
  {
   "cell_type": "code",
   "execution_count": 5,
   "metadata": {},
   "outputs": [],
   "source": [
    "segment_df['parent'] = ''\n",
    "family_df['parent'] = family_df[0].astype(str).str[:2] + '000000'\n",
    "class_df['parent'] = class_df[0].astype(str).str[:4]+ '0000'\n",
    "commodity_df['parent'] = commodity_df[0].astype(str).str[:6]+ '00'"
   ]
  },
  {
   "cell_type": "code",
   "execution_count": 6,
   "metadata": {},
   "outputs": [],
   "source": [
    "df = pd.concat([segment_df, family_df, class_df, commodity_df])\n",
    "df.columns = ['code', 'description', 'parent']"
   ]
  },
  {
   "cell_type": "code",
   "execution_count": 8,
   "metadata": {},
   "outputs": [],
   "source": [
    "import numpy as np\n",
    "df = df.replace(np.NaN, pd.NA).where(df.notnull(), None)"
   ]
  },
  {
   "cell_type": "code",
   "execution_count": 46,
   "metadata": {},
   "outputs": [],
   "source": [
    "from typing import List, Optional\n",
    "from dataclasses import dataclass, field\n",
    "\n",
    "@dataclass\n",
    "class CPANode:\n",
    "    code: str\n",
    "    description: str\n",
    "    parent: Optional['CPANode']\n",
    "    children: List['CPANode'] = field(default_factory=lambda: [])\n",
    "\n",
    "    def __repr__(self):\n",
    "        return f'{{code:{self.code}|parent:{self.parent.code if self.parent else \".\"}|children:{self.children}}}'"
   ]
  },
  {
   "cell_type": "code",
   "execution_count": 47,
   "metadata": {},
   "outputs": [],
   "source": [
    "def search_nodes(nodes, parent_code, level=0) -> CPANode:\n",
    "    for node in nodes:\n",
    "        print(parent_code, node.code)\n",
    "        if parent_code == node.code:\n",
    "            return node\n",
    "        else:\n",
    "            return search_nodes(node.children, parent_code, level=level+1)"
   ]
  },
  {
   "cell_type": "code",
   "execution_count": 57,
   "metadata": {},
   "outputs": [
    {
     "data": {
      "text/html": [
       "<div>\n",
       "<style scoped>\n",
       "    .dataframe tbody tr th:only-of-type {\n",
       "        vertical-align: middle;\n",
       "    }\n",
       "\n",
       "    .dataframe tbody tr th {\n",
       "        vertical-align: top;\n",
       "    }\n",
       "\n",
       "    .dataframe thead th {\n",
       "        text-align: right;\n",
       "    }\n",
       "</style>\n",
       "<table border=\"1\" class=\"dataframe\">\n",
       "  <thead>\n",
       "    <tr style=\"text-align: right;\">\n",
       "      <th></th>\n",
       "      <th>code</th>\n",
       "      <th>description</th>\n",
       "      <th>parent</th>\n",
       "    </tr>\n",
       "  </thead>\n",
       "  <tbody>\n",
       "    <tr>\n",
       "      <th>0</th>\n",
       "      <td>10100000</td>\n",
       "      <td>Live animals</td>\n",
       "      <td>10000000</td>\n",
       "    </tr>\n",
       "  </tbody>\n",
       "</table>\n",
       "</div>"
      ],
      "text/plain": [
       "       code   description    parent\n",
       "0  10100000  Live animals  10000000"
      ]
     },
     "execution_count": 57,
     "metadata": {},
     "output_type": "execute_result"
    }
   ],
   "source": [
    "df[df.code == 10100000]"
   ]
  },
  {
   "cell_type": "code",
   "execution_count": 58,
   "metadata": {},
   "outputs": [],
   "source": [
    "nodes = {}\n",
    "for row in df.sort_values('parent').itertuples():\n",
    "    # print(row)\n",
    "    if not row.parent:\n",
    "        node = CPANode(code=row.code, description=row.description, parent=None)\n",
    "        nodes[node.code] = node\n",
    "        continue\n",
    "    \n",
    "    node = CPANode(row.code, row.description, nodes[int(row.parent)])\n",
    "    nodes[node.code] = node\n",
    "    nodes[int(row.parent)].children.append(node)"
   ]
  },
  {
   "cell_type": "code",
   "execution_count": 60,
   "metadata": {},
   "outputs": [],
   "source": [
    "def get_parent_path(node, path=[]):\n",
    "    parent = node.parent\n",
    "    if not parent:\n",
    "        return [f'{node.code}_{node.description}'] + path\n",
    "    else:\n",
    "        return get_parent_path(node.parent, [f'{node.code}_{node.description}'] + path)"
   ]
  },
  {
   "cell_type": "code",
   "execution_count": 77,
   "metadata": {},
   "outputs": [],
   "source": [
    "from pathlib import Path\n",
    "import re\n",
    "\n",
    "\n",
    "def create_taxonomy(nodes, at_level=1):\n",
    "    for node in nodes:\n",
    "        if not node.children:\n",
    "            path = get_parent_path(node.parent)\n",
    "            out_path = Path(\n",
    "                \"assets/keywords_raw/Products & Activities/UNSPSC/\" + \"/\".join(path[:at_level+1])\n",
    "            )\n",
    "            out_path.mkdir(parents=True, exist_ok=True)\n",
    "            f_out = Path(out_path / \"PRODUCT.tsv.unchecked\")\n",
    "            with f_out.open(\"a\") as f:\n",
    "                f.write(node.description + \"\\n\")\n"
   ]
  },
  {
   "cell_type": "code",
   "execution_count": 78,
   "metadata": {},
   "outputs": [],
   "source": [
    "create_taxonomy(nodes.values())"
   ]
  }
 ],
 "metadata": {
  "interpreter": {
   "hash": "50ef1f00e07f65fb8c66231f14f6a624080f70ef226807e0f66598eceb63f363"
  },
  "kernelspec": {
   "display_name": "Python 3.9.9 64-bit ('smart-evidence-0MftrBAc-py3.9': poetry)",
   "language": "python",
   "name": "python3"
  },
  "language_info": {
   "codemirror_mode": {
    "name": "ipython",
    "version": 3
   },
   "file_extension": ".py",
   "mimetype": "text/x-python",
   "name": "python",
   "nbconvert_exporter": "python",
   "pygments_lexer": "ipython3",
   "version": "3.9.9"
  },
  "orig_nbformat": 4
 },
 "nbformat": 4,
 "nbformat_minor": 2
}
