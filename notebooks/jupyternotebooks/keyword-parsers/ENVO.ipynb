{
 "cells": [
  {
   "cell_type": "code",
   "execution_count": 1,
   "metadata": {},
   "outputs": [],
   "source": [
    "import os\n",
    "os.chdir('../')"
   ]
  },
  {
   "cell_type": "code",
   "execution_count": 3,
   "metadata": {},
   "outputs": [],
   "source": [
    "import rdflib\n",
    "g = rdflib.Graph()\n",
    "result = g.parse('assets/envo.owl')"
   ]
  },
  {
   "cell_type": "code",
   "execution_count": null,
   "metadata": {},
   "outputs": [],
   "source": [
    "for node in g:\n",
    "    print(node[1].description)\n",
    "    break"
   ]
  },
  {
   "cell_type": "code",
   "execution_count": null,
   "metadata": {},
   "outputs": [],
   "source": [
    "from rdflib.namespace import RDF, OWL, RDFS, Namespace\n",
    "result = g.query('''\n",
    "SELECT DISTINCT ?ref ?labelr ?about ?refp ?o WHERE {\n",
    "\t?ref ?refp ?o .\n",
    "\tFILTER ( ?refp IN ( owl:equivalentClass, rdfs:subClassOf ) ) .\n",
    "    OPTIONAL {\n",
    "\t\t?ref rdfs:label ?labelr\n",
    "\t\tFILTER(LANG(?labelr) = \"\" || LANG(?labelr) = 'en')\n",
    "\t} .\n",
    "\tOPTIONAL {\n",
    "\t\t?ref obo:IAO_0000115 ?about\n",
    "\t} .\n",
    "}\n",
    "''', initNs={ 'rdf': RDF, 'rdfs': RDFS, 'owl': OWL, 'obo': Namespace('http://purl.obolibrary.org/obo/')})"
   ]
  },
  {
   "cell_type": "code",
   "execution_count": null,
   "metadata": {},
   "outputs": [],
   "source": [
    "rows = []\n",
    "for item in result:\n",
    "    rows.append([i.toPython() if i is not None else i for i in item])"
   ]
  },
  {
   "cell_type": "code",
   "execution_count": null,
   "metadata": {},
   "outputs": [],
   "source": [
    "import pandas as pd\n",
    "df = pd.DataFrame(rows, columns=[\"subject_id\", \"subject_label\", \"subject_about\", \"relation\", \"object_id\"])"
   ]
  },
  {
   "cell_type": "code",
   "execution_count": null,
   "metadata": {},
   "outputs": [],
   "source": [
    "df[~df.subject_about.isna()]"
   ]
  },
  {
   "cell_type": "code",
   "execution_count": null,
   "metadata": {},
   "outputs": [],
   "source": [
    "df['text'] = df.subject_label + '.' + df.subject_about.apply(lambda x: x if x is not None else '')"
   ]
  },
  {
   "cell_type": "code",
   "execution_count": null,
   "metadata": {},
   "outputs": [],
   "source": [
    "import srsly\n",
    "\n",
    "srsly.write_jsonl(\n",
    "    \"data/envo.jsonl\",\n",
    "    df.drop_duplicates([\"subject_id\"])[[\"subject_id\", \"subject_label\", \"subject_about\"]]\n",
    "    .rename(\n",
    "        {\"subject_id\": \"id\", \"subject_label\": \"title\", \"subject_about\": \"text\"},\n",
    "        axis=1,\n",
    "    )\n",
    "    .fillna(\"\")\n",
    "    .to_dict(\"records\"),\n",
    ")\n",
    "\n",
    "df.drop_duplicates([\"subject_id\"])[\"subject_label\"].rename({\"subject_id\": \"id\"}).to_csv(\n",
    "    \"data/envo_concepts.txt\", index=False, header=False\n",
    ")\n"
   ]
  },
  {
   "cell_type": "code",
   "execution_count": null,
   "metadata": {},
   "outputs": [],
   "source": [
    "nlp.tokenizer.pipe(['hello', 'world'])"
   ]
  },
  {
   "cell_type": "code",
   "execution_count": null,
   "metadata": {},
   "outputs": [],
   "source": [
    "labels = df.subject_label.drop_duplicates().str.lower()"
   ]
  },
  {
   "cell_type": "code",
   "execution_count": null,
   "metadata": {},
   "outputs": [],
   "source": []
  }
 ],
 "metadata": {
  "interpreter": {
   "hash": "72e5c414fa685c04be857c4b405d4059aa1da4000f4059e821b345d549630a65"
  },
  "kernelspec": {
   "display_name": "Python 3.9.2 64-bit ('text-data-hXNSdjxg-py3.9': poetry)",
   "name": "python3"
  },
  "language_info": {
   "codemirror_mode": {
    "name": "ipython",
    "version": 3
   },
   "file_extension": ".py",
   "mimetype": "text/x-python",
   "name": "python",
   "nbconvert_exporter": "python",
   "pygments_lexer": "ipython3",
   "version": "3.9.9"
  },
  "orig_nbformat": 4
 },
 "nbformat": 4,
 "nbformat_minor": 2
}
