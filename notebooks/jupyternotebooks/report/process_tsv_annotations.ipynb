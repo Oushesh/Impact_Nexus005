{
 "cells": [
  {
   "cell_type": "code",
   "execution_count": 1,
   "metadata": {},
   "outputs": [],
   "source": [
    "import pandas as pd"
   ]
  },
  {
   "cell_type": "code",
   "execution_count": 2,
   "metadata": {},
   "outputs": [],
   "source": [
    "import os\n",
    "os.chdir('../..')"
   ]
  },
  {
   "cell_type": "code",
   "execution_count": 3,
   "metadata": {},
   "outputs": [],
   "source": [
    "df = pd.read_csv('results/Problem & Solution labels - env_labeled_sentences.tsv', sep=\"\\t\")"
   ]
  },
  {
   "cell_type": "code",
   "execution_count": 9,
   "metadata": {},
   "outputs": [],
   "source": [
    "new_columns = ['scraper', 'title', 'interesting', 'url','par_index','keywords','keyword_types', 'jannic zs', 'jannic fb', 'jannic domain','stanley zs', 'stanley domain', 'sebastian zs', 'sebastian fb', 'sebastian domain', 'oguz zs', 'oguz fb', 'oguz domain', 'gold', 'zeroshot', 'finbert', 'domain', 'zeroshot_detail', 'finbert_detail', 'sentence']"
   ]
  },
  {
   "cell_type": "code",
   "execution_count": 10,
   "metadata": {},
   "outputs": [
    {
     "data": {
      "text/plain": [
       "Index(['scraper', 'title', 'url', 'par_index', 'keywords', 'keyword_types',\n",
       "       'jannic zs', 'jannic fb', 'jannic domain', 'stanley zs',\n",
       "       'stanley domain', 'sebastian zs', 'sebastian fb', 'sebastian domain',\n",
       "       'oguz zs', 'oguz fb', 'oguz domain', 'gold', 'zeroshot', 'finbert',\n",
       "       'domain', 'zeroshot_detail', 'finbert_detail', 'sentence', 'SENTENCE'],\n",
       "      dtype='object')"
      ]
     },
     "execution_count": 10,
     "metadata": {},
     "output_type": "execute_result"
    }
   ],
   "source": [
    "df.columns"
   ]
  },
  {
   "cell_type": "code",
   "execution_count": 11,
   "metadata": {},
   "outputs": [],
   "source": [
    "df.rename({old: new for old, new in zip(df.columns, new_columns)}, axis=1, inplace=True)"
   ]
  },
  {
   "cell_type": "code",
   "execution_count": 12,
   "metadata": {},
   "outputs": [],
   "source": [
    "from ipywidgets import HTML"
   ]
  },
  {
   "cell_type": "code",
   "execution_count": 25,
   "metadata": {},
   "outputs": [
    {
     "data": {
      "application/vnd.jupyter.widget-view+json": {
       "model_id": "995b4e956cd4400e9a3b4e058b71d9e8",
       "version_major": 2,
       "version_minor": 0
      },
      "text/plain": [
       "HTML(value='<table border=\"1\" class=\"dataframe\">\\n  <thead>\\n    <tr style=\"text-align: right;\">\\n      <th></…"
      ]
     },
     "metadata": {},
     "output_type": "display_data"
    }
   ],
   "source": [
    "HTML(df[(df['stanley zs'].isin(['FACT', 'PROBLEM', 'SOLUTION'])) | (df['jannic zs'].isin(['FACT', 'PROBLEM', 'SOLUTION']))][['stanley zs','jannic zs', 'sentence']].to_html())"
   ]
  },
  {
   "cell_type": "code",
   "execution_count": 26,
   "metadata": {},
   "outputs": [
    {
     "data": {
      "application/vnd.jupyter.widget-view+json": {
       "model_id": "dae2afd83f104e9dbeb7d5a1f5453b35",
       "version_major": 2,
       "version_minor": 0
      },
      "text/plain": [
       "HTML(value='<table border=\"1\" class=\"dataframe\">\\n  <thead>\\n    <tr style=\"text-align: right;\">\\n      <th></…"
      ]
     },
     "metadata": {},
     "output_type": "display_data"
    }
   ],
   "source": [
    "HTML(df[(df['stanley zs'] != df['jannic zs']) & (df['jannic zs'].isin(['FACT', 'PROBLEM', 'SOLUTION']))][['stanley zs','jannic zs', 'sentence']].to_html())"
   ]
  },
  {
   "cell_type": "code",
   "execution_count": 33,
   "metadata": {},
   "outputs": [],
   "source": [
    "from sklearn.metrics import f1_score\n",
    "stanley_labels = df[(df['stanley zs'].isin(['FACT', 'PROBLEM', 'SOLUTION']))]['stanley zs']\n",
    "zeroshot_labels = df[(df['stanley zs'].isin(['FACT', 'PROBLEM', 'SOLUTION']))]['zeroshot']"
   ]
  },
  {
   "cell_type": "code",
   "execution_count": 51,
   "metadata": {},
   "outputs": [
    {
     "data": {
      "text/html": [
       "<div>\n",
       "<style scoped>\n",
       "    .dataframe tbody tr th:only-of-type {\n",
       "        vertical-align: middle;\n",
       "    }\n",
       "\n",
       "    .dataframe tbody tr th {\n",
       "        vertical-align: top;\n",
       "    }\n",
       "\n",
       "    .dataframe thead th {\n",
       "        text-align: right;\n",
       "    }\n",
       "</style>\n",
       "<table border=\"1\" class=\"dataframe\">\n",
       "  <thead>\n",
       "    <tr style=\"text-align: right;\">\n",
       "      <th></th>\n",
       "      <th>FACT</th>\n",
       "      <th>PROBLEM</th>\n",
       "      <th>SOLUTION</th>\n",
       "      <th>accuracy</th>\n",
       "      <th>macro avg</th>\n",
       "      <th>weighted avg</th>\n",
       "    </tr>\n",
       "  </thead>\n",
       "  <tbody>\n",
       "    <tr>\n",
       "      <th>precision</th>\n",
       "      <td>0.734940</td>\n",
       "      <td>0.758621</td>\n",
       "      <td>0.871795</td>\n",
       "      <td>0.774834</td>\n",
       "      <td>0.788452</td>\n",
       "      <td>0.784804</td>\n",
       "    </tr>\n",
       "    <tr>\n",
       "      <th>recall</th>\n",
       "      <td>0.847222</td>\n",
       "      <td>0.758621</td>\n",
       "      <td>0.680000</td>\n",
       "      <td>0.774834</td>\n",
       "      <td>0.761948</td>\n",
       "      <td>0.774834</td>\n",
       "    </tr>\n",
       "    <tr>\n",
       "      <th>f1-score</th>\n",
       "      <td>0.787097</td>\n",
       "      <td>0.758621</td>\n",
       "      <td>0.764045</td>\n",
       "      <td>0.774834</td>\n",
       "      <td>0.769921</td>\n",
       "      <td>0.773995</td>\n",
       "    </tr>\n",
       "    <tr>\n",
       "      <th>support</th>\n",
       "      <td>72.000000</td>\n",
       "      <td>29.000000</td>\n",
       "      <td>50.000000</td>\n",
       "      <td>0.774834</td>\n",
       "      <td>151.000000</td>\n",
       "      <td>151.000000</td>\n",
       "    </tr>\n",
       "  </tbody>\n",
       "</table>\n",
       "</div>"
      ],
      "text/plain": [
       "                FACT    PROBLEM   SOLUTION  accuracy   macro avg  weighted avg\n",
       "precision   0.734940   0.758621   0.871795  0.774834    0.788452      0.784804\n",
       "recall      0.847222   0.758621   0.680000  0.774834    0.761948      0.774834\n",
       "f1-score    0.787097   0.758621   0.764045  0.774834    0.769921      0.773995\n",
       "support    72.000000  29.000000  50.000000  0.774834  151.000000    151.000000"
      ]
     },
     "execution_count": 51,
     "metadata": {},
     "output_type": "execute_result"
    }
   ],
   "source": [
    "from sklearn.metrics import classification_report\n",
    "result = classification_report(zeroshot_labels, stanley_labels, target_names=['FACT', 'PROBLEM', 'SOLUTION'], output_dict=True)\n",
    "# support: The number of occurrences of each label\n",
    "pd.DataFrame(result)"
   ]
  },
  {
   "cell_type": "code",
   "execution_count": 42,
   "metadata": {},
   "outputs": [
    {
     "name": "stdout",
     "output_type": "stream",
     "text": [
      "[0.73493976 0.75862069 0.87179487] [0.84722222 0.75862069 0.68      ] [0.78709677 0.75862069 0.76404494] [72 29 50]\n"
     ]
    }
   ],
   "source": [
    "print(precision, recall, fbeta_score, support)"
   ]
  },
  {
   "cell_type": "code",
   "execution_count": 28,
   "metadata": {},
   "outputs": [
    {
     "data": {
      "application/vnd.jupyter.widget-view+json": {
       "model_id": "28b421f611a540139eb037a887c54eb0",
       "version_major": 2,
       "version_minor": 0
      },
      "text/plain": [
       "HTML(value='<table border=\"1\" class=\"dataframe\">\\n  <thead>\\n    <tr style=\"text-align: right;\">\\n      <th></…"
      ]
     },
     "metadata": {},
     "output_type": "display_data"
    }
   ],
   "source": [
    "HTML(df[(df['stanley zs'].isin(['FACT', 'PROBLEM', 'SOLUTION']))][['stanley zs','zeroshot', 'sentence']].to_html())"
   ]
  },
  {
   "cell_type": "code",
   "execution_count": null,
   "metadata": {},
   "outputs": [],
   "source": []
  }
 ],
 "metadata": {
  "interpreter": {
   "hash": "50ef1f00e07f65fb8c66231f14f6a624080f70ef226807e0f66598eceb63f363"
  },
  "kernelspec": {
   "display_name": "Python 3.9.9 64-bit ('smart-evidence-0MftrBAc-py3.9': poetry)",
   "language": "python",
   "name": "python3"
  },
  "language_info": {
   "codemirror_mode": {
    "name": "ipython",
    "version": 3
   },
   "file_extension": ".py",
   "mimetype": "text/x-python",
   "name": "python",
   "nbconvert_exporter": "python",
   "pygments_lexer": "ipython3",
   "version": "3.9.9"
  },
  "orig_nbformat": 4
 },
 "nbformat": 4,
 "nbformat_minor": 2
}
