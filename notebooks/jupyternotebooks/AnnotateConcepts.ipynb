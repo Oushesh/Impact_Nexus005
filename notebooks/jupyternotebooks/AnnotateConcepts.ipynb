{
    "cells": [
        {
            "cell_type": "code",
            "execution_count": 1,
            "metadata": {},
            "outputs": [],
            "source": [
                "import os\n",
                "os.chdir('..')"
            ]
        },
        {
            "cell_type": "code",
            "execution_count": 2,
            "metadata": {},
            "outputs": [
                {
                    "name": "stderr",
                    "output_type": "stream",
                    "text": [
                        "/home/gos02501e/.cache/pypoetry/virtualenvs/smart-evidence-zrd-iDQT-py3.8/lib/python3.8/site-packages/tqdm/auto.py:22: TqdmWarning: IProgress not found. Please update jupyter and ipywidgets. See https://ipywidgets.readthedocs.io/en/stable/user_install.html\n",
                        "  from .autonotebook import tqdm as notebook_tqdm\n",
                        "INFO - haystack.modeling.model.optimization -  apex not found, won't use it. See https://nvidia.github.io/apex/\n"
                    ]
                }
            ],
            "source": [
                "from haystack.document_stores import OpenSearchDocumentStore\n",
                "from smart_evidence.helpers import opensearch_connection\n",
                "from smart_evidence.components.concept_extractor import ES_MAPPING\n",
                "\n",
                "# from smart_evidence.components.company_impact_classifier import (\n",
                "#     CompanyImpactClassifier,\n",
                "# )\n",
                "\n",
                "\n",
                "# DocumentStore: holds all your data\n",
                "document_store = OpenSearchDocumentStore(\n",
                "    username=\"admin\",\n",
                "    password=\"R9$Cix3vD$BU#z\",\n",
                "    host=opensearch_connection.HOST,\n",
                "    port=443,\n",
                "    timeout=120,\n",
                "    aws4auth=opensearch_connection.AWS_AUTH,\n",
                "    verify_certs=True,\n",
                "    index=\"haystack-paragraphs\",\n",
                "    label_index=\"haystack-paragraphs-labels\",\n",
                "    search_fields=[\"text\", \"title\"],\n",
                "    similarity=\"cosine\",\n",
                "    content_field=\"text\",\n",
                "    name_field=\"title\",\n",
                "    custom_mapping=ES_MAPPING,\n",
                "    analyzer=\"english\",\n",
                "    embedding_field=\"embedding\",\n",
                "    duplicate_documents=\"overwrite\",\n",
                "    return_embedding=True,\n",
                ")\n"
            ]
        },
        {
            "cell_type": "code",
            "execution_count": 11,
            "metadata": {},
            "outputs": [],
            "source": [
                "def get_sources_without_concepts():\n",
                "    query = {\n",
                "        \"size\": 0,\n",
                "        \"query\": {\"bool\": {\"must_not\": {\"exists\": {\"field\": \"concepts\"}}}},\n",
                "        \"aggs\": {\"sources\": {\"terms\": {\"field\": \"source_file\", \"size\": 500}}},\n",
                "    }\n",
                "\n",
                "    result = document_store.client.search(query)[\"aggregations\"][\"sources\"][\"buckets\"]\n",
                "    return [item[\"key\"] for item in result]\n",
                "    \n",
                "\n"
            ]
        },
        {
            "cell_type": "code",
            "execution_count": 12,
            "metadata": {},
            "outputs": [],
            "source": [
                "sources_without_concepts = get_sources_without_concepts()"
            ]
        },
        {
            "cell_type": "code",
            "execution_count": 13,
            "metadata": {},
            "outputs": [
                {
                    "data": {
                        "text/plain": [
                            "['wikipedia_Category:Shipping.jsonl',\n",
                            " 'wikipedia_Category:Psychology.jsonl',\n",
                            " 'wikipedia_Category:Agriculture.jsonl',\n",
                            " 'wikipedia-Category:Climate change.jsonl',\n",
                            " 'wikipedia-Category:Economy and the environment.jsonl',\n",
                            " 'wikipedia_Category:Computer architecture.jsonl',\n",
                            " 'wikipedia_Category:Marketing.jsonl',\n",
                            " 'wikipedia_Category:Nanotechnology.jsonl',\n",
                            " 'wikipedia_Category:Deforestation.jsonl']"
                        ]
                    },
                    "execution_count": 13,
                    "metadata": {},
                    "output_type": "execute_result"
                }
            ],
            "source": [
                "sources_without_concepts"
            ]
        },
        {
            "cell_type": "code",
            "execution_count": 14,
            "metadata": {},
            "outputs": [
                {
                    "name": "stderr",
                    "output_type": "stream",
                    "text": [
                        "9595it [00:12, 2734.05it/s]"
                    ]
                },
                {
                    "name": "stdout",
                    "output_type": "stream",
                    "text": [
                        "5e1fdbb2021e4eaeb6443f53210e5415\n",
                        "<Document: id=0b3e0e1429cc76c23d3bec75cde6c7cc, content='Lund University library was established in 1668 at the same time as the university and is one of Swe ...'>\n",
                        "10000\n"
                    ]
                },
                {
                    "name": "stderr",
                    "output_type": "stream",
                    "text": [
                        "19480it [01:18, 795.66it/s]"
                    ]
                },
                {
                    "name": "stdout",
                    "output_type": "stream",
                    "text": [
                        "5ebed40e125276fbdb5fc9c94973359a\n",
                        "<Document: id=c73c69eb8b5fd6d1a276bacf1ca92490, content='The C&SF established 470,000 acres (1,900 km2) for the Everglades Agricultural Area—27 percent of th ...'>\n",
                        "10000\n"
                    ]
                },
                {
                    "name": "stderr",
                    "output_type": "stream",
                    "text": [
                        "19999it [01:18, 253.35it/s]\n"
                    ]
                },
                {
                    "ename": "KeyboardInterrupt",
                    "evalue": "",
                    "output_type": "error",
                    "traceback": [
                        "\u001b[0;31m---------------------------------------------------------------------------\u001b[0m",
                        "\u001b[0;31mKeyboardInterrupt\u001b[0m                         Traceback (most recent call last)",
                        "\u001b[1;32m/home/gos02501e/smart-evidence/notebooks/AnnotateConcepts.ipynb Cell 6'\u001b[0m in \u001b[0;36m<cell line: 6>\u001b[0;34m()\u001b[0m\n\u001b[1;32m     <a href='vscode-notebook-cell://ssh-remote%2Bgos02501e@172.16.225.115/home/gos02501e/smart-evidence/notebooks/AnnotateConcepts.ipynb#ch0000004vscode-remote?line=41'>42</a>\u001b[0m \u001b[39mprint\u001b[39m(document_batch[\u001b[39m0\u001b[39m])\n\u001b[1;32m     <a href='vscode-notebook-cell://ssh-remote%2Bgos02501e@172.16.225.115/home/gos02501e/smart-evidence/notebooks/AnnotateConcepts.ipynb#ch0000004vscode-remote?line=42'>43</a>\u001b[0m \u001b[39mprint\u001b[39m(\u001b[39mlen\u001b[39m(document_batch))\n\u001b[0;32m---> <a href='vscode-notebook-cell://ssh-remote%2Bgos02501e@172.16.225.115/home/gos02501e/smart-evidence/notebooks/AnnotateConcepts.ipynb#ch0000004vscode-remote?line=43'>44</a>\u001b[0m document_store\u001b[39m.\u001b[39;49mwrite_documents(document_batch, duplicate_documents\u001b[39m=\u001b[39;49m\u001b[39m\"\u001b[39;49m\u001b[39moverwrite\u001b[39;49m\u001b[39m\"\u001b[39;49m)\n\u001b[1;32m     <a href='vscode-notebook-cell://ssh-remote%2Bgos02501e@172.16.225.115/home/gos02501e/smart-evidence/notebooks/AnnotateConcepts.ipynb#ch0000004vscode-remote?line=44'>45</a>\u001b[0m document_batch \u001b[39m=\u001b[39m []\n",
                        "File \u001b[0;32m~/smart-evidence/haystack-repo/haystack/document_stores/elasticsearch.py:597\u001b[0m, in \u001b[0;36mElasticsearchDocumentStore.write_documents\u001b[0;34m(self, documents, index, batch_size, duplicate_documents, headers)\u001b[0m\n\u001b[1;32m    <a href='file:///home/gos02501e/smart-evidence/haystack-repo/haystack/document_stores/elasticsearch.py?line=594'>595</a>\u001b[0m     \u001b[39m# Pass batch_size number of documents to bulk\u001b[39;00m\n\u001b[1;32m    <a href='file:///home/gos02501e/smart-evidence/haystack-repo/haystack/document_stores/elasticsearch.py?line=595'>596</a>\u001b[0m     \u001b[39mif\u001b[39;00m \u001b[39mlen\u001b[39m(documents_to_index) \u001b[39m%\u001b[39m batch_size \u001b[39m==\u001b[39m \u001b[39m0\u001b[39m:\n\u001b[0;32m--> <a href='file:///home/gos02501e/smart-evidence/haystack-repo/haystack/document_stores/elasticsearch.py?line=596'>597</a>\u001b[0m         bulk(\u001b[39mself\u001b[39;49m\u001b[39m.\u001b[39;49mclient, documents_to_index, request_timeout\u001b[39m=\u001b[39;49m\u001b[39m300\u001b[39;49m, refresh\u001b[39m=\u001b[39;49m\u001b[39mself\u001b[39;49m\u001b[39m.\u001b[39;49mrefresh_type, headers\u001b[39m=\u001b[39;49mheaders)\n\u001b[1;32m    <a href='file:///home/gos02501e/smart-evidence/haystack-repo/haystack/document_stores/elasticsearch.py?line=597'>598</a>\u001b[0m         documents_to_index \u001b[39m=\u001b[39m []\n\u001b[1;32m    <a href='file:///home/gos02501e/smart-evidence/haystack-repo/haystack/document_stores/elasticsearch.py?line=599'>600</a>\u001b[0m \u001b[39mif\u001b[39;00m documents_to_index:\n",
                        "File \u001b[0;32m~/.cache/pypoetry/virtualenvs/smart-evidence-zrd-iDQT-py3.8/lib/python3.8/site-packages/elasticsearch/helpers/actions.py:390\u001b[0m, in \u001b[0;36mbulk\u001b[0;34m(client, actions, stats_only, *args, **kwargs)\u001b[0m\n\u001b[1;32m    <a href='file:///home/gos02501e/.cache/pypoetry/virtualenvs/smart-evidence-zrd-iDQT-py3.8/lib/python3.8/site-packages/elasticsearch/helpers/actions.py?line=387'>388</a>\u001b[0m \u001b[39m# make streaming_bulk yield successful results so we can count them\u001b[39;00m\n\u001b[1;32m    <a href='file:///home/gos02501e/.cache/pypoetry/virtualenvs/smart-evidence-zrd-iDQT-py3.8/lib/python3.8/site-packages/elasticsearch/helpers/actions.py?line=388'>389</a>\u001b[0m kwargs[\u001b[39m\"\u001b[39m\u001b[39myield_ok\u001b[39m\u001b[39m\"\u001b[39m] \u001b[39m=\u001b[39m \u001b[39mTrue\u001b[39;00m\n\u001b[0;32m--> <a href='file:///home/gos02501e/.cache/pypoetry/virtualenvs/smart-evidence-zrd-iDQT-py3.8/lib/python3.8/site-packages/elasticsearch/helpers/actions.py?line=389'>390</a>\u001b[0m \u001b[39mfor\u001b[39;00m ok, item \u001b[39min\u001b[39;00m streaming_bulk(client, actions, \u001b[39m*\u001b[39margs, \u001b[39m*\u001b[39m\u001b[39m*\u001b[39mkwargs):\n\u001b[1;32m    <a href='file:///home/gos02501e/.cache/pypoetry/virtualenvs/smart-evidence-zrd-iDQT-py3.8/lib/python3.8/site-packages/elasticsearch/helpers/actions.py?line=390'>391</a>\u001b[0m     \u001b[39m# go through request-response pairs and detect failures\u001b[39;00m\n\u001b[1;32m    <a href='file:///home/gos02501e/.cache/pypoetry/virtualenvs/smart-evidence-zrd-iDQT-py3.8/lib/python3.8/site-packages/elasticsearch/helpers/actions.py?line=391'>392</a>\u001b[0m     \u001b[39mif\u001b[39;00m \u001b[39mnot\u001b[39;00m ok:\n\u001b[1;32m    <a href='file:///home/gos02501e/.cache/pypoetry/virtualenvs/smart-evidence-zrd-iDQT-py3.8/lib/python3.8/site-packages/elasticsearch/helpers/actions.py?line=392'>393</a>\u001b[0m         \u001b[39mif\u001b[39;00m \u001b[39mnot\u001b[39;00m stats_only:\n",
                        "File \u001b[0;32m~/.cache/pypoetry/virtualenvs/smart-evidence-zrd-iDQT-py3.8/lib/python3.8/site-packages/elasticsearch/helpers/actions.py:311\u001b[0m, in \u001b[0;36mstreaming_bulk\u001b[0;34m(client, actions, chunk_size, max_chunk_bytes, raise_on_error, expand_action_callback, raise_on_exception, max_retries, initial_backoff, max_backoff, yield_ok, *args, **kwargs)\u001b[0m\n\u001b[1;32m    <a href='file:///home/gos02501e/.cache/pypoetry/virtualenvs/smart-evidence-zrd-iDQT-py3.8/lib/python3.8/site-packages/elasticsearch/helpers/actions.py?line=307'>308</a>\u001b[0m     time\u001b[39m.\u001b[39msleep(\u001b[39mmin\u001b[39m(max_backoff, initial_backoff \u001b[39m*\u001b[39m \u001b[39m2\u001b[39m \u001b[39m*\u001b[39m\u001b[39m*\u001b[39m (attempt \u001b[39m-\u001b[39m \u001b[39m1\u001b[39m)))\n\u001b[1;32m    <a href='file:///home/gos02501e/.cache/pypoetry/virtualenvs/smart-evidence-zrd-iDQT-py3.8/lib/python3.8/site-packages/elasticsearch/helpers/actions.py?line=309'>310</a>\u001b[0m \u001b[39mtry\u001b[39;00m:\n\u001b[0;32m--> <a href='file:///home/gos02501e/.cache/pypoetry/virtualenvs/smart-evidence-zrd-iDQT-py3.8/lib/python3.8/site-packages/elasticsearch/helpers/actions.py?line=310'>311</a>\u001b[0m     \u001b[39mfor\u001b[39;00m data, (ok, info) \u001b[39min\u001b[39;00m \u001b[39mzip\u001b[39m(\n\u001b[1;32m    <a href='file:///home/gos02501e/.cache/pypoetry/virtualenvs/smart-evidence-zrd-iDQT-py3.8/lib/python3.8/site-packages/elasticsearch/helpers/actions.py?line=311'>312</a>\u001b[0m         bulk_data,\n\u001b[1;32m    <a href='file:///home/gos02501e/.cache/pypoetry/virtualenvs/smart-evidence-zrd-iDQT-py3.8/lib/python3.8/site-packages/elasticsearch/helpers/actions.py?line=312'>313</a>\u001b[0m         _process_bulk_chunk(\n\u001b[1;32m    <a href='file:///home/gos02501e/.cache/pypoetry/virtualenvs/smart-evidence-zrd-iDQT-py3.8/lib/python3.8/site-packages/elasticsearch/helpers/actions.py?line=313'>314</a>\u001b[0m             client,\n\u001b[1;32m    <a href='file:///home/gos02501e/.cache/pypoetry/virtualenvs/smart-evidence-zrd-iDQT-py3.8/lib/python3.8/site-packages/elasticsearch/helpers/actions.py?line=314'>315</a>\u001b[0m             bulk_actions,\n\u001b[1;32m    <a href='file:///home/gos02501e/.cache/pypoetry/virtualenvs/smart-evidence-zrd-iDQT-py3.8/lib/python3.8/site-packages/elasticsearch/helpers/actions.py?line=315'>316</a>\u001b[0m             bulk_data,\n\u001b[1;32m    <a href='file:///home/gos02501e/.cache/pypoetry/virtualenvs/smart-evidence-zrd-iDQT-py3.8/lib/python3.8/site-packages/elasticsearch/helpers/actions.py?line=316'>317</a>\u001b[0m             raise_on_exception,\n\u001b[1;32m    <a href='file:///home/gos02501e/.cache/pypoetry/virtualenvs/smart-evidence-zrd-iDQT-py3.8/lib/python3.8/site-packages/elasticsearch/helpers/actions.py?line=317'>318</a>\u001b[0m             raise_on_error,\n\u001b[1;32m    <a href='file:///home/gos02501e/.cache/pypoetry/virtualenvs/smart-evidence-zrd-iDQT-py3.8/lib/python3.8/site-packages/elasticsearch/helpers/actions.py?line=318'>319</a>\u001b[0m             \u001b[39m*\u001b[39margs,\n\u001b[1;32m    <a href='file:///home/gos02501e/.cache/pypoetry/virtualenvs/smart-evidence-zrd-iDQT-py3.8/lib/python3.8/site-packages/elasticsearch/helpers/actions.py?line=319'>320</a>\u001b[0m             \u001b[39m*\u001b[39m\u001b[39m*\u001b[39mkwargs\n\u001b[1;32m    <a href='file:///home/gos02501e/.cache/pypoetry/virtualenvs/smart-evidence-zrd-iDQT-py3.8/lib/python3.8/site-packages/elasticsearch/helpers/actions.py?line=320'>321</a>\u001b[0m         ),\n\u001b[1;32m    <a href='file:///home/gos02501e/.cache/pypoetry/virtualenvs/smart-evidence-zrd-iDQT-py3.8/lib/python3.8/site-packages/elasticsearch/helpers/actions.py?line=321'>322</a>\u001b[0m     ):\n\u001b[1;32m    <a href='file:///home/gos02501e/.cache/pypoetry/virtualenvs/smart-evidence-zrd-iDQT-py3.8/lib/python3.8/site-packages/elasticsearch/helpers/actions.py?line=323'>324</a>\u001b[0m         \u001b[39mif\u001b[39;00m \u001b[39mnot\u001b[39;00m ok:\n\u001b[1;32m    <a href='file:///home/gos02501e/.cache/pypoetry/virtualenvs/smart-evidence-zrd-iDQT-py3.8/lib/python3.8/site-packages/elasticsearch/helpers/actions.py?line=324'>325</a>\u001b[0m             action, info \u001b[39m=\u001b[39m info\u001b[39m.\u001b[39mpopitem()\n",
                        "File \u001b[0;32m~/.cache/pypoetry/virtualenvs/smart-evidence-zrd-iDQT-py3.8/lib/python3.8/site-packages/elasticsearch/helpers/actions.py:235\u001b[0m, in \u001b[0;36m_process_bulk_chunk\u001b[0;34m(client, bulk_actions, bulk_data, raise_on_exception, raise_on_error, *args, **kwargs)\u001b[0m\n\u001b[1;32m    <a href='file:///home/gos02501e/.cache/pypoetry/virtualenvs/smart-evidence-zrd-iDQT-py3.8/lib/python3.8/site-packages/elasticsearch/helpers/actions.py?line=229'>230</a>\u001b[0m \u001b[39m\"\"\"\u001b[39;00m\n\u001b[1;32m    <a href='file:///home/gos02501e/.cache/pypoetry/virtualenvs/smart-evidence-zrd-iDQT-py3.8/lib/python3.8/site-packages/elasticsearch/helpers/actions.py?line=230'>231</a>\u001b[0m \u001b[39mSend a bulk request to elasticsearch and process the output.\u001b[39;00m\n\u001b[1;32m    <a href='file:///home/gos02501e/.cache/pypoetry/virtualenvs/smart-evidence-zrd-iDQT-py3.8/lib/python3.8/site-packages/elasticsearch/helpers/actions.py?line=231'>232</a>\u001b[0m \u001b[39m\"\"\"\u001b[39;00m\n\u001b[1;32m    <a href='file:///home/gos02501e/.cache/pypoetry/virtualenvs/smart-evidence-zrd-iDQT-py3.8/lib/python3.8/site-packages/elasticsearch/helpers/actions.py?line=232'>233</a>\u001b[0m \u001b[39mtry\u001b[39;00m:\n\u001b[1;32m    <a href='file:///home/gos02501e/.cache/pypoetry/virtualenvs/smart-evidence-zrd-iDQT-py3.8/lib/python3.8/site-packages/elasticsearch/helpers/actions.py?line=233'>234</a>\u001b[0m     \u001b[39m# send the actual request\u001b[39;00m\n\u001b[0;32m--> <a href='file:///home/gos02501e/.cache/pypoetry/virtualenvs/smart-evidence-zrd-iDQT-py3.8/lib/python3.8/site-packages/elasticsearch/helpers/actions.py?line=234'>235</a>\u001b[0m     resp \u001b[39m=\u001b[39m client\u001b[39m.\u001b[39;49mbulk(\u001b[39m\"\u001b[39;49m\u001b[39m\\n\u001b[39;49;00m\u001b[39m\"\u001b[39;49m\u001b[39m.\u001b[39;49mjoin(bulk_actions) \u001b[39m+\u001b[39;49m \u001b[39m\"\u001b[39;49m\u001b[39m\\n\u001b[39;49;00m\u001b[39m\"\u001b[39;49m, \u001b[39m*\u001b[39;49margs, \u001b[39m*\u001b[39;49m\u001b[39m*\u001b[39;49mkwargs)\n\u001b[1;32m    <a href='file:///home/gos02501e/.cache/pypoetry/virtualenvs/smart-evidence-zrd-iDQT-py3.8/lib/python3.8/site-packages/elasticsearch/helpers/actions.py?line=235'>236</a>\u001b[0m \u001b[39mexcept\u001b[39;00m TransportError \u001b[39mas\u001b[39;00m e:\n\u001b[1;32m    <a href='file:///home/gos02501e/.cache/pypoetry/virtualenvs/smart-evidence-zrd-iDQT-py3.8/lib/python3.8/site-packages/elasticsearch/helpers/actions.py?line=236'>237</a>\u001b[0m     gen \u001b[39m=\u001b[39m _process_bulk_chunk_error(\n\u001b[1;32m    <a href='file:///home/gos02501e/.cache/pypoetry/virtualenvs/smart-evidence-zrd-iDQT-py3.8/lib/python3.8/site-packages/elasticsearch/helpers/actions.py?line=237'>238</a>\u001b[0m         error\u001b[39m=\u001b[39me,\n\u001b[1;32m    <a href='file:///home/gos02501e/.cache/pypoetry/virtualenvs/smart-evidence-zrd-iDQT-py3.8/lib/python3.8/site-packages/elasticsearch/helpers/actions.py?line=238'>239</a>\u001b[0m         bulk_data\u001b[39m=\u001b[39mbulk_data,\n\u001b[1;32m    <a href='file:///home/gos02501e/.cache/pypoetry/virtualenvs/smart-evidence-zrd-iDQT-py3.8/lib/python3.8/site-packages/elasticsearch/helpers/actions.py?line=239'>240</a>\u001b[0m         raise_on_exception\u001b[39m=\u001b[39mraise_on_exception,\n\u001b[1;32m    <a href='file:///home/gos02501e/.cache/pypoetry/virtualenvs/smart-evidence-zrd-iDQT-py3.8/lib/python3.8/site-packages/elasticsearch/helpers/actions.py?line=240'>241</a>\u001b[0m         raise_on_error\u001b[39m=\u001b[39mraise_on_error,\n\u001b[1;32m    <a href='file:///home/gos02501e/.cache/pypoetry/virtualenvs/smart-evidence-zrd-iDQT-py3.8/lib/python3.8/site-packages/elasticsearch/helpers/actions.py?line=241'>242</a>\u001b[0m     )\n",
                        "File \u001b[0;32m~/.cache/pypoetry/virtualenvs/smart-evidence-zrd-iDQT-py3.8/lib/python3.8/site-packages/elasticsearch/client/utils.py:152\u001b[0m, in \u001b[0;36mquery_params.<locals>._wrapper.<locals>._wrapped\u001b[0;34m(*args, **kwargs)\u001b[0m\n\u001b[1;32m    <a href='file:///home/gos02501e/.cache/pypoetry/virtualenvs/smart-evidence-zrd-iDQT-py3.8/lib/python3.8/site-packages/elasticsearch/client/utils.py?line=149'>150</a>\u001b[0m     \u001b[39mif\u001b[39;00m p \u001b[39min\u001b[39;00m kwargs:\n\u001b[1;32m    <a href='file:///home/gos02501e/.cache/pypoetry/virtualenvs/smart-evidence-zrd-iDQT-py3.8/lib/python3.8/site-packages/elasticsearch/client/utils.py?line=150'>151</a>\u001b[0m         params[p] \u001b[39m=\u001b[39m kwargs\u001b[39m.\u001b[39mpop(p)\n\u001b[0;32m--> <a href='file:///home/gos02501e/.cache/pypoetry/virtualenvs/smart-evidence-zrd-iDQT-py3.8/lib/python3.8/site-packages/elasticsearch/client/utils.py?line=151'>152</a>\u001b[0m \u001b[39mreturn\u001b[39;00m func(\u001b[39m*\u001b[39;49margs, params\u001b[39m=\u001b[39;49mparams, headers\u001b[39m=\u001b[39;49mheaders, \u001b[39m*\u001b[39;49m\u001b[39m*\u001b[39;49mkwargs)\n",
                        "File \u001b[0;32m~/.cache/pypoetry/virtualenvs/smart-evidence-zrd-iDQT-py3.8/lib/python3.8/site-packages/elasticsearch/client/__init__.py:455\u001b[0m, in \u001b[0;36mElasticsearch.bulk\u001b[0;34m(self, body, index, doc_type, params, headers)\u001b[0m\n\u001b[1;32m    <a href='file:///home/gos02501e/.cache/pypoetry/virtualenvs/smart-evidence-zrd-iDQT-py3.8/lib/python3.8/site-packages/elasticsearch/client/__init__.py?line=451'>452</a>\u001b[0m     \u001b[39mraise\u001b[39;00m \u001b[39mValueError\u001b[39;00m(\u001b[39m\"\u001b[39m\u001b[39mEmpty value passed for a required argument \u001b[39m\u001b[39m'\u001b[39m\u001b[39mbody\u001b[39m\u001b[39m'\u001b[39m\u001b[39m.\u001b[39m\u001b[39m\"\u001b[39m)\n\u001b[1;32m    <a href='file:///home/gos02501e/.cache/pypoetry/virtualenvs/smart-evidence-zrd-iDQT-py3.8/lib/python3.8/site-packages/elasticsearch/client/__init__.py?line=453'>454</a>\u001b[0m body \u001b[39m=\u001b[39m _bulk_body(\u001b[39mself\u001b[39m\u001b[39m.\u001b[39mtransport\u001b[39m.\u001b[39mserializer, body)\n\u001b[0;32m--> <a href='file:///home/gos02501e/.cache/pypoetry/virtualenvs/smart-evidence-zrd-iDQT-py3.8/lib/python3.8/site-packages/elasticsearch/client/__init__.py?line=454'>455</a>\u001b[0m \u001b[39mreturn\u001b[39;00m \u001b[39mself\u001b[39;49m\u001b[39m.\u001b[39;49mtransport\u001b[39m.\u001b[39;49mperform_request(\n\u001b[1;32m    <a href='file:///home/gos02501e/.cache/pypoetry/virtualenvs/smart-evidence-zrd-iDQT-py3.8/lib/python3.8/site-packages/elasticsearch/client/__init__.py?line=455'>456</a>\u001b[0m     \u001b[39m\"\u001b[39;49m\u001b[39mPOST\u001b[39;49m\u001b[39m\"\u001b[39;49m,\n\u001b[1;32m    <a href='file:///home/gos02501e/.cache/pypoetry/virtualenvs/smart-evidence-zrd-iDQT-py3.8/lib/python3.8/site-packages/elasticsearch/client/__init__.py?line=456'>457</a>\u001b[0m     _make_path(index, doc_type, \u001b[39m\"\u001b[39;49m\u001b[39m_bulk\u001b[39;49m\u001b[39m\"\u001b[39;49m),\n\u001b[1;32m    <a href='file:///home/gos02501e/.cache/pypoetry/virtualenvs/smart-evidence-zrd-iDQT-py3.8/lib/python3.8/site-packages/elasticsearch/client/__init__.py?line=457'>458</a>\u001b[0m     params\u001b[39m=\u001b[39;49mparams,\n\u001b[1;32m    <a href='file:///home/gos02501e/.cache/pypoetry/virtualenvs/smart-evidence-zrd-iDQT-py3.8/lib/python3.8/site-packages/elasticsearch/client/__init__.py?line=458'>459</a>\u001b[0m     headers\u001b[39m=\u001b[39;49mheaders,\n\u001b[1;32m    <a href='file:///home/gos02501e/.cache/pypoetry/virtualenvs/smart-evidence-zrd-iDQT-py3.8/lib/python3.8/site-packages/elasticsearch/client/__init__.py?line=459'>460</a>\u001b[0m     body\u001b[39m=\u001b[39;49mbody,\n\u001b[1;32m    <a href='file:///home/gos02501e/.cache/pypoetry/virtualenvs/smart-evidence-zrd-iDQT-py3.8/lib/python3.8/site-packages/elasticsearch/client/__init__.py?line=460'>461</a>\u001b[0m )\n",
                        "File \u001b[0;32m~/.cache/pypoetry/virtualenvs/smart-evidence-zrd-iDQT-py3.8/lib/python3.8/site-packages/elasticsearch/transport.py:358\u001b[0m, in \u001b[0;36mTransport.perform_request\u001b[0;34m(self, method, url, headers, params, body)\u001b[0m\n\u001b[1;32m    <a href='file:///home/gos02501e/.cache/pypoetry/virtualenvs/smart-evidence-zrd-iDQT-py3.8/lib/python3.8/site-packages/elasticsearch/transport.py?line=354'>355</a>\u001b[0m connection \u001b[39m=\u001b[39m \u001b[39mself\u001b[39m\u001b[39m.\u001b[39mget_connection()\n\u001b[1;32m    <a href='file:///home/gos02501e/.cache/pypoetry/virtualenvs/smart-evidence-zrd-iDQT-py3.8/lib/python3.8/site-packages/elasticsearch/transport.py?line=356'>357</a>\u001b[0m \u001b[39mtry\u001b[39;00m:\n\u001b[0;32m--> <a href='file:///home/gos02501e/.cache/pypoetry/virtualenvs/smart-evidence-zrd-iDQT-py3.8/lib/python3.8/site-packages/elasticsearch/transport.py?line=357'>358</a>\u001b[0m     status, headers_response, data \u001b[39m=\u001b[39m connection\u001b[39m.\u001b[39;49mperform_request(\n\u001b[1;32m    <a href='file:///home/gos02501e/.cache/pypoetry/virtualenvs/smart-evidence-zrd-iDQT-py3.8/lib/python3.8/site-packages/elasticsearch/transport.py?line=358'>359</a>\u001b[0m         method,\n\u001b[1;32m    <a href='file:///home/gos02501e/.cache/pypoetry/virtualenvs/smart-evidence-zrd-iDQT-py3.8/lib/python3.8/site-packages/elasticsearch/transport.py?line=359'>360</a>\u001b[0m         url,\n\u001b[1;32m    <a href='file:///home/gos02501e/.cache/pypoetry/virtualenvs/smart-evidence-zrd-iDQT-py3.8/lib/python3.8/site-packages/elasticsearch/transport.py?line=360'>361</a>\u001b[0m         params,\n\u001b[1;32m    <a href='file:///home/gos02501e/.cache/pypoetry/virtualenvs/smart-evidence-zrd-iDQT-py3.8/lib/python3.8/site-packages/elasticsearch/transport.py?line=361'>362</a>\u001b[0m         body,\n\u001b[1;32m    <a href='file:///home/gos02501e/.cache/pypoetry/virtualenvs/smart-evidence-zrd-iDQT-py3.8/lib/python3.8/site-packages/elasticsearch/transport.py?line=362'>363</a>\u001b[0m         headers\u001b[39m=\u001b[39;49mheaders,\n\u001b[1;32m    <a href='file:///home/gos02501e/.cache/pypoetry/virtualenvs/smart-evidence-zrd-iDQT-py3.8/lib/python3.8/site-packages/elasticsearch/transport.py?line=363'>364</a>\u001b[0m         ignore\u001b[39m=\u001b[39;49mignore,\n\u001b[1;32m    <a href='file:///home/gos02501e/.cache/pypoetry/virtualenvs/smart-evidence-zrd-iDQT-py3.8/lib/python3.8/site-packages/elasticsearch/transport.py?line=364'>365</a>\u001b[0m         timeout\u001b[39m=\u001b[39;49mtimeout,\n\u001b[1;32m    <a href='file:///home/gos02501e/.cache/pypoetry/virtualenvs/smart-evidence-zrd-iDQT-py3.8/lib/python3.8/site-packages/elasticsearch/transport.py?line=365'>366</a>\u001b[0m     )\n\u001b[1;32m    <a href='file:///home/gos02501e/.cache/pypoetry/virtualenvs/smart-evidence-zrd-iDQT-py3.8/lib/python3.8/site-packages/elasticsearch/transport.py?line=367'>368</a>\u001b[0m \u001b[39mexcept\u001b[39;00m TransportError \u001b[39mas\u001b[39;00m e:\n\u001b[1;32m    <a href='file:///home/gos02501e/.cache/pypoetry/virtualenvs/smart-evidence-zrd-iDQT-py3.8/lib/python3.8/site-packages/elasticsearch/transport.py?line=368'>369</a>\u001b[0m     \u001b[39mif\u001b[39;00m method \u001b[39m==\u001b[39m \u001b[39m\"\u001b[39m\u001b[39mHEAD\u001b[39m\u001b[39m\"\u001b[39m \u001b[39mand\u001b[39;00m e\u001b[39m.\u001b[39mstatus_code \u001b[39m==\u001b[39m \u001b[39m404\u001b[39m:\n",
                        "File \u001b[0;32m~/.cache/pypoetry/virtualenvs/smart-evidence-zrd-iDQT-py3.8/lib/python3.8/site-packages/elasticsearch/connection/http_requests.py:161\u001b[0m, in \u001b[0;36mRequestsHttpConnection.perform_request\u001b[0;34m(self, method, url, params, body, timeout, ignore, headers)\u001b[0m\n\u001b[1;32m    <a href='file:///home/gos02501e/.cache/pypoetry/virtualenvs/smart-evidence-zrd-iDQT-py3.8/lib/python3.8/site-packages/elasticsearch/connection/http_requests.py?line=158'>159</a>\u001b[0m send_kwargs\u001b[39m.\u001b[39mupdate(settings)\n\u001b[1;32m    <a href='file:///home/gos02501e/.cache/pypoetry/virtualenvs/smart-evidence-zrd-iDQT-py3.8/lib/python3.8/site-packages/elasticsearch/connection/http_requests.py?line=159'>160</a>\u001b[0m \u001b[39mtry\u001b[39;00m:\n\u001b[0;32m--> <a href='file:///home/gos02501e/.cache/pypoetry/virtualenvs/smart-evidence-zrd-iDQT-py3.8/lib/python3.8/site-packages/elasticsearch/connection/http_requests.py?line=160'>161</a>\u001b[0m     response \u001b[39m=\u001b[39m \u001b[39mself\u001b[39;49m\u001b[39m.\u001b[39;49msession\u001b[39m.\u001b[39;49msend(prepared_request, \u001b[39m*\u001b[39;49m\u001b[39m*\u001b[39;49msend_kwargs)\n\u001b[1;32m    <a href='file:///home/gos02501e/.cache/pypoetry/virtualenvs/smart-evidence-zrd-iDQT-py3.8/lib/python3.8/site-packages/elasticsearch/connection/http_requests.py?line=161'>162</a>\u001b[0m     duration \u001b[39m=\u001b[39m time\u001b[39m.\u001b[39mtime() \u001b[39m-\u001b[39m start\n\u001b[1;32m    <a href='file:///home/gos02501e/.cache/pypoetry/virtualenvs/smart-evidence-zrd-iDQT-py3.8/lib/python3.8/site-packages/elasticsearch/connection/http_requests.py?line=162'>163</a>\u001b[0m     raw_data \u001b[39m=\u001b[39m response\u001b[39m.\u001b[39mcontent\u001b[39m.\u001b[39mdecode(\u001b[39m\"\u001b[39m\u001b[39mutf-8\u001b[39m\u001b[39m\"\u001b[39m, \u001b[39m\"\u001b[39m\u001b[39msurrogatepass\u001b[39m\u001b[39m\"\u001b[39m)\n",
                        "File \u001b[0;32m~/.cache/pypoetry/virtualenvs/smart-evidence-zrd-iDQT-py3.8/lib/python3.8/site-packages/requests/sessions.py:645\u001b[0m, in \u001b[0;36mSession.send\u001b[0;34m(self, request, **kwargs)\u001b[0m\n\u001b[1;32m    <a href='file:///home/gos02501e/.cache/pypoetry/virtualenvs/smart-evidence-zrd-iDQT-py3.8/lib/python3.8/site-packages/requests/sessions.py?line=641'>642</a>\u001b[0m start \u001b[39m=\u001b[39m preferred_clock()\n\u001b[1;32m    <a href='file:///home/gos02501e/.cache/pypoetry/virtualenvs/smart-evidence-zrd-iDQT-py3.8/lib/python3.8/site-packages/requests/sessions.py?line=643'>644</a>\u001b[0m \u001b[39m# Send the request\u001b[39;00m\n\u001b[0;32m--> <a href='file:///home/gos02501e/.cache/pypoetry/virtualenvs/smart-evidence-zrd-iDQT-py3.8/lib/python3.8/site-packages/requests/sessions.py?line=644'>645</a>\u001b[0m r \u001b[39m=\u001b[39m adapter\u001b[39m.\u001b[39;49msend(request, \u001b[39m*\u001b[39;49m\u001b[39m*\u001b[39;49mkwargs)\n\u001b[1;32m    <a href='file:///home/gos02501e/.cache/pypoetry/virtualenvs/smart-evidence-zrd-iDQT-py3.8/lib/python3.8/site-packages/requests/sessions.py?line=646'>647</a>\u001b[0m \u001b[39m# Total elapsed time of the request (approximately)\u001b[39;00m\n\u001b[1;32m    <a href='file:///home/gos02501e/.cache/pypoetry/virtualenvs/smart-evidence-zrd-iDQT-py3.8/lib/python3.8/site-packages/requests/sessions.py?line=647'>648</a>\u001b[0m elapsed \u001b[39m=\u001b[39m preferred_clock() \u001b[39m-\u001b[39m start\n",
                        "File \u001b[0;32m~/.cache/pypoetry/virtualenvs/smart-evidence-zrd-iDQT-py3.8/lib/python3.8/site-packages/requests/adapters.py:440\u001b[0m, in \u001b[0;36mHTTPAdapter.send\u001b[0;34m(self, request, stream, timeout, verify, cert, proxies)\u001b[0m\n\u001b[1;32m    <a href='file:///home/gos02501e/.cache/pypoetry/virtualenvs/smart-evidence-zrd-iDQT-py3.8/lib/python3.8/site-packages/requests/adapters.py?line=437'>438</a>\u001b[0m \u001b[39mtry\u001b[39;00m:\n\u001b[1;32m    <a href='file:///home/gos02501e/.cache/pypoetry/virtualenvs/smart-evidence-zrd-iDQT-py3.8/lib/python3.8/site-packages/requests/adapters.py?line=438'>439</a>\u001b[0m     \u001b[39mif\u001b[39;00m \u001b[39mnot\u001b[39;00m chunked:\n\u001b[0;32m--> <a href='file:///home/gos02501e/.cache/pypoetry/virtualenvs/smart-evidence-zrd-iDQT-py3.8/lib/python3.8/site-packages/requests/adapters.py?line=439'>440</a>\u001b[0m         resp \u001b[39m=\u001b[39m conn\u001b[39m.\u001b[39;49murlopen(\n\u001b[1;32m    <a href='file:///home/gos02501e/.cache/pypoetry/virtualenvs/smart-evidence-zrd-iDQT-py3.8/lib/python3.8/site-packages/requests/adapters.py?line=440'>441</a>\u001b[0m             method\u001b[39m=\u001b[39;49mrequest\u001b[39m.\u001b[39;49mmethod,\n\u001b[1;32m    <a href='file:///home/gos02501e/.cache/pypoetry/virtualenvs/smart-evidence-zrd-iDQT-py3.8/lib/python3.8/site-packages/requests/adapters.py?line=441'>442</a>\u001b[0m             url\u001b[39m=\u001b[39;49murl,\n\u001b[1;32m    <a href='file:///home/gos02501e/.cache/pypoetry/virtualenvs/smart-evidence-zrd-iDQT-py3.8/lib/python3.8/site-packages/requests/adapters.py?line=442'>443</a>\u001b[0m             body\u001b[39m=\u001b[39;49mrequest\u001b[39m.\u001b[39;49mbody,\n\u001b[1;32m    <a href='file:///home/gos02501e/.cache/pypoetry/virtualenvs/smart-evidence-zrd-iDQT-py3.8/lib/python3.8/site-packages/requests/adapters.py?line=443'>444</a>\u001b[0m             headers\u001b[39m=\u001b[39;49mrequest\u001b[39m.\u001b[39;49mheaders,\n\u001b[1;32m    <a href='file:///home/gos02501e/.cache/pypoetry/virtualenvs/smart-evidence-zrd-iDQT-py3.8/lib/python3.8/site-packages/requests/adapters.py?line=444'>445</a>\u001b[0m             redirect\u001b[39m=\u001b[39;49m\u001b[39mFalse\u001b[39;49;00m,\n\u001b[1;32m    <a href='file:///home/gos02501e/.cache/pypoetry/virtualenvs/smart-evidence-zrd-iDQT-py3.8/lib/python3.8/site-packages/requests/adapters.py?line=445'>446</a>\u001b[0m             assert_same_host\u001b[39m=\u001b[39;49m\u001b[39mFalse\u001b[39;49;00m,\n\u001b[1;32m    <a href='file:///home/gos02501e/.cache/pypoetry/virtualenvs/smart-evidence-zrd-iDQT-py3.8/lib/python3.8/site-packages/requests/adapters.py?line=446'>447</a>\u001b[0m             preload_content\u001b[39m=\u001b[39;49m\u001b[39mFalse\u001b[39;49;00m,\n\u001b[1;32m    <a href='file:///home/gos02501e/.cache/pypoetry/virtualenvs/smart-evidence-zrd-iDQT-py3.8/lib/python3.8/site-packages/requests/adapters.py?line=447'>448</a>\u001b[0m             decode_content\u001b[39m=\u001b[39;49m\u001b[39mFalse\u001b[39;49;00m,\n\u001b[1;32m    <a href='file:///home/gos02501e/.cache/pypoetry/virtualenvs/smart-evidence-zrd-iDQT-py3.8/lib/python3.8/site-packages/requests/adapters.py?line=448'>449</a>\u001b[0m             retries\u001b[39m=\u001b[39;49m\u001b[39mself\u001b[39;49m\u001b[39m.\u001b[39;49mmax_retries,\n\u001b[1;32m    <a href='file:///home/gos02501e/.cache/pypoetry/virtualenvs/smart-evidence-zrd-iDQT-py3.8/lib/python3.8/site-packages/requests/adapters.py?line=449'>450</a>\u001b[0m             timeout\u001b[39m=\u001b[39;49mtimeout\n\u001b[1;32m    <a href='file:///home/gos02501e/.cache/pypoetry/virtualenvs/smart-evidence-zrd-iDQT-py3.8/lib/python3.8/site-packages/requests/adapters.py?line=450'>451</a>\u001b[0m         )\n\u001b[1;32m    <a href='file:///home/gos02501e/.cache/pypoetry/virtualenvs/smart-evidence-zrd-iDQT-py3.8/lib/python3.8/site-packages/requests/adapters.py?line=452'>453</a>\u001b[0m     \u001b[39m# Send the request.\u001b[39;00m\n\u001b[1;32m    <a href='file:///home/gos02501e/.cache/pypoetry/virtualenvs/smart-evidence-zrd-iDQT-py3.8/lib/python3.8/site-packages/requests/adapters.py?line=453'>454</a>\u001b[0m     \u001b[39melse\u001b[39;00m:\n\u001b[1;32m    <a href='file:///home/gos02501e/.cache/pypoetry/virtualenvs/smart-evidence-zrd-iDQT-py3.8/lib/python3.8/site-packages/requests/adapters.py?line=454'>455</a>\u001b[0m         \u001b[39mif\u001b[39;00m \u001b[39mhasattr\u001b[39m(conn, \u001b[39m'\u001b[39m\u001b[39mproxy_pool\u001b[39m\u001b[39m'\u001b[39m):\n",
                        "File \u001b[0;32m~/.cache/pypoetry/virtualenvs/smart-evidence-zrd-iDQT-py3.8/lib/python3.8/site-packages/urllib3/connectionpool.py:703\u001b[0m, in \u001b[0;36mHTTPConnectionPool.urlopen\u001b[0;34m(self, method, url, body, headers, retries, redirect, assert_same_host, timeout, pool_timeout, release_conn, chunked, body_pos, **response_kw)\u001b[0m\n\u001b[1;32m    <a href='file:///home/gos02501e/.cache/pypoetry/virtualenvs/smart-evidence-zrd-iDQT-py3.8/lib/python3.8/site-packages/urllib3/connectionpool.py?line=699'>700</a>\u001b[0m     \u001b[39mself\u001b[39m\u001b[39m.\u001b[39m_prepare_proxy(conn)\n\u001b[1;32m    <a href='file:///home/gos02501e/.cache/pypoetry/virtualenvs/smart-evidence-zrd-iDQT-py3.8/lib/python3.8/site-packages/urllib3/connectionpool.py?line=701'>702</a>\u001b[0m \u001b[39m# Make the request on the httplib connection object.\u001b[39;00m\n\u001b[0;32m--> <a href='file:///home/gos02501e/.cache/pypoetry/virtualenvs/smart-evidence-zrd-iDQT-py3.8/lib/python3.8/site-packages/urllib3/connectionpool.py?line=702'>703</a>\u001b[0m httplib_response \u001b[39m=\u001b[39m \u001b[39mself\u001b[39;49m\u001b[39m.\u001b[39;49m_make_request(\n\u001b[1;32m    <a href='file:///home/gos02501e/.cache/pypoetry/virtualenvs/smart-evidence-zrd-iDQT-py3.8/lib/python3.8/site-packages/urllib3/connectionpool.py?line=703'>704</a>\u001b[0m     conn,\n\u001b[1;32m    <a href='file:///home/gos02501e/.cache/pypoetry/virtualenvs/smart-evidence-zrd-iDQT-py3.8/lib/python3.8/site-packages/urllib3/connectionpool.py?line=704'>705</a>\u001b[0m     method,\n\u001b[1;32m    <a href='file:///home/gos02501e/.cache/pypoetry/virtualenvs/smart-evidence-zrd-iDQT-py3.8/lib/python3.8/site-packages/urllib3/connectionpool.py?line=705'>706</a>\u001b[0m     url,\n\u001b[1;32m    <a href='file:///home/gos02501e/.cache/pypoetry/virtualenvs/smart-evidence-zrd-iDQT-py3.8/lib/python3.8/site-packages/urllib3/connectionpool.py?line=706'>707</a>\u001b[0m     timeout\u001b[39m=\u001b[39;49mtimeout_obj,\n\u001b[1;32m    <a href='file:///home/gos02501e/.cache/pypoetry/virtualenvs/smart-evidence-zrd-iDQT-py3.8/lib/python3.8/site-packages/urllib3/connectionpool.py?line=707'>708</a>\u001b[0m     body\u001b[39m=\u001b[39;49mbody,\n\u001b[1;32m    <a href='file:///home/gos02501e/.cache/pypoetry/virtualenvs/smart-evidence-zrd-iDQT-py3.8/lib/python3.8/site-packages/urllib3/connectionpool.py?line=708'>709</a>\u001b[0m     headers\u001b[39m=\u001b[39;49mheaders,\n\u001b[1;32m    <a href='file:///home/gos02501e/.cache/pypoetry/virtualenvs/smart-evidence-zrd-iDQT-py3.8/lib/python3.8/site-packages/urllib3/connectionpool.py?line=709'>710</a>\u001b[0m     chunked\u001b[39m=\u001b[39;49mchunked,\n\u001b[1;32m    <a href='file:///home/gos02501e/.cache/pypoetry/virtualenvs/smart-evidence-zrd-iDQT-py3.8/lib/python3.8/site-packages/urllib3/connectionpool.py?line=710'>711</a>\u001b[0m )\n\u001b[1;32m    <a href='file:///home/gos02501e/.cache/pypoetry/virtualenvs/smart-evidence-zrd-iDQT-py3.8/lib/python3.8/site-packages/urllib3/connectionpool.py?line=712'>713</a>\u001b[0m \u001b[39m# If we're going to release the connection in ``finally:``, then\u001b[39;00m\n\u001b[1;32m    <a href='file:///home/gos02501e/.cache/pypoetry/virtualenvs/smart-evidence-zrd-iDQT-py3.8/lib/python3.8/site-packages/urllib3/connectionpool.py?line=713'>714</a>\u001b[0m \u001b[39m# the response doesn't need to know about the connection. Otherwise\u001b[39;00m\n\u001b[1;32m    <a href='file:///home/gos02501e/.cache/pypoetry/virtualenvs/smart-evidence-zrd-iDQT-py3.8/lib/python3.8/site-packages/urllib3/connectionpool.py?line=714'>715</a>\u001b[0m \u001b[39m# it will also try to release it and we'll have a double-release\u001b[39;00m\n\u001b[1;32m    <a href='file:///home/gos02501e/.cache/pypoetry/virtualenvs/smart-evidence-zrd-iDQT-py3.8/lib/python3.8/site-packages/urllib3/connectionpool.py?line=715'>716</a>\u001b[0m \u001b[39m# mess.\u001b[39;00m\n\u001b[1;32m    <a href='file:///home/gos02501e/.cache/pypoetry/virtualenvs/smart-evidence-zrd-iDQT-py3.8/lib/python3.8/site-packages/urllib3/connectionpool.py?line=716'>717</a>\u001b[0m response_conn \u001b[39m=\u001b[39m conn \u001b[39mif\u001b[39;00m \u001b[39mnot\u001b[39;00m release_conn \u001b[39melse\u001b[39;00m \u001b[39mNone\u001b[39;00m\n",
                        "File \u001b[0;32m~/.cache/pypoetry/virtualenvs/smart-evidence-zrd-iDQT-py3.8/lib/python3.8/site-packages/urllib3/connectionpool.py:398\u001b[0m, in \u001b[0;36mHTTPConnectionPool._make_request\u001b[0;34m(self, conn, method, url, timeout, chunked, **httplib_request_kw)\u001b[0m\n\u001b[1;32m    <a href='file:///home/gos02501e/.cache/pypoetry/virtualenvs/smart-evidence-zrd-iDQT-py3.8/lib/python3.8/site-packages/urllib3/connectionpool.py?line=395'>396</a>\u001b[0m         conn\u001b[39m.\u001b[39mrequest_chunked(method, url, \u001b[39m*\u001b[39m\u001b[39m*\u001b[39mhttplib_request_kw)\n\u001b[1;32m    <a href='file:///home/gos02501e/.cache/pypoetry/virtualenvs/smart-evidence-zrd-iDQT-py3.8/lib/python3.8/site-packages/urllib3/connectionpool.py?line=396'>397</a>\u001b[0m     \u001b[39melse\u001b[39;00m:\n\u001b[0;32m--> <a href='file:///home/gos02501e/.cache/pypoetry/virtualenvs/smart-evidence-zrd-iDQT-py3.8/lib/python3.8/site-packages/urllib3/connectionpool.py?line=397'>398</a>\u001b[0m         conn\u001b[39m.\u001b[39;49mrequest(method, url, \u001b[39m*\u001b[39;49m\u001b[39m*\u001b[39;49mhttplib_request_kw)\n\u001b[1;32m    <a href='file:///home/gos02501e/.cache/pypoetry/virtualenvs/smart-evidence-zrd-iDQT-py3.8/lib/python3.8/site-packages/urllib3/connectionpool.py?line=399'>400</a>\u001b[0m \u001b[39m# We are swallowing BrokenPipeError (errno.EPIPE) since the server is\u001b[39;00m\n\u001b[1;32m    <a href='file:///home/gos02501e/.cache/pypoetry/virtualenvs/smart-evidence-zrd-iDQT-py3.8/lib/python3.8/site-packages/urllib3/connectionpool.py?line=400'>401</a>\u001b[0m \u001b[39m# legitimately able to close the connection after sending a valid response.\u001b[39;00m\n\u001b[1;32m    <a href='file:///home/gos02501e/.cache/pypoetry/virtualenvs/smart-evidence-zrd-iDQT-py3.8/lib/python3.8/site-packages/urllib3/connectionpool.py?line=401'>402</a>\u001b[0m \u001b[39m# With this behaviour, the received response is still readable.\u001b[39;00m\n\u001b[1;32m    <a href='file:///home/gos02501e/.cache/pypoetry/virtualenvs/smart-evidence-zrd-iDQT-py3.8/lib/python3.8/site-packages/urllib3/connectionpool.py?line=402'>403</a>\u001b[0m \u001b[39mexcept\u001b[39;00m \u001b[39mBrokenPipeError\u001b[39;00m:\n\u001b[1;32m    <a href='file:///home/gos02501e/.cache/pypoetry/virtualenvs/smart-evidence-zrd-iDQT-py3.8/lib/python3.8/site-packages/urllib3/connectionpool.py?line=403'>404</a>\u001b[0m     \u001b[39m# Python 3\u001b[39;00m\n",
                        "File \u001b[0;32m~/.cache/pypoetry/virtualenvs/smart-evidence-zrd-iDQT-py3.8/lib/python3.8/site-packages/urllib3/connection.py:239\u001b[0m, in \u001b[0;36mHTTPConnection.request\u001b[0;34m(self, method, url, body, headers)\u001b[0m\n\u001b[1;32m    <a href='file:///home/gos02501e/.cache/pypoetry/virtualenvs/smart-evidence-zrd-iDQT-py3.8/lib/python3.8/site-packages/urllib3/connection.py?line=236'>237</a>\u001b[0m \u001b[39mif\u001b[39;00m \u001b[39m\"\u001b[39m\u001b[39muser-agent\u001b[39m\u001b[39m\"\u001b[39m \u001b[39mnot\u001b[39;00m \u001b[39min\u001b[39;00m (six\u001b[39m.\u001b[39mensure_str(k\u001b[39m.\u001b[39mlower()) \u001b[39mfor\u001b[39;00m k \u001b[39min\u001b[39;00m headers):\n\u001b[1;32m    <a href='file:///home/gos02501e/.cache/pypoetry/virtualenvs/smart-evidence-zrd-iDQT-py3.8/lib/python3.8/site-packages/urllib3/connection.py?line=237'>238</a>\u001b[0m     headers[\u001b[39m\"\u001b[39m\u001b[39mUser-Agent\u001b[39m\u001b[39m\"\u001b[39m] \u001b[39m=\u001b[39m _get_default_user_agent()\n\u001b[0;32m--> <a href='file:///home/gos02501e/.cache/pypoetry/virtualenvs/smart-evidence-zrd-iDQT-py3.8/lib/python3.8/site-packages/urllib3/connection.py?line=238'>239</a>\u001b[0m \u001b[39msuper\u001b[39;49m(HTTPConnection, \u001b[39mself\u001b[39;49m)\u001b[39m.\u001b[39;49mrequest(method, url, body\u001b[39m=\u001b[39;49mbody, headers\u001b[39m=\u001b[39;49mheaders)\n",
                        "File \u001b[0;32m~/.pyenv/versions/3.8.12/lib/python3.8/http/client.py:1256\u001b[0m, in \u001b[0;36mHTTPConnection.request\u001b[0;34m(self, method, url, body, headers, encode_chunked)\u001b[0m\n\u001b[1;32m   <a href='file:///home/gos02501e/.pyenv/versions/3.8.12/lib/python3.8/http/client.py?line=1252'>1253</a>\u001b[0m \u001b[39mdef\u001b[39;00m \u001b[39mrequest\u001b[39m(\u001b[39mself\u001b[39m, method, url, body\u001b[39m=\u001b[39m\u001b[39mNone\u001b[39;00m, headers\u001b[39m=\u001b[39m{}, \u001b[39m*\u001b[39m,\n\u001b[1;32m   <a href='file:///home/gos02501e/.pyenv/versions/3.8.12/lib/python3.8/http/client.py?line=1253'>1254</a>\u001b[0m             encode_chunked\u001b[39m=\u001b[39m\u001b[39mFalse\u001b[39;00m):\n\u001b[1;32m   <a href='file:///home/gos02501e/.pyenv/versions/3.8.12/lib/python3.8/http/client.py?line=1254'>1255</a>\u001b[0m     \u001b[39m\"\"\"Send a complete request to the server.\"\"\"\u001b[39;00m\n\u001b[0;32m-> <a href='file:///home/gos02501e/.pyenv/versions/3.8.12/lib/python3.8/http/client.py?line=1255'>1256</a>\u001b[0m     \u001b[39mself\u001b[39;49m\u001b[39m.\u001b[39;49m_send_request(method, url, body, headers, encode_chunked)\n",
                        "File \u001b[0;32m~/.pyenv/versions/3.8.12/lib/python3.8/http/client.py:1302\u001b[0m, in \u001b[0;36mHTTPConnection._send_request\u001b[0;34m(self, method, url, body, headers, encode_chunked)\u001b[0m\n\u001b[1;32m   <a href='file:///home/gos02501e/.pyenv/versions/3.8.12/lib/python3.8/http/client.py?line=1297'>1298</a>\u001b[0m \u001b[39mif\u001b[39;00m \u001b[39misinstance\u001b[39m(body, \u001b[39mstr\u001b[39m):\n\u001b[1;32m   <a href='file:///home/gos02501e/.pyenv/versions/3.8.12/lib/python3.8/http/client.py?line=1298'>1299</a>\u001b[0m     \u001b[39m# RFC 2616 Section 3.7.1 says that text default has a\u001b[39;00m\n\u001b[1;32m   <a href='file:///home/gos02501e/.pyenv/versions/3.8.12/lib/python3.8/http/client.py?line=1299'>1300</a>\u001b[0m     \u001b[39m# default charset of iso-8859-1.\u001b[39;00m\n\u001b[1;32m   <a href='file:///home/gos02501e/.pyenv/versions/3.8.12/lib/python3.8/http/client.py?line=1300'>1301</a>\u001b[0m     body \u001b[39m=\u001b[39m _encode(body, \u001b[39m'\u001b[39m\u001b[39mbody\u001b[39m\u001b[39m'\u001b[39m)\n\u001b[0;32m-> <a href='file:///home/gos02501e/.pyenv/versions/3.8.12/lib/python3.8/http/client.py?line=1301'>1302</a>\u001b[0m \u001b[39mself\u001b[39;49m\u001b[39m.\u001b[39;49mendheaders(body, encode_chunked\u001b[39m=\u001b[39;49mencode_chunked)\n",
                        "File \u001b[0;32m~/.pyenv/versions/3.8.12/lib/python3.8/http/client.py:1251\u001b[0m, in \u001b[0;36mHTTPConnection.endheaders\u001b[0;34m(self, message_body, encode_chunked)\u001b[0m\n\u001b[1;32m   <a href='file:///home/gos02501e/.pyenv/versions/3.8.12/lib/python3.8/http/client.py?line=1248'>1249</a>\u001b[0m \u001b[39melse\u001b[39;00m:\n\u001b[1;32m   <a href='file:///home/gos02501e/.pyenv/versions/3.8.12/lib/python3.8/http/client.py?line=1249'>1250</a>\u001b[0m     \u001b[39mraise\u001b[39;00m CannotSendHeader()\n\u001b[0;32m-> <a href='file:///home/gos02501e/.pyenv/versions/3.8.12/lib/python3.8/http/client.py?line=1250'>1251</a>\u001b[0m \u001b[39mself\u001b[39;49m\u001b[39m.\u001b[39;49m_send_output(message_body, encode_chunked\u001b[39m=\u001b[39;49mencode_chunked)\n",
                        "File \u001b[0;32m~/.pyenv/versions/3.8.12/lib/python3.8/http/client.py:1050\u001b[0m, in \u001b[0;36mHTTPConnection._send_output\u001b[0;34m(self, message_body, encode_chunked)\u001b[0m\n\u001b[1;32m   <a href='file:///home/gos02501e/.pyenv/versions/3.8.12/lib/python3.8/http/client.py?line=1045'>1046</a>\u001b[0m     \u001b[39mif\u001b[39;00m encode_chunked \u001b[39mand\u001b[39;00m \u001b[39mself\u001b[39m\u001b[39m.\u001b[39m_http_vsn \u001b[39m==\u001b[39m \u001b[39m11\u001b[39m:\n\u001b[1;32m   <a href='file:///home/gos02501e/.pyenv/versions/3.8.12/lib/python3.8/http/client.py?line=1046'>1047</a>\u001b[0m         \u001b[39m# chunked encoding\u001b[39;00m\n\u001b[1;32m   <a href='file:///home/gos02501e/.pyenv/versions/3.8.12/lib/python3.8/http/client.py?line=1047'>1048</a>\u001b[0m         chunk \u001b[39m=\u001b[39m \u001b[39mf\u001b[39m\u001b[39m'\u001b[39m\u001b[39m{\u001b[39;00m\u001b[39mlen\u001b[39m(chunk)\u001b[39m:\u001b[39;00m\u001b[39mX\u001b[39m\u001b[39m}\u001b[39;00m\u001b[39m\\r\u001b[39;00m\u001b[39m\\n\u001b[39;00m\u001b[39m'\u001b[39m\u001b[39m.\u001b[39mencode(\u001b[39m'\u001b[39m\u001b[39mascii\u001b[39m\u001b[39m'\u001b[39m) \u001b[39m+\u001b[39m chunk \\\n\u001b[1;32m   <a href='file:///home/gos02501e/.pyenv/versions/3.8.12/lib/python3.8/http/client.py?line=1048'>1049</a>\u001b[0m             \u001b[39m+\u001b[39m \u001b[39mb\u001b[39m\u001b[39m'\u001b[39m\u001b[39m\\r\u001b[39;00m\u001b[39m\\n\u001b[39;00m\u001b[39m'\u001b[39m\n\u001b[0;32m-> <a href='file:///home/gos02501e/.pyenv/versions/3.8.12/lib/python3.8/http/client.py?line=1049'>1050</a>\u001b[0m     \u001b[39mself\u001b[39;49m\u001b[39m.\u001b[39;49msend(chunk)\n\u001b[1;32m   <a href='file:///home/gos02501e/.pyenv/versions/3.8.12/lib/python3.8/http/client.py?line=1051'>1052</a>\u001b[0m \u001b[39mif\u001b[39;00m encode_chunked \u001b[39mand\u001b[39;00m \u001b[39mself\u001b[39m\u001b[39m.\u001b[39m_http_vsn \u001b[39m==\u001b[39m \u001b[39m11\u001b[39m:\n\u001b[1;32m   <a href='file:///home/gos02501e/.pyenv/versions/3.8.12/lib/python3.8/http/client.py?line=1052'>1053</a>\u001b[0m     \u001b[39m# end chunked transfer\u001b[39;00m\n\u001b[1;32m   <a href='file:///home/gos02501e/.pyenv/versions/3.8.12/lib/python3.8/http/client.py?line=1053'>1054</a>\u001b[0m     \u001b[39mself\u001b[39m\u001b[39m.\u001b[39msend(\u001b[39mb\u001b[39m\u001b[39m'\u001b[39m\u001b[39m0\u001b[39m\u001b[39m\\r\u001b[39;00m\u001b[39m\\n\u001b[39;00m\u001b[39m\\r\u001b[39;00m\u001b[39m\\n\u001b[39;00m\u001b[39m'\u001b[39m)\n",
                        "File \u001b[0;32m~/.pyenv/versions/3.8.12/lib/python3.8/http/client.py:972\u001b[0m, in \u001b[0;36mHTTPConnection.send\u001b[0;34m(self, data)\u001b[0m\n\u001b[1;32m    <a href='file:///home/gos02501e/.pyenv/versions/3.8.12/lib/python3.8/http/client.py?line=969'>970</a>\u001b[0m     \u001b[39mreturn\u001b[39;00m\n\u001b[1;32m    <a href='file:///home/gos02501e/.pyenv/versions/3.8.12/lib/python3.8/http/client.py?line=970'>971</a>\u001b[0m \u001b[39mtry\u001b[39;00m:\n\u001b[0;32m--> <a href='file:///home/gos02501e/.pyenv/versions/3.8.12/lib/python3.8/http/client.py?line=971'>972</a>\u001b[0m     \u001b[39mself\u001b[39;49m\u001b[39m.\u001b[39;49msock\u001b[39m.\u001b[39;49msendall(data)\n\u001b[1;32m    <a href='file:///home/gos02501e/.pyenv/versions/3.8.12/lib/python3.8/http/client.py?line=972'>973</a>\u001b[0m \u001b[39mexcept\u001b[39;00m \u001b[39mTypeError\u001b[39;00m:\n\u001b[1;32m    <a href='file:///home/gos02501e/.pyenv/versions/3.8.12/lib/python3.8/http/client.py?line=973'>974</a>\u001b[0m     \u001b[39mif\u001b[39;00m \u001b[39misinstance\u001b[39m(data, collections\u001b[39m.\u001b[39mabc\u001b[39m.\u001b[39mIterable):\n",
                        "File \u001b[0;32m~/.pyenv/versions/3.8.12/lib/python3.8/ssl.py:1204\u001b[0m, in \u001b[0;36mSSLSocket.sendall\u001b[0;34m(self, data, flags)\u001b[0m\n\u001b[1;32m   <a href='file:///home/gos02501e/.pyenv/versions/3.8.12/lib/python3.8/ssl.py?line=1201'>1202</a>\u001b[0m         amount \u001b[39m=\u001b[39m \u001b[39mlen\u001b[39m(byte_view)\n\u001b[1;32m   <a href='file:///home/gos02501e/.pyenv/versions/3.8.12/lib/python3.8/ssl.py?line=1202'>1203</a>\u001b[0m         \u001b[39mwhile\u001b[39;00m count \u001b[39m<\u001b[39m amount:\n\u001b[0;32m-> <a href='file:///home/gos02501e/.pyenv/versions/3.8.12/lib/python3.8/ssl.py?line=1203'>1204</a>\u001b[0m             v \u001b[39m=\u001b[39m \u001b[39mself\u001b[39;49m\u001b[39m.\u001b[39;49msend(byte_view[count:])\n\u001b[1;32m   <a href='file:///home/gos02501e/.pyenv/versions/3.8.12/lib/python3.8/ssl.py?line=1204'>1205</a>\u001b[0m             count \u001b[39m+\u001b[39m\u001b[39m=\u001b[39m v\n\u001b[1;32m   <a href='file:///home/gos02501e/.pyenv/versions/3.8.12/lib/python3.8/ssl.py?line=1205'>1206</a>\u001b[0m \u001b[39melse\u001b[39;00m:\n",
                        "File \u001b[0;32m~/.pyenv/versions/3.8.12/lib/python3.8/ssl.py:1173\u001b[0m, in \u001b[0;36mSSLSocket.send\u001b[0;34m(self, data, flags)\u001b[0m\n\u001b[1;32m   <a href='file:///home/gos02501e/.pyenv/versions/3.8.12/lib/python3.8/ssl.py?line=1168'>1169</a>\u001b[0m     \u001b[39mif\u001b[39;00m flags \u001b[39m!=\u001b[39m \u001b[39m0\u001b[39m:\n\u001b[1;32m   <a href='file:///home/gos02501e/.pyenv/versions/3.8.12/lib/python3.8/ssl.py?line=1169'>1170</a>\u001b[0m         \u001b[39mraise\u001b[39;00m \u001b[39mValueError\u001b[39;00m(\n\u001b[1;32m   <a href='file:///home/gos02501e/.pyenv/versions/3.8.12/lib/python3.8/ssl.py?line=1170'>1171</a>\u001b[0m             \u001b[39m\"\u001b[39m\u001b[39mnon-zero flags not allowed in calls to send() on \u001b[39m\u001b[39m%s\u001b[39;00m\u001b[39m\"\u001b[39m \u001b[39m%\u001b[39m\n\u001b[1;32m   <a href='file:///home/gos02501e/.pyenv/versions/3.8.12/lib/python3.8/ssl.py?line=1171'>1172</a>\u001b[0m             \u001b[39mself\u001b[39m\u001b[39m.\u001b[39m\u001b[39m__class__\u001b[39m)\n\u001b[0;32m-> <a href='file:///home/gos02501e/.pyenv/versions/3.8.12/lib/python3.8/ssl.py?line=1172'>1173</a>\u001b[0m     \u001b[39mreturn\u001b[39;00m \u001b[39mself\u001b[39;49m\u001b[39m.\u001b[39;49m_sslobj\u001b[39m.\u001b[39;49mwrite(data)\n\u001b[1;32m   <a href='file:///home/gos02501e/.pyenv/versions/3.8.12/lib/python3.8/ssl.py?line=1173'>1174</a>\u001b[0m \u001b[39melse\u001b[39;00m:\n\u001b[1;32m   <a href='file:///home/gos02501e/.pyenv/versions/3.8.12/lib/python3.8/ssl.py?line=1174'>1175</a>\u001b[0m     \u001b[39mreturn\u001b[39;00m \u001b[39msuper\u001b[39m()\u001b[39m.\u001b[39msend(data, flags)\n",
                        "\u001b[0;31mKeyboardInterrupt\u001b[0m: "
                    ]
                }
            ],
            "source": [
                "from collections import Counter\n",
                "from tqdm import tqdm\n",
                "import re\n",
                "\n",
                "document_batch = []\n",
                "for document in tqdm(\n",
                "    document_store.get_all_documents_generator(batch_size=10000, return_embedding=True, filters={'source_file': sources_without_concepts})\n",
                "):\n",
                "    entities = document.meta[\"entities\"]\n",
                "    impact_concept_counts = Counter()\n",
                "    company_concept_counts = Counter()\n",
                "    for i in range(len(entities)):\n",
                "        ent = entities[i]\n",
                "        if 'id' not in ent: continue\n",
                "        entities[i][\"concept_label\"] = ent[\"id\"].split(\";\")[-1]\n",
                "        if ent[\"label\"] == \"IMPACT\":\n",
                "            # for iris_category in re.findall(r\"IRIS\\/(.*?)[;\\/$]\", ent[\"id\"]):\n",
                "            #     impact_concept_counts[iris_category] = impact_concept_counts.get(\n",
                "            #         iris_category, Counter()\n",
                "            #     )\n",
                "            #     impact_concept_counts[iris_category].update([ent[\"concept_label\"]])\n",
                "            impact_concept_counts.update([ent['concept_label']])\n",
                "        elif ent[\"label\"] == \"COMPANY\":\n",
                "            company_concept_counts.update([ent['concept_label']])\n",
                "\n",
                "    document.meta[\"impact_concepts\"] = list(impact_concept_counts.keys())\n",
                "    document.meta[\"impact_concept_counts\"] = dict(impact_concept_counts)\n",
                "    document.meta[\"company_concepts\"] = list(company_concept_counts.keys())\n",
                "    document.meta[\"company_concept_counts\"] = dict(company_concept_counts)\n",
                "\n",
                "    concept_counts = impact_concept_counts.copy()\n",
                "    concept_counts.update(company_concept_counts)\n",
                "    \n",
                "    document.meta[\"concepts\"] = list(concept_counts.keys())\n",
                "    if not concept_counts.keys():\n",
                "        print('No concept:', document.id)\n",
                "        document_store.delete_documents([document])\n",
                "    document.meta[\"concept_counts\"] = dict(concept_counts)\n",
                "    document_batch.append(document)\n",
                "    if len(document_batch) == 10000:\n",
                "        print(document.id)\n",
                "        print(document_batch[0])\n",
                "        print(len(document_batch))\n",
                "        document_store.write_documents(document_batch, duplicate_documents=\"overwrite\")\n",
                "        document_batch = []\n",
                "document_store.write_documents(document_batch, duplicate_documents=\"overwrite\")\n",
                "document_batch = []\n"
            ]
        },
        {
            "cell_type": "code",
            "execution_count": 5,
            "metadata": {},
            "outputs": [
                {
                    "name": "stderr",
                    "output_type": "stream",
                    "text": [
                        "100%|██████████| 1989/1989 [00:00<00:00, 45304.80it/s]\n"
                    ]
                }
            ],
            "source": [
                "from collections import Counter\n",
                "from tqdm import tqdm\n",
                "import re\n",
                "\n",
                "document_batch = []\n",
                "for document in tqdm(\n",
                "    document_store.query(\n",
                "        \"\",\n",
                "        custom_query=\"\"\"{\"size\": 3000, \"query\": {\"bool\": {\"must_not\": {\"exists\": {\"field\": \"concepts\"}}}}}\"\"\",\n",
                "        top_k=4000,\n",
                "    )\n",
                "):\n",
                "    impact_concept_counts = Counter()\n",
                "    company_concept_counts = Counter()\n",
                "    for i in range(len(document.meta[\"entities\"])):\n",
                "        ent = document.meta[\"entities\"][i]\n",
                "        if \"id\" not in ent:\n",
                "            continue\n",
                "        document.meta[\"entities\"][i][\"concept_label\"] = ent[\"id\"].split(\";\")[-1]\n",
                "        if ent[\"label\"] == \"IMPACT\":\n",
                "            # for iris_category in re.findall(r\"IRIS\\/(.*?)[;\\/$]\", ent[\"id\"]):\n",
                "            #     impact_concept_counts[iris_category] = impact_concept_counts.get(\n",
                "            #         iris_category, Counter()\n",
                "            #     )\n",
                "            #     impact_concept_counts[iris_category].update([ent[\"concept_label\"]])\n",
                "            impact_concept_counts.update([ent[\"concept_label\"]])\n",
                "        elif ent[\"label\"] == \"COMPANY\":\n",
                "            company_concept_counts.update([ent[\"concept_label\"]])\n",
                "\n",
                "    document.meta[\"impact_concepts\"] = list(impact_concept_counts.keys())\n",
                "    document.meta[\"impact_concept_counts\"] = dict(impact_concept_counts)\n",
                "    document.meta[\"company_concepts\"] = list(company_concept_counts.keys())\n",
                "    document.meta[\"company_concept_counts\"] = dict(company_concept_counts)\n",
                "\n",
                "    concept_counts = impact_concept_counts.copy()\n",
                "    concept_counts.update(company_concept_counts)\n",
                "\n",
                "    document.meta[\"concepts\"] = list(concept_counts.keys())\n",
                "    document.meta[\"concept_counts\"] = dict(concept_counts)\n",
                "    document_batch.append(document)\n",
                "    if len(document_batch) == 10000:\n",
                "        print(document.id)\n",
                "        print(document_batch[0])\n",
                "        print(len(document_batch))\n",
                "        document_store.write_documents(document_batch, duplicate_documents=\"overwrite\")\n",
                "        document_batch = []\n",
                "\n",
                "document_store.write_documents(document_batch, duplicate_documents=\"overwrite\")\n",
                "document_batch = []\n"
            ]
        },
        {
            "cell_type": "code",
            "execution_count": null,
            "metadata": {},
            "outputs": [
                {
                    "name": "stderr",
                    "output_type": "stream",
                    "text": [
                        "9595it [00:12, 2734.05it/s]"
                    ]
                },
                {
                    "name": "stdout",
                    "output_type": "stream",
                    "text": [
                        "5e1fdbb2021e4eaeb6443f53210e5415\n",
                        "<Document: id=0b3e0e1429cc76c23d3bec75cde6c7cc, content='Lund University library was established in 1668 at the same time as the university and is one of Swe ...'>\n",
                        "10000\n"
                    ]
                },
                {
                    "name": "stderr",
                    "output_type": "stream",
                    "text": [
                        "19480it [01:18, 795.66it/s]"
                    ]
                },
                {
                    "name": "stdout",
                    "output_type": "stream",
                    "text": [
                        "5ebed40e125276fbdb5fc9c94973359a\n",
                        "<Document: id=c73c69eb8b5fd6d1a276bacf1ca92490, content='The C&SF established 470,000 acres (1,900 km2) for the Everglades Agricultural Area—27 percent of th ...'>\n",
                        "10000\n"
                    ]
                },
                {
                    "name": "stderr",
                    "output_type": "stream",
                    "text": [
                        "19999it [01:18, 253.35it/s]\n"
                    ]
                },
                {
                    "ename": "KeyboardInterrupt",
                    "evalue": "",
                    "output_type": "error",
                    "traceback": [
                        "\u001b[0;31m---------------------------------------------------------------------------\u001b[0m\n",
                        "\u001b[0;31mKeyboardInterrupt\u001b[0m                         Traceback (most recent call last)\n",
                        "\u001b[1;32m/home/gos02501e/smart-evidence/notebooks/AnnotateConcepts.ipynb Cell 6'\u001b[0m in \u001b[0;36m<cell line: 6>\u001b[0;34m()\u001b[0m\n",
                        "\u001b[1;32m     <a href='vscode-notebook-cell://ssh-remote%2Bgos02501e@172.16.225.115/home/gos02501e/smart-evidence/notebooks/AnnotateConcepts.ipynb#ch0000004vscode-remote?line=41'>42</a>\u001b[0m \u001b[39mprint\u001b[39m(document_batch[\u001b[39m0\u001b[39m])\n",
                        "\u001b[1;32m     <a href='vscode-notebook-cell://ssh-remote%2Bgos02501e@172.16.225.115/home/gos02501e/smart-evidence/notebooks/AnnotateConcepts.ipynb#ch0000004vscode-remote?line=42'>43</a>\u001b[0m \u001b[39mprint\u001b[39m(\u001b[39mlen\u001b[39m(document_batch))\n",
                        "\u001b[0;32m---> <a href='vscode-notebook-cell://ssh-remote%2Bgos02501e@172.16.225.115/home/gos02501e/smart-evidence/notebooks/AnnotateConcepts.ipynb#ch0000004vscode-remote?line=43'>44</a>\u001b[0m document_store\u001b[39m.\u001b[39;49mwrite_documents(document_batch, duplicate_documents\u001b[39m=\u001b[39;49m\u001b[39m\"\u001b[39;49m\u001b[39moverwrite\u001b[39;49m\u001b[39m\"\u001b[39;49m)\n",
                        "\u001b[1;32m     <a href='vscode-notebook-cell://ssh-remote%2Bgos02501e@172.16.225.115/home/gos02501e/smart-evidence/notebooks/AnnotateConcepts.ipynb#ch0000004vscode-remote?line=44'>45</a>\u001b[0m document_batch \u001b[39m=\u001b[39m []\n",
                        "\n",
                        "File \u001b[0;32m~/smart-evidence/haystack-repo/haystack/document_stores/elasticsearch.py:597\u001b[0m, in \u001b[0;36mElasticsearchDocumentStore.write_documents\u001b[0;34m(self, documents, index, batch_size, duplicate_documents, headers)\u001b[0m\n",
                        "\u001b[1;32m    <a href='file:///home/gos02501e/smart-evidence/haystack-repo/haystack/document_stores/elasticsearch.py?line=594'>595</a>\u001b[0m     \u001b[39m# Pass batch_size number of documents to bulk\u001b[39;00m\n",
                        "\u001b[1;32m    <a href='file:///home/gos02501e/smart-evidence/haystack-repo/haystack/document_stores/elasticsearch.py?line=595'>596</a>\u001b[0m     \u001b[39mif\u001b[39;00m \u001b[39mlen\u001b[39m(documents_to_index) \u001b[39m%\u001b[39m batch_size \u001b[39m==\u001b[39m \u001b[39m0\u001b[39m:\n",
                        "\u001b[0;32m--> <a href='file:///home/gos02501e/smart-evidence/haystack-repo/haystack/document_stores/elasticsearch.py?line=596'>597</a>\u001b[0m         bulk(\u001b[39mself\u001b[39;49m\u001b[39m.\u001b[39;49mclient, documents_to_index, request_timeout\u001b[39m=\u001b[39;49m\u001b[39m300\u001b[39;49m, refresh\u001b[39m=\u001b[39;49m\u001b[39mself\u001b[39;49m\u001b[39m.\u001b[39;49mrefresh_type, headers\u001b[39m=\u001b[39;49mheaders)\n",
                        "\u001b[1;32m    <a href='file:///home/gos02501e/smart-evidence/haystack-repo/haystack/document_stores/elasticsearch.py?line=597'>598</a>\u001b[0m         documents_to_index \u001b[39m=\u001b[39m []\n",
                        "\u001b[1;32m    <a href='file:///home/gos02501e/smart-evidence/haystack-repo/haystack/document_stores/elasticsearch.py?line=599'>600</a>\u001b[0m \u001b[39mif\u001b[39;00m documents_to_index:\n",
                        "\n",
                        "File \u001b[0;32m~/.cache/pypoetry/virtualenvs/smart-evidence-zrd-iDQT-py3.8/lib/python3.8/site-packages/elasticsearch/helpers/actions.py:390\u001b[0m, in \u001b[0;36mbulk\u001b[0;34m(client, actions, stats_only, *args, **kwargs)\u001b[0m\n",
                        "\u001b[1;32m    <a href='file:///home/gos02501e/.cache/pypoetry/virtualenvs/smart-evidence-zrd-iDQT-py3.8/lib/python3.8/site-packages/elasticsearch/helpers/actions.py?line=387'>388</a>\u001b[0m \u001b[39m# make streaming_bulk yield successful results so we can count them\u001b[39;00m\n",
                        "\u001b[1;32m    <a href='file:///home/gos02501e/.cache/pypoetry/virtualenvs/smart-evidence-zrd-iDQT-py3.8/lib/python3.8/site-packages/elasticsearch/helpers/actions.py?line=388'>389</a>\u001b[0m kwargs[\u001b[39m\"\u001b[39m\u001b[39myield_ok\u001b[39m\u001b[39m\"\u001b[39m] \u001b[39m=\u001b[39m \u001b[39mTrue\u001b[39;00m\n",
                        "\u001b[0;32m--> <a href='file:///home/gos02501e/.cache/pypoetry/virtualenvs/smart-evidence-zrd-iDQT-py3.8/lib/python3.8/site-packages/elasticsearch/helpers/actions.py?line=389'>390</a>\u001b[0m \u001b[39mfor\u001b[39;00m ok, item \u001b[39min\u001b[39;00m streaming_bulk(client, actions, \u001b[39m*\u001b[39margs, \u001b[39m*\u001b[39m\u001b[39m*\u001b[39mkwargs):\n",
                        "\u001b[1;32m    <a href='file:///home/gos02501e/.cache/pypoetry/virtualenvs/smart-evidence-zrd-iDQT-py3.8/lib/python3.8/site-packages/elasticsearch/helpers/actions.py?line=390'>391</a>\u001b[0m     \u001b[39m# go through request-response pairs and detect failures\u001b[39;00m\n",
                        "\u001b[1;32m    <a href='file:///home/gos02501e/.cache/pypoetry/virtualenvs/smart-evidence-zrd-iDQT-py3.8/lib/python3.8/site-packages/elasticsearch/helpers/actions.py?line=391'>392</a>\u001b[0m     \u001b[39mif\u001b[39;00m \u001b[39mnot\u001b[39;00m ok:\n",
                        "\u001b[1;32m    <a href='file:///home/gos02501e/.cache/pypoetry/virtualenvs/smart-evidence-zrd-iDQT-py3.8/lib/python3.8/site-packages/elasticsearch/helpers/actions.py?line=392'>393</a>\u001b[0m         \u001b[39mif\u001b[39;00m \u001b[39mnot\u001b[39;00m stats_only:\n",
                        "\n",
                        "File \u001b[0;32m~/.cache/pypoetry/virtualenvs/smart-evidence-zrd-iDQT-py3.8/lib/python3.8/site-packages/elasticsearch/helpers/actions.py:311\u001b[0m, in \u001b[0;36mstreaming_bulk\u001b[0;34m(client, actions, chunk_size, max_chunk_bytes, raise_on_error, expand_action_callback, raise_on_exception, max_retries, initial_backoff, max_backoff, yield_ok, *args, **kwargs)\u001b[0m\n",
                        "\u001b[1;32m    <a href='file:///home/gos02501e/.cache/pypoetry/virtualenvs/smart-evidence-zrd-iDQT-py3.8/lib/python3.8/site-packages/elasticsearch/helpers/actions.py?line=307'>308</a>\u001b[0m     time\u001b[39m.\u001b[39msleep(\u001b[39mmin\u001b[39m(max_backoff, initial_backoff \u001b[39m*\u001b[39m \u001b[39m2\u001b[39m \u001b[39m*\u001b[39m\u001b[39m*\u001b[39m (attempt \u001b[39m-\u001b[39m \u001b[39m1\u001b[39m)))\n",
                        "\u001b[1;32m    <a href='file:///home/gos02501e/.cache/pypoetry/virtualenvs/smart-evidence-zrd-iDQT-py3.8/lib/python3.8/site-packages/elasticsearch/helpers/actions.py?line=309'>310</a>\u001b[0m \u001b[39mtry\u001b[39;00m:\n",
                        "\u001b[0;32m--> <a href='file:///home/gos02501e/.cache/pypoetry/virtualenvs/smart-evidence-zrd-iDQT-py3.8/lib/python3.8/site-packages/elasticsearch/helpers/actions.py?line=310'>311</a>\u001b[0m     \u001b[39mfor\u001b[39;00m data, (ok, info) \u001b[39min\u001b[39;00m \u001b[39mzip\u001b[39m(\n",
                        "\u001b[1;32m    <a href='file:///home/gos02501e/.cache/pypoetry/virtualenvs/smart-evidence-zrd-iDQT-py3.8/lib/python3.8/site-packages/elasticsearch/helpers/actions.py?line=311'>312</a>\u001b[0m         bulk_data,\n",
                        "\u001b[1;32m    <a href='file:///home/gos02501e/.cache/pypoetry/virtualenvs/smart-evidence-zrd-iDQT-py3.8/lib/python3.8/site-packages/elasticsearch/helpers/actions.py?line=312'>313</a>\u001b[0m         _process_bulk_chunk(\n",
                        "\u001b[1;32m    <a href='file:///home/gos02501e/.cache/pypoetry/virtualenvs/smart-evidence-zrd-iDQT-py3.8/lib/python3.8/site-packages/elasticsearch/helpers/actions.py?line=313'>314</a>\u001b[0m             client,\n",
                        "\u001b[1;32m    <a href='file:///home/gos02501e/.cache/pypoetry/virtualenvs/smart-evidence-zrd-iDQT-py3.8/lib/python3.8/site-packages/elasticsearch/helpers/actions.py?line=314'>315</a>\u001b[0m             bulk_actions,\n",
                        "\u001b[1;32m    <a href='file:///home/gos02501e/.cache/pypoetry/virtualenvs/smart-evidence-zrd-iDQT-py3.8/lib/python3.8/site-packages/elasticsearch/helpers/actions.py?line=315'>316</a>\u001b[0m             bulk_data,\n",
                        "\u001b[1;32m    <a href='file:///home/gos02501e/.cache/pypoetry/virtualenvs/smart-evidence-zrd-iDQT-py3.8/lib/python3.8/site-packages/elasticsearch/helpers/actions.py?line=316'>317</a>\u001b[0m             raise_on_exception,\n",
                        "\u001b[1;32m    <a href='file:///home/gos02501e/.cache/pypoetry/virtualenvs/smart-evidence-zrd-iDQT-py3.8/lib/python3.8/site-packages/elasticsearch/helpers/actions.py?line=317'>318</a>\u001b[0m             raise_on_error,\n",
                        "\u001b[1;32m    <a href='file:///home/gos02501e/.cache/pypoetry/virtualenvs/smart-evidence-zrd-iDQT-py3.8/lib/python3.8/site-packages/elasticsearch/helpers/actions.py?line=318'>319</a>\u001b[0m             \u001b[39m*\u001b[39margs,\n",
                        "\u001b[1;32m    <a href='file:///home/gos02501e/.cache/pypoetry/virtualenvs/smart-evidence-zrd-iDQT-py3.8/lib/python3.8/site-packages/elasticsearch/helpers/actions.py?line=319'>320</a>\u001b[0m             \u001b[39m*\u001b[39m\u001b[39m*\u001b[39mkwargs\n",
                        "\u001b[1;32m    <a href='file:///home/gos02501e/.cache/pypoetry/virtualenvs/smart-evidence-zrd-iDQT-py3.8/lib/python3.8/site-packages/elasticsearch/helpers/actions.py?line=320'>321</a>\u001b[0m         ),\n",
                        "\u001b[1;32m    <a href='file:///home/gos02501e/.cache/pypoetry/virtualenvs/smart-evidence-zrd-iDQT-py3.8/lib/python3.8/site-packages/elasticsearch/helpers/actions.py?line=321'>322</a>\u001b[0m     ):\n",
                        "\u001b[1;32m    <a href='file:///home/gos02501e/.cache/pypoetry/virtualenvs/smart-evidence-zrd-iDQT-py3.8/lib/python3.8/site-packages/elasticsearch/helpers/actions.py?line=323'>324</a>\u001b[0m         \u001b[39mif\u001b[39;00m \u001b[39mnot\u001b[39;00m ok:\n",
                        "\u001b[1;32m    <a href='file:///home/gos02501e/.cache/pypoetry/virtualenvs/smart-evidence-zrd-iDQT-py3.8/lib/python3.8/site-packages/elasticsearch/helpers/actions.py?line=324'>325</a>\u001b[0m             action, info \u001b[39m=\u001b[39m info\u001b[39m.\u001b[39mpopitem()\n",
                        "\n",
                        "File \u001b[0;32m~/.cache/pypoetry/virtualenvs/smart-evidence-zrd-iDQT-py3.8/lib/python3.8/site-packages/elasticsearch/helpers/actions.py:235\u001b[0m, in \u001b[0;36m_process_bulk_chunk\u001b[0;34m(client, bulk_actions, bulk_data, raise_on_exception, raise_on_error, *args, **kwargs)\u001b[0m\n",
                        "\u001b[1;32m    <a href='file:///home/gos02501e/.cache/pypoetry/virtualenvs/smart-evidence-zrd-iDQT-py3.8/lib/python3.8/site-packages/elasticsearch/helpers/actions.py?line=229'>230</a>\u001b[0m \u001b[39m\"\"\"\u001b[39;00m\n",
                        "\u001b[1;32m    <a href='file:///home/gos02501e/.cache/pypoetry/virtualenvs/smart-evidence-zrd-iDQT-py3.8/lib/python3.8/site-packages/elasticsearch/helpers/actions.py?line=230'>231</a>\u001b[0m \u001b[39mSend a bulk request to elasticsearch and process the output.\u001b[39;00m\n",
                        "\u001b[1;32m    <a href='file:///home/gos02501e/.cache/pypoetry/virtualenvs/smart-evidence-zrd-iDQT-py3.8/lib/python3.8/site-packages/elasticsearch/helpers/actions.py?line=231'>232</a>\u001b[0m \u001b[39m\"\"\"\u001b[39;00m\n",
                        "\u001b[1;32m    <a href='file:///home/gos02501e/.cache/pypoetry/virtualenvs/smart-evidence-zrd-iDQT-py3.8/lib/python3.8/site-packages/elasticsearch/helpers/actions.py?line=232'>233</a>\u001b[0m \u001b[39mtry\u001b[39;00m:\n",
                        "\u001b[1;32m    <a href='file:///home/gos02501e/.cache/pypoetry/virtualenvs/smart-evidence-zrd-iDQT-py3.8/lib/python3.8/site-packages/elasticsearch/helpers/actions.py?line=233'>234</a>\u001b[0m     \u001b[39m# send the actual request\u001b[39;00m\n",
                        "\u001b[0;32m--> <a href='file:///home/gos02501e/.cache/pypoetry/virtualenvs/smart-evidence-zrd-iDQT-py3.8/lib/python3.8/site-packages/elasticsearch/helpers/actions.py?line=234'>235</a>\u001b[0m     resp \u001b[39m=\u001b[39m client\u001b[39m.\u001b[39;49mbulk(\u001b[39m\"\u001b[39;49m\u001b[39m\\n\u001b[39;49;00m\u001b[39m\"\u001b[39;49m\u001b[39m.\u001b[39;49mjoin(bulk_actions) \u001b[39m+\u001b[39;49m \u001b[39m\"\u001b[39;49m\u001b[39m\\n\u001b[39;49;00m\u001b[39m\"\u001b[39;49m, \u001b[39m*\u001b[39;49margs, \u001b[39m*\u001b[39;49m\u001b[39m*\u001b[39;49mkwargs)\n",
                        "\u001b[1;32m    <a href='file:///home/gos02501e/.cache/pypoetry/virtualenvs/smart-evidence-zrd-iDQT-py3.8/lib/python3.8/site-packages/elasticsearch/helpers/actions.py?line=235'>236</a>\u001b[0m \u001b[39mexcept\u001b[39;00m TransportError \u001b[39mas\u001b[39;00m e:\n",
                        "\u001b[1;32m    <a href='file:///home/gos02501e/.cache/pypoetry/virtualenvs/smart-evidence-zrd-iDQT-py3.8/lib/python3.8/site-packages/elasticsearch/helpers/actions.py?line=236'>237</a>\u001b[0m     gen \u001b[39m=\u001b[39m _process_bulk_chunk_error(\n",
                        "\u001b[1;32m    <a href='file:///home/gos02501e/.cache/pypoetry/virtualenvs/smart-evidence-zrd-iDQT-py3.8/lib/python3.8/site-packages/elasticsearch/helpers/actions.py?line=237'>238</a>\u001b[0m         error\u001b[39m=\u001b[39me,\n",
                        "\u001b[1;32m    <a href='file:///home/gos02501e/.cache/pypoetry/virtualenvs/smart-evidence-zrd-iDQT-py3.8/lib/python3.8/site-packages/elasticsearch/helpers/actions.py?line=238'>239</a>\u001b[0m         bulk_data\u001b[39m=\u001b[39mbulk_data,\n",
                        "\u001b[1;32m    <a href='file:///home/gos02501e/.cache/pypoetry/virtualenvs/smart-evidence-zrd-iDQT-py3.8/lib/python3.8/site-packages/elasticsearch/helpers/actions.py?line=239'>240</a>\u001b[0m         raise_on_exception\u001b[39m=\u001b[39mraise_on_exception,\n",
                        "\u001b[1;32m    <a href='file:///home/gos02501e/.cache/pypoetry/virtualenvs/smart-evidence-zrd-iDQT-py3.8/lib/python3.8/site-packages/elasticsearch/helpers/actions.py?line=240'>241</a>\u001b[0m         raise_on_error\u001b[39m=\u001b[39mraise_on_error,\n",
                        "\u001b[1;32m    <a href='file:///home/gos02501e/.cache/pypoetry/virtualenvs/smart-evidence-zrd-iDQT-py3.8/lib/python3.8/site-packages/elasticsearch/helpers/actions.py?line=241'>242</a>\u001b[0m     )\n",
                        "\n",
                        "File \u001b[0;32m~/.cache/pypoetry/virtualenvs/smart-evidence-zrd-iDQT-py3.8/lib/python3.8/site-packages/elasticsearch/client/utils.py:152\u001b[0m, in \u001b[0;36mquery_params.<locals>._wrapper.<locals>._wrapped\u001b[0;34m(*args, **kwargs)\u001b[0m\n",
                        "\u001b[1;32m    <a href='file:///home/gos02501e/.cache/pypoetry/virtualenvs/smart-evidence-zrd-iDQT-py3.8/lib/python3.8/site-packages/elasticsearch/client/utils.py?line=149'>150</a>\u001b[0m     \u001b[39mif\u001b[39;00m p \u001b[39min\u001b[39;00m kwargs:\n",
                        "\u001b[1;32m    <a href='file:///home/gos02501e/.cache/pypoetry/virtualenvs/smart-evidence-zrd-iDQT-py3.8/lib/python3.8/site-packages/elasticsearch/client/utils.py?line=150'>151</a>\u001b[0m         params[p] \u001b[39m=\u001b[39m kwargs\u001b[39m.\u001b[39mpop(p)\n",
                        "\u001b[0;32m--> <a href='file:///home/gos02501e/.cache/pypoetry/virtualenvs/smart-evidence-zrd-iDQT-py3.8/lib/python3.8/site-packages/elasticsearch/client/utils.py?line=151'>152</a>\u001b[0m \u001b[39mreturn\u001b[39;00m func(\u001b[39m*\u001b[39;49margs, params\u001b[39m=\u001b[39;49mparams, headers\u001b[39m=\u001b[39;49mheaders, \u001b[39m*\u001b[39;49m\u001b[39m*\u001b[39;49mkwargs)\n",
                        "\n",
                        "File \u001b[0;32m~/.cache/pypoetry/virtualenvs/smart-evidence-zrd-iDQT-py3.8/lib/python3.8/site-packages/elasticsearch/client/__init__.py:455\u001b[0m, in \u001b[0;36mElasticsearch.bulk\u001b[0;34m(self, body, index, doc_type, params, headers)\u001b[0m\n",
                        "\u001b[1;32m    <a href='file:///home/gos02501e/.cache/pypoetry/virtualenvs/smart-evidence-zrd-iDQT-py3.8/lib/python3.8/site-packages/elasticsearch/client/__init__.py?line=451'>452</a>\u001b[0m     \u001b[39mraise\u001b[39;00m \u001b[39mValueError\u001b[39;00m(\u001b[39m\"\u001b[39m\u001b[39mEmpty value passed for a required argument \u001b[39m\u001b[39m'\u001b[39m\u001b[39mbody\u001b[39m\u001b[39m'\u001b[39m\u001b[39m.\u001b[39m\u001b[39m\"\u001b[39m)\n",
                        "\u001b[1;32m    <a href='file:///home/gos02501e/.cache/pypoetry/virtualenvs/smart-evidence-zrd-iDQT-py3.8/lib/python3.8/site-packages/elasticsearch/client/__init__.py?line=453'>454</a>\u001b[0m body \u001b[39m=\u001b[39m _bulk_body(\u001b[39mself\u001b[39m\u001b[39m.\u001b[39mtransport\u001b[39m.\u001b[39mserializer, body)\n",
                        "\u001b[0;32m--> <a href='file:///home/gos02501e/.cache/pypoetry/virtualenvs/smart-evidence-zrd-iDQT-py3.8/lib/python3.8/site-packages/elasticsearch/client/__init__.py?line=454'>455</a>\u001b[0m \u001b[39mreturn\u001b[39;00m \u001b[39mself\u001b[39;49m\u001b[39m.\u001b[39;49mtransport\u001b[39m.\u001b[39;49mperform_request(\n",
                        "\u001b[1;32m    <a href='file:///home/gos02501e/.cache/pypoetry/virtualenvs/smart-evidence-zrd-iDQT-py3.8/lib/python3.8/site-packages/elasticsearch/client/__init__.py?line=455'>456</a>\u001b[0m     \u001b[39m\"\u001b[39;49m\u001b[39mPOST\u001b[39;49m\u001b[39m\"\u001b[39;49m,\n",
                        "\u001b[1;32m    <a href='file:///home/gos02501e/.cache/pypoetry/virtualenvs/smart-evidence-zrd-iDQT-py3.8/lib/python3.8/site-packages/elasticsearch/client/__init__.py?line=456'>457</a>\u001b[0m     _make_path(index, doc_type, \u001b[39m\"\u001b[39;49m\u001b[39m_bulk\u001b[39;49m\u001b[39m\"\u001b[39;49m),\n",
                        "\u001b[1;32m    <a href='file:///home/gos02501e/.cache/pypoetry/virtualenvs/smart-evidence-zrd-iDQT-py3.8/lib/python3.8/site-packages/elasticsearch/client/__init__.py?line=457'>458</a>\u001b[0m     params\u001b[39m=\u001b[39;49mparams,\n",
                        "\u001b[1;32m    <a href='file:///home/gos02501e/.cache/pypoetry/virtualenvs/smart-evidence-zrd-iDQT-py3.8/lib/python3.8/site-packages/elasticsearch/client/__init__.py?line=458'>459</a>\u001b[0m     headers\u001b[39m=\u001b[39;49mheaders,\n",
                        "\u001b[1;32m    <a href='file:///home/gos02501e/.cache/pypoetry/virtualenvs/smart-evidence-zrd-iDQT-py3.8/lib/python3.8/site-packages/elasticsearch/client/__init__.py?line=459'>460</a>\u001b[0m     body\u001b[39m=\u001b[39;49mbody,\n",
                        "\u001b[1;32m    <a href='file:///home/gos02501e/.cache/pypoetry/virtualenvs/smart-evidence-zrd-iDQT-py3.8/lib/python3.8/site-packages/elasticsearch/client/__init__.py?line=460'>461</a>\u001b[0m )\n",
                        "\n",
                        "File \u001b[0;32m~/.cache/pypoetry/virtualenvs/smart-evidence-zrd-iDQT-py3.8/lib/python3.8/site-packages/elasticsearch/transport.py:358\u001b[0m, in \u001b[0;36mTransport.perform_request\u001b[0;34m(self, method, url, headers, params, body)\u001b[0m\n",
                        "\u001b[1;32m    <a href='file:///home/gos02501e/.cache/pypoetry/virtualenvs/smart-evidence-zrd-iDQT-py3.8/lib/python3.8/site-packages/elasticsearch/transport.py?line=354'>355</a>\u001b[0m connection \u001b[39m=\u001b[39m \u001b[39mself\u001b[39m\u001b[39m.\u001b[39mget_connection()\n",
                        "\u001b[1;32m    <a href='file:///home/gos02501e/.cache/pypoetry/virtualenvs/smart-evidence-zrd-iDQT-py3.8/lib/python3.8/site-packages/elasticsearch/transport.py?line=356'>357</a>\u001b[0m \u001b[39mtry\u001b[39;00m:\n",
                        "\u001b[0;32m--> <a href='file:///home/gos02501e/.cache/pypoetry/virtualenvs/smart-evidence-zrd-iDQT-py3.8/lib/python3.8/site-packages/elasticsearch/transport.py?line=357'>358</a>\u001b[0m     status, headers_response, data \u001b[39m=\u001b[39m connection\u001b[39m.\u001b[39;49mperform_request(\n",
                        "\u001b[1;32m    <a href='file:///home/gos02501e/.cache/pypoetry/virtualenvs/smart-evidence-zrd-iDQT-py3.8/lib/python3.8/site-packages/elasticsearch/transport.py?line=358'>359</a>\u001b[0m         method,\n",
                        "\u001b[1;32m    <a href='file:///home/gos02501e/.cache/pypoetry/virtualenvs/smart-evidence-zrd-iDQT-py3.8/lib/python3.8/site-packages/elasticsearch/transport.py?line=359'>360</a>\u001b[0m         url,\n",
                        "\u001b[1;32m    <a href='file:///home/gos02501e/.cache/pypoetry/virtualenvs/smart-evidence-zrd-iDQT-py3.8/lib/python3.8/site-packages/elasticsearch/transport.py?line=360'>361</a>\u001b[0m         params,\n",
                        "\u001b[1;32m    <a href='file:///home/gos02501e/.cache/pypoetry/virtualenvs/smart-evidence-zrd-iDQT-py3.8/lib/python3.8/site-packages/elasticsearch/transport.py?line=361'>362</a>\u001b[0m         body,\n",
                        "\u001b[1;32m    <a href='file:///home/gos02501e/.cache/pypoetry/virtualenvs/smart-evidence-zrd-iDQT-py3.8/lib/python3.8/site-packages/elasticsearch/transport.py?line=362'>363</a>\u001b[0m         headers\u001b[39m=\u001b[39;49mheaders,\n",
                        "\u001b[1;32m    <a href='file:///home/gos02501e/.cache/pypoetry/virtualenvs/smart-evidence-zrd-iDQT-py3.8/lib/python3.8/site-packages/elasticsearch/transport.py?line=363'>364</a>\u001b[0m         ignore\u001b[39m=\u001b[39;49mignore,\n",
                        "\u001b[1;32m    <a href='file:///home/gos02501e/.cache/pypoetry/virtualenvs/smart-evidence-zrd-iDQT-py3.8/lib/python3.8/site-packages/elasticsearch/transport.py?line=364'>365</a>\u001b[0m         timeout\u001b[39m=\u001b[39;49mtimeout,\n",
                        "\u001b[1;32m    <a href='file:///home/gos02501e/.cache/pypoetry/virtualenvs/smart-evidence-zrd-iDQT-py3.8/lib/python3.8/site-packages/elasticsearch/transport.py?line=365'>366</a>\u001b[0m     )\n",
                        "\u001b[1;32m    <a href='file:///home/gos02501e/.cache/pypoetry/virtualenvs/smart-evidence-zrd-iDQT-py3.8/lib/python3.8/site-packages/elasticsearch/transport.py?line=367'>368</a>\u001b[0m \u001b[39mexcept\u001b[39;00m TransportError \u001b[39mas\u001b[39;00m e:\n",
                        "\u001b[1;32m    <a href='file:///home/gos02501e/.cache/pypoetry/virtualenvs/smart-evidence-zrd-iDQT-py3.8/lib/python3.8/site-packages/elasticsearch/transport.py?line=368'>369</a>\u001b[0m     \u001b[39mif\u001b[39;00m method \u001b[39m==\u001b[39m \u001b[39m\"\u001b[39m\u001b[39mHEAD\u001b[39m\u001b[39m\"\u001b[39m \u001b[39mand\u001b[39;00m e\u001b[39m.\u001b[39mstatus_code \u001b[39m==\u001b[39m \u001b[39m404\u001b[39m:\n",
                        "\n",
                        "File \u001b[0;32m~/.cache/pypoetry/virtualenvs/smart-evidence-zrd-iDQT-py3.8/lib/python3.8/site-packages/elasticsearch/connection/http_requests.py:161\u001b[0m, in \u001b[0;36mRequestsHttpConnection.perform_request\u001b[0;34m(self, method, url, params, body, timeout, ignore, headers)\u001b[0m\n",
                        "\u001b[1;32m    <a href='file:///home/gos02501e/.cache/pypoetry/virtualenvs/smart-evidence-zrd-iDQT-py3.8/lib/python3.8/site-packages/elasticsearch/connection/http_requests.py?line=158'>159</a>\u001b[0m send_kwargs\u001b[39m.\u001b[39mupdate(settings)\n",
                        "\u001b[1;32m    <a href='file:///home/gos02501e/.cache/pypoetry/virtualenvs/smart-evidence-zrd-iDQT-py3.8/lib/python3.8/site-packages/elasticsearch/connection/http_requests.py?line=159'>160</a>\u001b[0m \u001b[39mtry\u001b[39;00m:\n",
                        "\u001b[0;32m--> <a href='file:///home/gos02501e/.cache/pypoetry/virtualenvs/smart-evidence-zrd-iDQT-py3.8/lib/python3.8/site-packages/elasticsearch/connection/http_requests.py?line=160'>161</a>\u001b[0m     response \u001b[39m=\u001b[39m \u001b[39mself\u001b[39;49m\u001b[39m.\u001b[39;49msession\u001b[39m.\u001b[39;49msend(prepared_request, \u001b[39m*\u001b[39;49m\u001b[39m*\u001b[39;49msend_kwargs)\n",
                        "\u001b[1;32m    <a href='file:///home/gos02501e/.cache/pypoetry/virtualenvs/smart-evidence-zrd-iDQT-py3.8/lib/python3.8/site-packages/elasticsearch/connection/http_requests.py?line=161'>162</a>\u001b[0m     duration \u001b[39m=\u001b[39m time\u001b[39m.\u001b[39mtime() \u001b[39m-\u001b[39m start\n",
                        "\u001b[1;32m    <a href='file:///home/gos02501e/.cache/pypoetry/virtualenvs/smart-evidence-zrd-iDQT-py3.8/lib/python3.8/site-packages/elasticsearch/connection/http_requests.py?line=162'>163</a>\u001b[0m     raw_data \u001b[39m=\u001b[39m response\u001b[39m.\u001b[39mcontent\u001b[39m.\u001b[39mdecode(\u001b[39m\"\u001b[39m\u001b[39mutf-8\u001b[39m\u001b[39m\"\u001b[39m, \u001b[39m\"\u001b[39m\u001b[39msurrogatepass\u001b[39m\u001b[39m\"\u001b[39m)\n",
                        "\n",
                        "File \u001b[0;32m~/.cache/pypoetry/virtualenvs/smart-evidence-zrd-iDQT-py3.8/lib/python3.8/site-packages/requests/sessions.py:645\u001b[0m, in \u001b[0;36mSession.send\u001b[0;34m(self, request, **kwargs)\u001b[0m\n",
                        "\u001b[1;32m    <a href='file:///home/gos02501e/.cache/pypoetry/virtualenvs/smart-evidence-zrd-iDQT-py3.8/lib/python3.8/site-packages/requests/sessions.py?line=641'>642</a>\u001b[0m start \u001b[39m=\u001b[39m preferred_clock()\n",
                        "\u001b[1;32m    <a href='file:///home/gos02501e/.cache/pypoetry/virtualenvs/smart-evidence-zrd-iDQT-py3.8/lib/python3.8/site-packages/requests/sessions.py?line=643'>644</a>\u001b[0m \u001b[39m# Send the request\u001b[39;00m\n",
                        "\u001b[0;32m--> <a href='file:///home/gos02501e/.cache/pypoetry/virtualenvs/smart-evidence-zrd-iDQT-py3.8/lib/python3.8/site-packages/requests/sessions.py?line=644'>645</a>\u001b[0m r \u001b[39m=\u001b[39m adapter\u001b[39m.\u001b[39;49msend(request, \u001b[39m*\u001b[39;49m\u001b[39m*\u001b[39;49mkwargs)\n",
                        "\u001b[1;32m    <a href='file:///home/gos02501e/.cache/pypoetry/virtualenvs/smart-evidence-zrd-iDQT-py3.8/lib/python3.8/site-packages/requests/sessions.py?line=646'>647</a>\u001b[0m \u001b[39m# Total elapsed time of the request (approximately)\u001b[39;00m\n",
                        "\u001b[1;32m    <a href='file:///home/gos02501e/.cache/pypoetry/virtualenvs/smart-evidence-zrd-iDQT-py3.8/lib/python3.8/site-packages/requests/sessions.py?line=647'>648</a>\u001b[0m elapsed \u001b[39m=\u001b[39m preferred_clock() \u001b[39m-\u001b[39m start\n",
                        "\n",
                        "File \u001b[0;32m~/.cache/pypoetry/virtualenvs/smart-evidence-zrd-iDQT-py3.8/lib/python3.8/site-packages/requests/adapters.py:440\u001b[0m, in \u001b[0;36mHTTPAdapter.send\u001b[0;34m(self, request, stream, timeout, verify, cert, proxies)\u001b[0m\n",
                        "\u001b[1;32m    <a href='file:///home/gos02501e/.cache/pypoetry/virtualenvs/smart-evidence-zrd-iDQT-py3.8/lib/python3.8/site-packages/requests/adapters.py?line=437'>438</a>\u001b[0m \u001b[39mtry\u001b[39;00m:\n",
                        "\u001b[1;32m    <a href='file:///home/gos02501e/.cache/pypoetry/virtualenvs/smart-evidence-zrd-iDQT-py3.8/lib/python3.8/site-packages/requests/adapters.py?line=438'>439</a>\u001b[0m     \u001b[39mif\u001b[39;00m \u001b[39mnot\u001b[39;00m chunked:\n",
                        "\u001b[0;32m--> <a href='file:///home/gos02501e/.cache/pypoetry/virtualenvs/smart-evidence-zrd-iDQT-py3.8/lib/python3.8/site-packages/requests/adapters.py?line=439'>440</a>\u001b[0m         resp \u001b[39m=\u001b[39m conn\u001b[39m.\u001b[39;49murlopen(\n",
                        "\u001b[1;32m    <a href='file:///home/gos02501e/.cache/pypoetry/virtualenvs/smart-evidence-zrd-iDQT-py3.8/lib/python3.8/site-packages/requests/adapters.py?line=440'>441</a>\u001b[0m             method\u001b[39m=\u001b[39;49mrequest\u001b[39m.\u001b[39;49mmethod,\n",
                        "\u001b[1;32m    <a href='file:///home/gos02501e/.cache/pypoetry/virtualenvs/smart-evidence-zrd-iDQT-py3.8/lib/python3.8/site-packages/requests/adapters.py?line=441'>442</a>\u001b[0m             url\u001b[39m=\u001b[39;49murl,\n",
                        "\u001b[1;32m    <a href='file:///home/gos02501e/.cache/pypoetry/virtualenvs/smart-evidence-zrd-iDQT-py3.8/lib/python3.8/site-packages/requests/adapters.py?line=442'>443</a>\u001b[0m             body\u001b[39m=\u001b[39;49mrequest\u001b[39m.\u001b[39;49mbody,\n",
                        "\u001b[1;32m    <a href='file:///home/gos02501e/.cache/pypoetry/virtualenvs/smart-evidence-zrd-iDQT-py3.8/lib/python3.8/site-packages/requests/adapters.py?line=443'>444</a>\u001b[0m             headers\u001b[39m=\u001b[39;49mrequest\u001b[39m.\u001b[39;49mheaders,\n",
                        "\u001b[1;32m    <a href='file:///home/gos02501e/.cache/pypoetry/virtualenvs/smart-evidence-zrd-iDQT-py3.8/lib/python3.8/site-packages/requests/adapters.py?line=444'>445</a>\u001b[0m             redirect\u001b[39m=\u001b[39;49m\u001b[39mFalse\u001b[39;49;00m,\n",
                        "\u001b[1;32m    <a href='file:///home/gos02501e/.cache/pypoetry/virtualenvs/smart-evidence-zrd-iDQT-py3.8/lib/python3.8/site-packages/requests/adapters.py?line=445'>446</a>\u001b[0m             assert_same_host\u001b[39m=\u001b[39;49m\u001b[39mFalse\u001b[39;49;00m,\n",
                        "\u001b[1;32m    <a href='file:///home/gos02501e/.cache/pypoetry/virtualenvs/smart-evidence-zrd-iDQT-py3.8/lib/python3.8/site-packages/requests/adapters.py?line=446'>447</a>\u001b[0m             preload_content\u001b[39m=\u001b[39;49m\u001b[39mFalse\u001b[39;49;00m,\n",
                        "\u001b[1;32m    <a href='file:///home/gos02501e/.cache/pypoetry/virtualenvs/smart-evidence-zrd-iDQT-py3.8/lib/python3.8/site-packages/requests/adapters.py?line=447'>448</a>\u001b[0m             decode_content\u001b[39m=\u001b[39;49m\u001b[39mFalse\u001b[39;49;00m,\n",
                        "\u001b[1;32m    <a href='file:///home/gos02501e/.cache/pypoetry/virtualenvs/smart-evidence-zrd-iDQT-py3.8/lib/python3.8/site-packages/requests/adapters.py?line=448'>449</a>\u001b[0m             retries\u001b[39m=\u001b[39;49m\u001b[39mself\u001b[39;49m\u001b[39m.\u001b[39;49mmax_retries,\n",
                        "\u001b[1;32m    <a href='file:///home/gos02501e/.cache/pypoetry/virtualenvs/smart-evidence-zrd-iDQT-py3.8/lib/python3.8/site-packages/requests/adapters.py?line=449'>450</a>\u001b[0m             timeout\u001b[39m=\u001b[39;49mtimeout\n",
                        "\u001b[1;32m    <a href='file:///home/gos02501e/.cache/pypoetry/virtualenvs/smart-evidence-zrd-iDQT-py3.8/lib/python3.8/site-packages/requests/adapters.py?line=450'>451</a>\u001b[0m         )\n",
                        "\u001b[1;32m    <a href='file:///home/gos02501e/.cache/pypoetry/virtualenvs/smart-evidence-zrd-iDQT-py3.8/lib/python3.8/site-packages/requests/adapters.py?line=452'>453</a>\u001b[0m     \u001b[39m# Send the request.\u001b[39;00m\n",
                        "\u001b[1;32m    <a href='file:///home/gos02501e/.cache/pypoetry/virtualenvs/smart-evidence-zrd-iDQT-py3.8/lib/python3.8/site-packages/requests/adapters.py?line=453'>454</a>\u001b[0m     \u001b[39melse\u001b[39;00m:\n",
                        "\u001b[1;32m    <a href='file:///home/gos02501e/.cache/pypoetry/virtualenvs/smart-evidence-zrd-iDQT-py3.8/lib/python3.8/site-packages/requests/adapters.py?line=454'>455</a>\u001b[0m         \u001b[39mif\u001b[39;00m \u001b[39mhasattr\u001b[39m(conn, \u001b[39m'\u001b[39m\u001b[39mproxy_pool\u001b[39m\u001b[39m'\u001b[39m):\n",
                        "\n",
                        "File \u001b[0;32m~/.cache/pypoetry/virtualenvs/smart-evidence-zrd-iDQT-py3.8/lib/python3.8/site-packages/urllib3/connectionpool.py:703\u001b[0m, in \u001b[0;36mHTTPConnectionPool.urlopen\u001b[0;34m(self, method, url, body, headers, retries, redirect, assert_same_host, timeout, pool_timeout, release_conn, chunked, body_pos, **response_kw)\u001b[0m\n",
                        "\u001b[1;32m    <a href='file:///home/gos02501e/.cache/pypoetry/virtualenvs/smart-evidence-zrd-iDQT-py3.8/lib/python3.8/site-packages/urllib3/connectionpool.py?line=699'>700</a>\u001b[0m     \u001b[39mself\u001b[39m\u001b[39m.\u001b[39m_prepare_proxy(conn)\n",
                        "\u001b[1;32m    <a href='file:///home/gos02501e/.cache/pypoetry/virtualenvs/smart-evidence-zrd-iDQT-py3.8/lib/python3.8/site-packages/urllib3/connectionpool.py?line=701'>702</a>\u001b[0m \u001b[39m# Make the request on the httplib connection object.\u001b[39;00m\n",
                        "\u001b[0;32m--> <a href='file:///home/gos02501e/.cache/pypoetry/virtualenvs/smart-evidence-zrd-iDQT-py3.8/lib/python3.8/site-packages/urllib3/connectionpool.py?line=702'>703</a>\u001b[0m httplib_response \u001b[39m=\u001b[39m \u001b[39mself\u001b[39;49m\u001b[39m.\u001b[39;49m_make_request(\n",
                        "\u001b[1;32m    <a href='file:///home/gos02501e/.cache/pypoetry/virtualenvs/smart-evidence-zrd-iDQT-py3.8/lib/python3.8/site-packages/urllib3/connectionpool.py?line=703'>704</a>\u001b[0m     conn,\n",
                        "\u001b[1;32m    <a href='file:///home/gos02501e/.cache/pypoetry/virtualenvs/smart-evidence-zrd-iDQT-py3.8/lib/python3.8/site-packages/urllib3/connectionpool.py?line=704'>705</a>\u001b[0m     method,\n",
                        "\u001b[1;32m    <a href='file:///home/gos02501e/.cache/pypoetry/virtualenvs/smart-evidence-zrd-iDQT-py3.8/lib/python3.8/site-packages/urllib3/connectionpool.py?line=705'>706</a>\u001b[0m     url,\n",
                        "\u001b[1;32m    <a href='file:///home/gos02501e/.cache/pypoetry/virtualenvs/smart-evidence-zrd-iDQT-py3.8/lib/python3.8/site-packages/urllib3/connectionpool.py?line=706'>707</a>\u001b[0m     timeout\u001b[39m=\u001b[39;49mtimeout_obj,\n",
                        "\u001b[1;32m    <a href='file:///home/gos02501e/.cache/pypoetry/virtualenvs/smart-evidence-zrd-iDQT-py3.8/lib/python3.8/site-packages/urllib3/connectionpool.py?line=707'>708</a>\u001b[0m     body\u001b[39m=\u001b[39;49mbody,\n",
                        "\u001b[1;32m    <a href='file:///home/gos02501e/.cache/pypoetry/virtualenvs/smart-evidence-zrd-iDQT-py3.8/lib/python3.8/site-packages/urllib3/connectionpool.py?line=708'>709</a>\u001b[0m     headers\u001b[39m=\u001b[39;49mheaders,\n",
                        "\u001b[1;32m    <a href='file:///home/gos02501e/.cache/pypoetry/virtualenvs/smart-evidence-zrd-iDQT-py3.8/lib/python3.8/site-packages/urllib3/connectionpool.py?line=709'>710</a>\u001b[0m     chunked\u001b[39m=\u001b[39;49mchunked,\n",
                        "\u001b[1;32m    <a href='file:///home/gos02501e/.cache/pypoetry/virtualenvs/smart-evidence-zrd-iDQT-py3.8/lib/python3.8/site-packages/urllib3/connectionpool.py?line=710'>711</a>\u001b[0m )\n",
                        "\u001b[1;32m    <a href='file:///home/gos02501e/.cache/pypoetry/virtualenvs/smart-evidence-zrd-iDQT-py3.8/lib/python3.8/site-packages/urllib3/connectionpool.py?line=712'>713</a>\u001b[0m \u001b[39m# If we're going to release the connection in ``finally:``, then\u001b[39;00m\n",
                        "\u001b[1;32m    <a href='file:///home/gos02501e/.cache/pypoetry/virtualenvs/smart-evidence-zrd-iDQT-py3.8/lib/python3.8/site-packages/urllib3/connectionpool.py?line=713'>714</a>\u001b[0m \u001b[39m# the response doesn't need to know about the connection. Otherwise\u001b[39;00m\n",
                        "\u001b[1;32m    <a href='file:///home/gos02501e/.cache/pypoetry/virtualenvs/smart-evidence-zrd-iDQT-py3.8/lib/python3.8/site-packages/urllib3/connectionpool.py?line=714'>715</a>\u001b[0m \u001b[39m# it will also try to release it and we'll have a double-release\u001b[39;00m\n",
                        "\u001b[1;32m    <a href='file:///home/gos02501e/.cache/pypoetry/virtualenvs/smart-evidence-zrd-iDQT-py3.8/lib/python3.8/site-packages/urllib3/connectionpool.py?line=715'>716</a>\u001b[0m \u001b[39m# mess.\u001b[39;00m\n",
                        "\u001b[1;32m    <a href='file:///home/gos02501e/.cache/pypoetry/virtualenvs/smart-evidence-zrd-iDQT-py3.8/lib/python3.8/site-packages/urllib3/connectionpool.py?line=716'>717</a>\u001b[0m response_conn \u001b[39m=\u001b[39m conn \u001b[39mif\u001b[39;00m \u001b[39mnot\u001b[39;00m release_conn \u001b[39melse\u001b[39;00m \u001b[39mNone\u001b[39;00m\n",
                        "\n",
                        "File \u001b[0;32m~/.cache/pypoetry/virtualenvs/smart-evidence-zrd-iDQT-py3.8/lib/python3.8/site-packages/urllib3/connectionpool.py:398\u001b[0m, in \u001b[0;36mHTTPConnectionPool._make_request\u001b[0;34m(self, conn, method, url, timeout, chunked, **httplib_request_kw)\u001b[0m\n",
                        "\u001b[1;32m    <a href='file:///home/gos02501e/.cache/pypoetry/virtualenvs/smart-evidence-zrd-iDQT-py3.8/lib/python3.8/site-packages/urllib3/connectionpool.py?line=395'>396</a>\u001b[0m         conn\u001b[39m.\u001b[39mrequest_chunked(method, url, \u001b[39m*\u001b[39m\u001b[39m*\u001b[39mhttplib_request_kw)\n",
                        "\u001b[1;32m    <a href='file:///home/gos02501e/.cache/pypoetry/virtualenvs/smart-evidence-zrd-iDQT-py3.8/lib/python3.8/site-packages/urllib3/connectionpool.py?line=396'>397</a>\u001b[0m     \u001b[39melse\u001b[39;00m:\n",
                        "\u001b[0;32m--> <a href='file:///home/gos02501e/.cache/pypoetry/virtualenvs/smart-evidence-zrd-iDQT-py3.8/lib/python3.8/site-packages/urllib3/connectionpool.py?line=397'>398</a>\u001b[0m         conn\u001b[39m.\u001b[39;49mrequest(method, url, \u001b[39m*\u001b[39;49m\u001b[39m*\u001b[39;49mhttplib_request_kw)\n",
                        "\u001b[1;32m    <a href='file:///home/gos02501e/.cache/pypoetry/virtualenvs/smart-evidence-zrd-iDQT-py3.8/lib/python3.8/site-packages/urllib3/connectionpool.py?line=399'>400</a>\u001b[0m \u001b[39m# We are swallowing BrokenPipeError (errno.EPIPE) since the server is\u001b[39;00m\n",
                        "\u001b[1;32m    <a href='file:///home/gos02501e/.cache/pypoetry/virtualenvs/smart-evidence-zrd-iDQT-py3.8/lib/python3.8/site-packages/urllib3/connectionpool.py?line=400'>401</a>\u001b[0m \u001b[39m# legitimately able to close the connection after sending a valid response.\u001b[39;00m\n",
                        "\u001b[1;32m    <a href='file:///home/gos02501e/.cache/pypoetry/virtualenvs/smart-evidence-zrd-iDQT-py3.8/lib/python3.8/site-packages/urllib3/connectionpool.py?line=401'>402</a>\u001b[0m \u001b[39m# With this behaviour, the received response is still readable.\u001b[39;00m\n",
                        "\u001b[1;32m    <a href='file:///home/gos02501e/.cache/pypoetry/virtualenvs/smart-evidence-zrd-iDQT-py3.8/lib/python3.8/site-packages/urllib3/connectionpool.py?line=402'>403</a>\u001b[0m \u001b[39mexcept\u001b[39;00m \u001b[39mBrokenPipeError\u001b[39;00m:\n",
                        "\u001b[1;32m    <a href='file:///home/gos02501e/.cache/pypoetry/virtualenvs/smart-evidence-zrd-iDQT-py3.8/lib/python3.8/site-packages/urllib3/connectionpool.py?line=403'>404</a>\u001b[0m     \u001b[39m# Python 3\u001b[39;00m\n",
                        "\n",
                        "File \u001b[0;32m~/.cache/pypoetry/virtualenvs/smart-evidence-zrd-iDQT-py3.8/lib/python3.8/site-packages/urllib3/connection.py:239\u001b[0m, in \u001b[0;36mHTTPConnection.request\u001b[0;34m(self, method, url, body, headers)\u001b[0m\n",
                        "\u001b[1;32m    <a href='file:///home/gos02501e/.cache/pypoetry/virtualenvs/smart-evidence-zrd-iDQT-py3.8/lib/python3.8/site-packages/urllib3/connection.py?line=236'>237</a>\u001b[0m \u001b[39mif\u001b[39;00m \u001b[39m\"\u001b[39m\u001b[39muser-agent\u001b[39m\u001b[39m\"\u001b[39m \u001b[39mnot\u001b[39;00m \u001b[39min\u001b[39;00m (six\u001b[39m.\u001b[39mensure_str(k\u001b[39m.\u001b[39mlower()) \u001b[39mfor\u001b[39;00m k \u001b[39min\u001b[39;00m headers):\n",
                        "\u001b[1;32m    <a href='file:///home/gos02501e/.cache/pypoetry/virtualenvs/smart-evidence-zrd-iDQT-py3.8/lib/python3.8/site-packages/urllib3/connection.py?line=237'>238</a>\u001b[0m     headers[\u001b[39m\"\u001b[39m\u001b[39mUser-Agent\u001b[39m\u001b[39m\"\u001b[39m] \u001b[39m=\u001b[39m _get_default_user_agent()\n",
                        "\u001b[0;32m--> <a href='file:///home/gos02501e/.cache/pypoetry/virtualenvs/smart-evidence-zrd-iDQT-py3.8/lib/python3.8/site-packages/urllib3/connection.py?line=238'>239</a>\u001b[0m \u001b[39msuper\u001b[39;49m(HTTPConnection, \u001b[39mself\u001b[39;49m)\u001b[39m.\u001b[39;49mrequest(method, url, body\u001b[39m=\u001b[39;49mbody, headers\u001b[39m=\u001b[39;49mheaders)\n",
                        "\n",
                        "File \u001b[0;32m~/.pyenv/versions/3.8.12/lib/python3.8/http/client.py:1256\u001b[0m, in \u001b[0;36mHTTPConnection.request\u001b[0;34m(self, method, url, body, headers, encode_chunked)\u001b[0m\n",
                        "\u001b[1;32m   <a href='file:///home/gos02501e/.pyenv/versions/3.8.12/lib/python3.8/http/client.py?line=1252'>1253</a>\u001b[0m \u001b[39mdef\u001b[39;00m \u001b[39mrequest\u001b[39m(\u001b[39mself\u001b[39m, method, url, body\u001b[39m=\u001b[39m\u001b[39mNone\u001b[39;00m, headers\u001b[39m=\u001b[39m{}, \u001b[39m*\u001b[39m,\n",
                        "\u001b[1;32m   <a href='file:///home/gos02501e/.pyenv/versions/3.8.12/lib/python3.8/http/client.py?line=1253'>1254</a>\u001b[0m             encode_chunked\u001b[39m=\u001b[39m\u001b[39mFalse\u001b[39;00m):\n",
                        "\u001b[1;32m   <a href='file:///home/gos02501e/.pyenv/versions/3.8.12/lib/python3.8/http/client.py?line=1254'>1255</a>\u001b[0m     \u001b[39m\"\"\"Send a complete request to the server.\"\"\"\u001b[39;00m\n",
                        "\u001b[0;32m-> <a href='file:///home/gos02501e/.pyenv/versions/3.8.12/lib/python3.8/http/client.py?line=1255'>1256</a>\u001b[0m     \u001b[39mself\u001b[39;49m\u001b[39m.\u001b[39;49m_send_request(method, url, body, headers, encode_chunked)\n",
                        "\n",
                        "File \u001b[0;32m~/.pyenv/versions/3.8.12/lib/python3.8/http/client.py:1302\u001b[0m, in \u001b[0;36mHTTPConnection._send_request\u001b[0;34m(self, method, url, body, headers, encode_chunked)\u001b[0m\n",
                        "\u001b[1;32m   <a href='file:///home/gos02501e/.pyenv/versions/3.8.12/lib/python3.8/http/client.py?line=1297'>1298</a>\u001b[0m \u001b[39mif\u001b[39;00m \u001b[39misinstance\u001b[39m(body, \u001b[39mstr\u001b[39m):\n",
                        "\u001b[1;32m   <a href='file:///home/gos02501e/.pyenv/versions/3.8.12/lib/python3.8/http/client.py?line=1298'>1299</a>\u001b[0m     \u001b[39m# RFC 2616 Section 3.7.1 says that text default has a\u001b[39;00m\n",
                        "\u001b[1;32m   <a href='file:///home/gos02501e/.pyenv/versions/3.8.12/lib/python3.8/http/client.py?line=1299'>1300</a>\u001b[0m     \u001b[39m# default charset of iso-8859-1.\u001b[39;00m\n",
                        "\u001b[1;32m   <a href='file:///home/gos02501e/.pyenv/versions/3.8.12/lib/python3.8/http/client.py?line=1300'>1301</a>\u001b[0m     body \u001b[39m=\u001b[39m _encode(body, \u001b[39m'\u001b[39m\u001b[39mbody\u001b[39m\u001b[39m'\u001b[39m)\n",
                        "\u001b[0;32m-> <a href='file:///home/gos02501e/.pyenv/versions/3.8.12/lib/python3.8/http/client.py?line=1301'>1302</a>\u001b[0m \u001b[39mself\u001b[39;49m\u001b[39m.\u001b[39;49mendheaders(body, encode_chunked\u001b[39m=\u001b[39;49mencode_chunked)\n",
                        "\n",
                        "File \u001b[0;32m~/.pyenv/versions/3.8.12/lib/python3.8/http/client.py:1251\u001b[0m, in \u001b[0;36mHTTPConnection.endheaders\u001b[0;34m(self, message_body, encode_chunked)\u001b[0m\n",
                        "\u001b[1;32m   <a href='file:///home/gos02501e/.pyenv/versions/3.8.12/lib/python3.8/http/client.py?line=1248'>1249</a>\u001b[0m \u001b[39melse\u001b[39;00m:\n",
                        "\u001b[1;32m   <a href='file:///home/gos02501e/.pyenv/versions/3.8.12/lib/python3.8/http/client.py?line=1249'>1250</a>\u001b[0m     \u001b[39mraise\u001b[39;00m CannotSendHeader()\n",
                        "\u001b[0;32m-> <a href='file:///home/gos02501e/.pyenv/versions/3.8.12/lib/python3.8/http/client.py?line=1250'>1251</a>\u001b[0m \u001b[39mself\u001b[39;49m\u001b[39m.\u001b[39;49m_send_output(message_body, encode_chunked\u001b[39m=\u001b[39;49mencode_chunked)\n",
                        "\n",
                        "File \u001b[0;32m~/.pyenv/versions/3.8.12/lib/python3.8/http/client.py:1050\u001b[0m, in \u001b[0;36mHTTPConnection._send_output\u001b[0;34m(self, message_body, encode_chunked)\u001b[0m\n",
                        "\u001b[1;32m   <a href='file:///home/gos02501e/.pyenv/versions/3.8.12/lib/python3.8/http/client.py?line=1045'>1046</a>\u001b[0m     \u001b[39mif\u001b[39;00m encode_chunked \u001b[39mand\u001b[39;00m \u001b[39mself\u001b[39m\u001b[39m.\u001b[39m_http_vsn \u001b[39m==\u001b[39m \u001b[39m11\u001b[39m:\n",
                        "\u001b[1;32m   <a href='file:///home/gos02501e/.pyenv/versions/3.8.12/lib/python3.8/http/client.py?line=1046'>1047</a>\u001b[0m         \u001b[39m# chunked encoding\u001b[39;00m\n",
                        "\u001b[1;32m   <a href='file:///home/gos02501e/.pyenv/versions/3.8.12/lib/python3.8/http/client.py?line=1047'>1048</a>\u001b[0m         chunk \u001b[39m=\u001b[39m \u001b[39mf\u001b[39m\u001b[39m'\u001b[39m\u001b[39m{\u001b[39;00m\u001b[39mlen\u001b[39m(chunk)\u001b[39m:\u001b[39;00m\u001b[39mX\u001b[39m\u001b[39m}\u001b[39;00m\u001b[39m\\r\u001b[39;00m\u001b[39m\\n\u001b[39;00m\u001b[39m'\u001b[39m\u001b[39m.\u001b[39mencode(\u001b[39m'\u001b[39m\u001b[39mascii\u001b[39m\u001b[39m'\u001b[39m) \u001b[39m+\u001b[39m chunk \\\n",
                        "\u001b[1;32m   <a href='file:///home/gos02501e/.pyenv/versions/3.8.12/lib/python3.8/http/client.py?line=1048'>1049</a>\u001b[0m             \u001b[39m+\u001b[39m \u001b[39mb\u001b[39m\u001b[39m'\u001b[39m\u001b[39m\\r\u001b[39;00m\u001b[39m\\n\u001b[39;00m\u001b[39m'\u001b[39m\n",
                        "\u001b[0;32m-> <a href='file:///home/gos02501e/.pyenv/versions/3.8.12/lib/python3.8/http/client.py?line=1049'>1050</a>\u001b[0m     \u001b[39mself\u001b[39;49m\u001b[39m.\u001b[39;49msend(chunk)\n",
                        "\u001b[1;32m   <a href='file:///home/gos02501e/.pyenv/versions/3.8.12/lib/python3.8/http/client.py?line=1051'>1052</a>\u001b[0m \u001b[39mif\u001b[39;00m encode_chunked \u001b[39mand\u001b[39;00m \u001b[39mself\u001b[39m\u001b[39m.\u001b[39m_http_vsn \u001b[39m==\u001b[39m \u001b[39m11\u001b[39m:\n",
                        "\u001b[1;32m   <a href='file:///home/gos02501e/.pyenv/versions/3.8.12/lib/python3.8/http/client.py?line=1052'>1053</a>\u001b[0m     \u001b[39m# end chunked transfer\u001b[39;00m\n",
                        "\u001b[1;32m   <a href='file:///home/gos02501e/.pyenv/versions/3.8.12/lib/python3.8/http/client.py?line=1053'>1054</a>\u001b[0m     \u001b[39mself\u001b[39m\u001b[39m.\u001b[39msend(\u001b[39mb\u001b[39m\u001b[39m'\u001b[39m\u001b[39m0\u001b[39m\u001b[39m\\r\u001b[39;00m\u001b[39m\\n\u001b[39;00m\u001b[39m\\r\u001b[39;00m\u001b[39m\\n\u001b[39;00m\u001b[39m'\u001b[39m)\n",
                        "\n",
                        "File \u001b[0;32m~/.pyenv/versions/3.8.12/lib/python3.8/http/client.py:972\u001b[0m, in \u001b[0;36mHTTPConnection.send\u001b[0;34m(self, data)\u001b[0m\n",
                        "\u001b[1;32m    <a href='file:///home/gos02501e/.pyenv/versions/3.8.12/lib/python3.8/http/client.py?line=969'>970</a>\u001b[0m     \u001b[39mreturn\u001b[39;00m\n",
                        "\u001b[1;32m    <a href='file:///home/gos02501e/.pyenv/versions/3.8.12/lib/python3.8/http/client.py?line=970'>971</a>\u001b[0m \u001b[39mtry\u001b[39;00m:\n",
                        "\u001b[0;32m--> <a href='file:///home/gos02501e/.pyenv/versions/3.8.12/lib/python3.8/http/client.py?line=971'>972</a>\u001b[0m     \u001b[39mself\u001b[39;49m\u001b[39m.\u001b[39;49msock\u001b[39m.\u001b[39;49msendall(data)\n",
                        "\u001b[1;32m    <a href='file:///home/gos02501e/.pyenv/versions/3.8.12/lib/python3.8/http/client.py?line=972'>973</a>\u001b[0m \u001b[39mexcept\u001b[39;00m \u001b[39mTypeError\u001b[39;00m:\n",
                        "\u001b[1;32m    <a href='file:///home/gos02501e/.pyenv/versions/3.8.12/lib/python3.8/http/client.py?line=973'>974</a>\u001b[0m     \u001b[39mif\u001b[39;00m \u001b[39misinstance\u001b[39m(data, collections\u001b[39m.\u001b[39mabc\u001b[39m.\u001b[39mIterable):\n",
                        "\n",
                        "File \u001b[0;32m~/.pyenv/versions/3.8.12/lib/python3.8/ssl.py:1204\u001b[0m, in \u001b[0;36mSSLSocket.sendall\u001b[0;34m(self, data, flags)\u001b[0m\n",
                        "\u001b[1;32m   <a href='file:///home/gos02501e/.pyenv/versions/3.8.12/lib/python3.8/ssl.py?line=1201'>1202</a>\u001b[0m         amount \u001b[39m=\u001b[39m \u001b[39mlen\u001b[39m(byte_view)\n",
                        "\u001b[1;32m   <a href='file:///home/gos02501e/.pyenv/versions/3.8.12/lib/python3.8/ssl.py?line=1202'>1203</a>\u001b[0m         \u001b[39mwhile\u001b[39;00m count \u001b[39m<\u001b[39m amount:\n",
                        "\u001b[0;32m-> <a href='file:///home/gos02501e/.pyenv/versions/3.8.12/lib/python3.8/ssl.py?line=1203'>1204</a>\u001b[0m             v \u001b[39m=\u001b[39m \u001b[39mself\u001b[39;49m\u001b[39m.\u001b[39;49msend(byte_view[count:])\n",
                        "\u001b[1;32m   <a href='file:///home/gos02501e/.pyenv/versions/3.8.12/lib/python3.8/ssl.py?line=1204'>1205</a>\u001b[0m             count \u001b[39m+\u001b[39m\u001b[39m=\u001b[39m v\n",
                        "\u001b[1;32m   <a href='file:///home/gos02501e/.pyenv/versions/3.8.12/lib/python3.8/ssl.py?line=1205'>1206</a>\u001b[0m \u001b[39melse\u001b[39;00m:\n",
                        "\n",
                        "File \u001b[0;32m~/.pyenv/versions/3.8.12/lib/python3.8/ssl.py:1173\u001b[0m, in \u001b[0;36mSSLSocket.send\u001b[0;34m(self, data, flags)\u001b[0m\n",
                        "\u001b[1;32m   <a href='file:///home/gos02501e/.pyenv/versions/3.8.12/lib/python3.8/ssl.py?line=1168'>1169</a>\u001b[0m     \u001b[39mif\u001b[39;00m flags \u001b[39m!=\u001b[39m \u001b[39m0\u001b[39m:\n",
                        "\u001b[1;32m   <a href='file:///home/gos02501e/.pyenv/versions/3.8.12/lib/python3.8/ssl.py?line=1169'>1170</a>\u001b[0m         \u001b[39mraise\u001b[39;00m \u001b[39mValueError\u001b[39;00m(\n",
                        "\u001b[1;32m   <a href='file:///home/gos02501e/.pyenv/versions/3.8.12/lib/python3.8/ssl.py?line=1170'>1171</a>\u001b[0m             \u001b[39m\"\u001b[39m\u001b[39mnon-zero flags not allowed in calls to send() on \u001b[39m\u001b[39m%s\u001b[39;00m\u001b[39m\"\u001b[39m \u001b[39m%\u001b[39m\n",
                        "\u001b[1;32m   <a href='file:///home/gos02501e/.pyenv/versions/3.8.12/lib/python3.8/ssl.py?line=1171'>1172</a>\u001b[0m             \u001b[39mself\u001b[39m\u001b[39m.\u001b[39m\u001b[39m__class__\u001b[39m)\n",
                        "\u001b[0;32m-> <a href='file:///home/gos02501e/.pyenv/versions/3.8.12/lib/python3.8/ssl.py?line=1172'>1173</a>\u001b[0m     \u001b[39mreturn\u001b[39;00m \u001b[39mself\u001b[39;49m\u001b[39m.\u001b[39;49m_sslobj\u001b[39m.\u001b[39;49mwrite(data)\n",
                        "\u001b[1;32m   <a href='file:///home/gos02501e/.pyenv/versions/3.8.12/lib/python3.8/ssl.py?line=1173'>1174</a>\u001b[0m \u001b[39melse\u001b[39;00m:\n",
                        "\u001b[1;32m   <a href='file:///home/gos02501e/.pyenv/versions/3.8.12/lib/python3.8/ssl.py?line=1174'>1175</a>\u001b[0m     \u001b[39mreturn\u001b[39;00m \u001b[39msuper\u001b[39m()\u001b[39m.\u001b[39msend(data, flags)\n",
                        "\n",
                        "\u001b[0;31mKeyboardInterrupt\u001b[0m: "
                    ]
                }
            ],
            "source": [
                "from collections import Counter\n",
                "from tqdm import tqdm\n",
                "import re\n",
                "\n",
                "document_batch = []\n",
                "for document in tqdm(\n",
                "    document_store.get_all_documents_generator(batch_size=10000, return_embedding=True, filters={'source_file': sources_without_concepts})\n",
                "):\n",
                "    entities = document.meta[\"entities\"]\n",
                "    impact_concept_counts = Counter()\n",
                "    company_concept_counts = Counter()\n",
                "    for i in range(len(entities)):\n",
                "        ent = entities[i]\n",
                "        if 'id' not in ent: continue\n",
                "        entities[i][\"concept_label\"] = ent[\"id\"].split(\";\")[-1]\n",
                "        if ent[\"label\"] == \"IMPACT\":\n",
                "            # for iris_category in re.findall(r\"IRIS\\/(.*?)[;\\/$]\", ent[\"id\"]):\n",
                "            #     impact_concept_counts[iris_category] = impact_concept_counts.get(\n",
                "            #         iris_category, Counter()\n",
                "            #     )\n",
                "            #     impact_concept_counts[iris_category].update([ent[\"concept_label\"]])\n",
                "            impact_concept_counts.update([ent['concept_label']])\n",
                "        elif ent[\"label\"] == \"COMPANY\":\n",
                "            company_concept_counts.update([ent['concept_label']])\n",
                "\n",
                "    document.meta[\"impact_concepts\"] = list(impact_concept_counts.keys())\n",
                "    document.meta[\"impact_concept_counts\"] = dict(impact_concept_counts)\n",
                "    document.meta[\"company_concepts\"] = list(company_concept_counts.keys())\n",
                "    document.meta[\"company_concept_counts\"] = dict(company_concept_counts)\n",
                "\n",
                "    concept_counts = impact_concept_counts.copy()\n",
                "    concept_counts.update(company_concept_counts)\n",
                "    \n",
                "    document.meta[\"concepts\"] = list(concept_counts.keys())\n",
                "    if not concept_counts.keys():\n",
                "        print('No concept:', document.id)\n",
                "        document_store.delete_documents([document])\n",
                "    document.meta[\"concept_counts\"] = dict(concept_counts)\n",
                "    document_batch.append(document)\n",
                "    if len(document_batch) == 10000:\n",
                "        print(document.id)\n",
                "        print(document_batch[0])\n",
                "        print(len(document_batch))\n",
                "        document_store.write_documents(document_batch, duplicate_documents=\"overwrite\")\n",
                "        document_batch = []\n"
            ]
        },
        {
            "cell_type": "code",
            "execution_count": 28,
            "metadata": {},
            "outputs": [],
            "source": [
                "result = document_store.query('',\n",
                "        custom_query='''{\"size\": 3000, \"query\": {\"bool\": {\"must_not\": {\"exists\": {\"field\": \"concepts\"}}}}}''',\n",
                "top_k=4000)"
            ]
        },
        {
            "cell_type": "code",
            "execution_count": 29,
            "metadata": {},
            "outputs": [
                {
                    "data": {
                        "text/plain": [
                            "2824"
                        ]
                    },
                    "execution_count": 29,
                    "metadata": {},
                    "output_type": "execute_result"
                }
            ],
            "source": [
                "len(result)"
            ]
        },
        {
            "cell_type": "code",
            "execution_count": null,
            "metadata": {},
            "outputs": [],
            "source": []
        }
    ],
    "metadata": {
        "interpreter": {
            "hash": "e4a4f6cdef53729de9ed4f8f3f324451a687c92b111a6cce083663e0c09699d3"
        },
        "kernelspec": {
            "display_name": "Python 3.8.12 ('smart-evidence-zrd-iDQT-py3.8')",
            "language": "python",
            "name": "python3"
        },
        "language_info": {
            "codemirror_mode": {
                "name": "ipython",
                "version": 3
            },
            "file_extension": ".py",
            "mimetype": "text/x-python",
            "name": "python",
            "nbconvert_exporter": "python",
            "pygments_lexer": "ipython3",
            "version": "3.8.12"
        },
        "orig_nbformat": 4
    },
    "nbformat": 4,
    "nbformat_minor": 2
}