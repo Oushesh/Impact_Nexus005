{
 "cells": [
  {
   "cell_type": "code",
   "execution_count": null,
   "metadata": {},
   "outputs": [],
   "source": [
    "import os\n",
    "os.chdir('..')"
   ]
  },
  {
   "cell_type": "code",
   "execution_count": null,
   "metadata": {},
   "outputs": [],
   "source": [
    "from metrics_recipes import *"
   ]
  },
  {
   "cell_type": "code",
   "execution_count": null,
   "metadata": {},
   "outputs": [],
   "source": [
    "task = spans_reference_value('test', 'en_core_web_trf', 'corpus/sentences_train.jsonl', ['METRIC', 'PREDICATE', 'IX_REFERENCE_VALUE'])"
   ]
  },
  {
   "cell_type": "code",
   "execution_count": null,
   "metadata": {},
   "outputs": [],
   "source": [
    "task_stream = task['stream']"
   ]
  },
  {
   "cell_type": "code",
   "execution_count": null,
   "metadata": {},
   "outputs": [],
   "source": [
    "items = []"
   ]
  },
  {
   "cell_type": "code",
   "execution_count": null,
   "metadata": {},
   "outputs": [],
   "source": [
    "def extract_label(task, label):\n",
    "    tok_inds = next(((span['token_start'], span['token_end'] + 1) for span in task['spans'] if span['label'] == label), None)\n",
    "    if tok_inds is not None:\n",
    "        return ' '.join([task['tokens'][i]['text'] for i in range(*tok_inds)])\n",
    "    else:\n",
    "        return None\n",
    "\n",
    "for task in task_stream:\n",
    "    item = {\n",
    "        'text': task['text'],\n",
    "        'METRIC': extract_label(task, 'METRIC'),\n",
    "        'PREDICATE': extract_label(task, 'PREDICATE'),\n",
    "        'IX_REFERENCE_VALUE': extract_label(task, 'IX_REFERENCE_VALUE')\n",
    "    }\n",
    "    items.append(item)"
   ]
  },
  {
   "cell_type": "code",
   "execution_count": null,
   "metadata": {},
   "outputs": [],
   "source": [
    "task"
   ]
  },
  {
   "cell_type": "code",
   "execution_count": null,
   "metadata": {},
   "outputs": [],
   "source": [
    "items"
   ]
  },
  {
   "cell_type": "code",
   "execution_count": null,
   "metadata": {},
   "outputs": [],
   "source": [
    "import pandas as pd\n",
    "df = pd.DataFrame(items)"
   ]
  },
  {
   "cell_type": "code",
   "execution_count": null,
   "metadata": {},
   "outputs": [],
   "source": [
    "df"
   ]
  },
  {
   "cell_type": "code",
   "execution_count": null,
   "metadata": {},
   "outputs": [],
   "source": [
    "len(pd.unique(df['PREDICATE']))"
   ]
  },
  {
   "cell_type": "code",
   "execution_count": null,
   "metadata": {},
   "outputs": [],
   "source": []
  }
 ],
 "metadata": {
  "interpreter": {
   "hash": "24f4e86cc3e4fbfbc97d206e4988c09e8cd92be38b351f7e67f50431c8fd2cd8"
  },
  "kernelspec": {
   "display_name": "Python 3.9.2 64-bit ('smart-evidence-0MftrBAc-py3.9': poetry)",
   "name": "python3"
  },
  "language_info": {
   "codemirror_mode": {
    "name": "ipython",
    "version": 3
   },
   "file_extension": ".py",
   "mimetype": "text/x-python",
   "name": "python",
   "nbconvert_exporter": "python",
   "pygments_lexer": "ipython3",
   "version": "3.9.2"
  },
  "orig_nbformat": 4
 },
 "nbformat": 4,
 "nbformat_minor": 2
}
