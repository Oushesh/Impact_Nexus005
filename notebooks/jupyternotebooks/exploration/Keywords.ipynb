{
 "cells": [
  {
   "cell_type": "code",
   "execution_count": 1,
   "metadata": {},
   "outputs": [],
   "source": [
    "import os\n",
    "os.chdir('../..')"
   ]
  },
  {
   "cell_type": "code",
   "execution_count": 3,
   "metadata": {},
   "outputs": [
    {
     "name": "stdout",
     "output_type": "stream",
     "text": [
      "Requirement already satisfied: spacy in /Users/ousheshharadhun/Documents/Workspace/Impact_Nexus_AI/smart-evidence-oushesh-main/nlp_venv/lib/python3.10/site-packages (3.4.4)\n",
      "Requirement already satisfied: typer<0.8.0,>=0.3.0 in /Users/ousheshharadhun/Documents/Workspace/Impact_Nexus_AI/smart-evidence-oushesh-main/nlp_venv/lib/python3.10/site-packages (from spacy) (0.7.0)\n",
      "Requirement already satisfied: preshed<3.1.0,>=3.0.2 in /Users/ousheshharadhun/Documents/Workspace/Impact_Nexus_AI/smart-evidence-oushesh-main/nlp_venv/lib/python3.10/site-packages (from spacy) (3.0.8)\n",
      "Requirement already satisfied: pathy>=0.3.5 in /Users/ousheshharadhun/Documents/Workspace/Impact_Nexus_AI/smart-evidence-oushesh-main/nlp_venv/lib/python3.10/site-packages (from spacy) (0.10.1)\n",
      "Requirement already satisfied: spacy-legacy<3.1.0,>=3.0.10 in /Users/ousheshharadhun/Documents/Workspace/Impact_Nexus_AI/smart-evidence-oushesh-main/nlp_venv/lib/python3.10/site-packages (from spacy) (3.0.11)\n",
      "Requirement already satisfied: cymem<2.1.0,>=2.0.2 in /Users/ousheshharadhun/Documents/Workspace/Impact_Nexus_AI/smart-evidence-oushesh-main/nlp_venv/lib/python3.10/site-packages (from spacy) (2.0.7)\n",
      "Requirement already satisfied: tqdm<5.0.0,>=4.38.0 in /Users/ousheshharadhun/Documents/Workspace/Impact_Nexus_AI/smart-evidence-oushesh-main/nlp_venv/lib/python3.10/site-packages (from spacy) (4.64.1)\n",
      "Requirement already satisfied: setuptools in /Users/ousheshharadhun/Documents/Workspace/Impact_Nexus_AI/smart-evidence-oushesh-main/nlp_venv/lib/python3.10/site-packages (from spacy) (65.6.3)\n",
      "Requirement already satisfied: smart-open<7.0.0,>=5.2.1 in /Users/ousheshharadhun/Documents/Workspace/Impact_Nexus_AI/smart-evidence-oushesh-main/nlp_venv/lib/python3.10/site-packages (from spacy) (6.3.0)\n",
      "Requirement already satisfied: packaging>=20.0 in /Users/ousheshharadhun/Documents/Workspace/Impact_Nexus_AI/smart-evidence-oushesh-main/nlp_venv/lib/python3.10/site-packages (from spacy) (22.0)\n",
      "Requirement already satisfied: langcodes<4.0.0,>=3.2.0 in /Users/ousheshharadhun/Documents/Workspace/Impact_Nexus_AI/smart-evidence-oushesh-main/nlp_venv/lib/python3.10/site-packages (from spacy) (3.3.0)\n",
      "Requirement already satisfied: wasabi<1.1.0,>=0.9.1 in /Users/ousheshharadhun/Documents/Workspace/Impact_Nexus_AI/smart-evidence-oushesh-main/nlp_venv/lib/python3.10/site-packages (from spacy) (0.10.1)\n",
      "Requirement already satisfied: srsly<3.0.0,>=2.4.3 in /Users/ousheshharadhun/Documents/Workspace/Impact_Nexus_AI/smart-evidence-oushesh-main/nlp_venv/lib/python3.10/site-packages (from spacy) (2.4.5)\n",
      "Requirement already satisfied: requests<3.0.0,>=2.13.0 in /Users/ousheshharadhun/Documents/Workspace/Impact_Nexus_AI/smart-evidence-oushesh-main/nlp_venv/lib/python3.10/site-packages (from spacy) (2.31.0)\n",
      "Requirement already satisfied: numpy>=1.15.0 in /Users/ousheshharadhun/Documents/Workspace/Impact_Nexus_AI/smart-evidence-oushesh-main/nlp_venv/lib/python3.10/site-packages (from spacy) (1.22.4)\n",
      "Requirement already satisfied: spacy-loggers<2.0.0,>=1.0.0 in /Users/ousheshharadhun/Documents/Workspace/Impact_Nexus_AI/smart-evidence-oushesh-main/nlp_venv/lib/python3.10/site-packages (from spacy) (1.0.4)\n",
      "Requirement already satisfied: murmurhash<1.1.0,>=0.28.0 in /Users/ousheshharadhun/Documents/Workspace/Impact_Nexus_AI/smart-evidence-oushesh-main/nlp_venv/lib/python3.10/site-packages (from spacy) (1.0.9)\n",
      "Requirement already satisfied: catalogue<2.1.0,>=2.0.6 in /Users/ousheshharadhun/Documents/Workspace/Impact_Nexus_AI/smart-evidence-oushesh-main/nlp_venv/lib/python3.10/site-packages (from spacy) (2.0.8)\n",
      "Requirement already satisfied: jinja2 in /Users/ousheshharadhun/Documents/Workspace/Impact_Nexus_AI/smart-evidence-oushesh-main/nlp_venv/lib/python3.10/site-packages (from spacy) (3.1.2)\n",
      "Requirement already satisfied: pydantic!=1.8,!=1.8.1,<1.11.0,>=1.7.4 in /Users/ousheshharadhun/Documents/Workspace/Impact_Nexus_AI/smart-evidence-oushesh-main/nlp_venv/lib/python3.10/site-packages (from spacy) (1.10.4)\n",
      "Requirement already satisfied: thinc<8.2.0,>=8.1.0 in /Users/ousheshharadhun/Documents/Workspace/Impact_Nexus_AI/smart-evidence-oushesh-main/nlp_venv/lib/python3.10/site-packages (from spacy) (8.1.6)\n",
      "Requirement already satisfied: typing-extensions>=4.2.0 in /Users/ousheshharadhun/Documents/Workspace/Impact_Nexus_AI/smart-evidence-oushesh-main/nlp_venv/lib/python3.10/site-packages (from pydantic!=1.8,!=1.8.1,<1.11.0,>=1.7.4->spacy) (4.4.0)\n",
      "Requirement already satisfied: charset-normalizer<4,>=2 in /Users/ousheshharadhun/Documents/Workspace/Impact_Nexus_AI/smart-evidence-oushesh-main/nlp_venv/lib/python3.10/site-packages (from requests<3.0.0,>=2.13.0->spacy) (3.3.2)\n",
      "Requirement already satisfied: idna<4,>=2.5 in /Users/ousheshharadhun/Documents/Workspace/Impact_Nexus_AI/smart-evidence-oushesh-main/nlp_venv/lib/python3.10/site-packages (from requests<3.0.0,>=2.13.0->spacy) (2.10)\n",
      "Requirement already satisfied: certifi>=2017.4.17 in /Users/ousheshharadhun/Documents/Workspace/Impact_Nexus_AI/smart-evidence-oushesh-main/nlp_venv/lib/python3.10/site-packages (from requests<3.0.0,>=2.13.0->spacy) (2022.12.7)\n",
      "Requirement already satisfied: urllib3<3,>=1.21.1 in /Users/ousheshharadhun/Documents/Workspace/Impact_Nexus_AI/smart-evidence-oushesh-main/nlp_venv/lib/python3.10/site-packages (from requests<3.0.0,>=2.13.0->spacy) (1.26.13)\n",
      "Requirement already satisfied: confection<1.0.0,>=0.0.1 in /Users/ousheshharadhun/Documents/Workspace/Impact_Nexus_AI/smart-evidence-oushesh-main/nlp_venv/lib/python3.10/site-packages (from thinc<8.2.0,>=8.1.0->spacy) (0.0.3)\n",
      "Requirement already satisfied: blis<0.8.0,>=0.7.8 in /Users/ousheshharadhun/Documents/Workspace/Impact_Nexus_AI/smart-evidence-oushesh-main/nlp_venv/lib/python3.10/site-packages (from thinc<8.2.0,>=8.1.0->spacy) (0.7.9)\n",
      "Requirement already satisfied: click<9.0.0,>=7.1.1 in /Users/ousheshharadhun/Documents/Workspace/Impact_Nexus_AI/smart-evidence-oushesh-main/nlp_venv/lib/python3.10/site-packages (from typer<0.8.0,>=0.3.0->spacy) (8.1.3)\n",
      "Requirement already satisfied: MarkupSafe>=2.0 in /Users/ousheshharadhun/Documents/Workspace/Impact_Nexus_AI/smart-evidence-oushesh-main/nlp_venv/lib/python3.10/site-packages (from jinja2->spacy) (2.1.1)\n",
      "\n",
      "\u001b[1m[\u001b[0m\u001b[34;49mnotice\u001b[0m\u001b[1;39;49m]\u001b[0m\u001b[39;49m A new release of pip available: \u001b[0m\u001b[31;49m22.3.1\u001b[0m\u001b[39;49m -> \u001b[0m\u001b[32;49m23.3.1\u001b[0m\n",
      "\u001b[1m[\u001b[0m\u001b[34;49mnotice\u001b[0m\u001b[1;39;49m]\u001b[0m\u001b[39;49m To update, run: \u001b[0m\u001b[32;49mpip install --upgrade pip\u001b[0m\n"
     ]
    }
   ],
   "source": [
    "!pip install spacy"
   ]
  },
  {
   "cell_type": "code",
   "execution_count": 4,
   "metadata": {},
   "outputs": [
    {
     "ename": "ModuleNotFoundError",
     "evalue": "No module named 'spacy'",
     "output_type": "error",
     "traceback": [
      "\u001b[0;31m---------------------------------------------------------------------------\u001b[0m",
      "\u001b[0;31mModuleNotFoundError\u001b[0m                       Traceback (most recent call last)",
      "Cell \u001b[0;32mIn[4], line 6\u001b[0m\n\u001b[1;32m      3\u001b[0m \u001b[38;5;28;01mfrom\u001b[39;00m \u001b[38;5;21;01mpathlib\u001b[39;00m \u001b[38;5;28;01mimport\u001b[39;00m Path\n\u001b[1;32m      4\u001b[0m \u001b[38;5;28;01mfrom\u001b[39;00m \u001b[38;5;21;01mtyping\u001b[39;00m \u001b[38;5;28;01mimport\u001b[39;00m Counter\n\u001b[0;32m----> 6\u001b[0m \u001b[38;5;28;01mimport\u001b[39;00m \u001b[38;5;21;01mspacy\u001b[39;00m\n\u001b[1;32m      7\u001b[0m \u001b[38;5;28;01mimport\u001b[39;00m \u001b[38;5;21;01msrsly\u001b[39;00m\n\u001b[1;32m      8\u001b[0m \u001b[38;5;28;01mimport\u001b[39;00m \u001b[38;5;21;01mtyper\u001b[39;00m\n",
      "\u001b[0;31mModuleNotFoundError\u001b[0m: No module named 'spacy'"
     ]
    }
   ],
   "source": [
    "from argparse import ArgumentError\n",
    "from glob import glob\n",
    "from pathlib import Path\n",
    "from typing import Counter\n",
    "\n",
    "import spacy\n",
    "import srsly\n",
    "import typer\n",
    "from spacy.tokens import Doc\n",
    "from tqdm import tqdm\n",
    "\n",
    "from scripts.components import (\n",
    "    component_lowercase_lemmas,\n",
    "    financial_tone_classifier,\n",
    "    sentence_masker,\n",
    "    predict_domain_from_keywords,\n",
    "    sustainability_potential_classifier,\n",
    "    keyword_ruler,\n",
    "    entity_ruler,\n",
    ")\n",
    "from scripts.data_helpers import (\n",
    "    extract_sentence_entities,\n",
    "    filter_dups,\n",
    "    filter_item_fields,\n",
    "    hash_documents,\n",
    ")\n",
    "from scripts.extract_paragraphs import paragraph_generator\n",
    "\n"
   ]
  },
  {
   "cell_type": "code",
   "execution_count": 3,
   "metadata": {},
   "outputs": [
    {
     "name": "stderr",
     "output_type": "stream",
     "text": [
      "/home/oguz/.cache/pypoetry/virtualenvs/smart-evidence-hIlc30vc-py3.9/lib/python3.9/site-packages/spacy/util.py:833: UserWarning: [W095] Model 'en_core_web_trf' (3.1.0) was trained with spaCy v3.1 and may not be 100% compatible with the current version (3.2.1). If you see errors or degraded performance, download a newer compatible model or retrain your custom model with the current spaCy version. For more details and available updates, run: python -m spacy validate\n",
      "  warnings.warn(warn_msg)\n",
      "/home/oguz/.cache/pypoetry/virtualenvs/smart-evidence-hIlc30vc-py3.9/lib/python3.9/site-packages/spacy_transformers/pipeline_component.py:406: UserWarning: Automatically converting a transformer component from spacy-transformers v1.0 to v1.1+. If you see errors or degraded performance, download a newer compatible model or retrain your custom model with the current spacy-transformers version. For more details and available updates, run: python -m spacy validate\n",
      "  warnings.warn(warn_msg)\n"
     ]
    },
    {
     "data": {
      "text/plain": [
       "<scripts.components.sentence_masker.DomainSentenceMasker at 0x7f60b9eba6a0>"
      ]
     },
     "execution_count": 3,
     "metadata": {},
     "output_type": "execute_result"
    }
   ],
   "source": [
    "nlp = spacy.load(\"en_core_web_trf\")\n",
    "nlp.add_pipe(\"labeling_ruler\")\n",
    "nlp.add_pipe(\"labeling_extend_ruler\")\n",
    "nlp.add_pipe(\"expand_entities\")\n",
    "nlp.add_pipe(\"lower_case_lemmas\", after=\"lemmatizer\")\n",
    "nlp.add_pipe(\"keyword_ruler\", after=\"lower_case_lemmas\")\n",
    "nlp.add_pipe(\"domain_classifier\")\n",
    "nlp.add_pipe(\"sentence_masker_domain\")"
   ]
  },
  {
   "cell_type": "code",
   "execution_count": 4,
   "metadata": {},
   "outputs": [
    {
     "name": "stderr",
     "output_type": "stream",
     "text": [
      "/home/oguz/.cache/pypoetry/virtualenvs/smart-evidence-hIlc30vc-py3.9/lib/python3.9/site-packages/torch/autocast_mode.py:141: UserWarning: User provided device_type of 'cuda', but CUDA is not available. Disabling\n",
      "  warnings.warn('User provided device_type of \\'cuda\\', but CUDA is not available. Disabling')\n"
     ]
    }
   ],
   "source": [
    "doc = nlp('Cement causes a lot of GHG emissions.')"
   ]
  },
  {
   "cell_type": "code",
   "execution_count": 5,
   "metadata": {},
   "outputs": [
    {
     "data": {
      "text/plain": [
       "[('IX_PRODUCT',\n",
       "  'Products & Activities/UNSPSC/30000000_Structures and Building and Construction and Manufacturing Components and Supplies/30110000_Concrete and cement and plaster/PRODUCT/Cement'),\n",
       " ('IX_IMPACT', 'Impact/IRIS/Climate/IMPACT/ghg'),\n",
       " ('IX_IMPACT', 'Impact/IRIS/Climate/IMPACT/emission')]"
      ]
     },
     "execution_count": 5,
     "metadata": {},
     "output_type": "execute_result"
    }
   ],
   "source": [
    "[(ent.label_, ent.ent_id_) for ent in doc.ents]"
   ]
  }
 ],
 "metadata": {
  "interpreter": {
   "hash": "3a01f96bacd60138fda158296e46c63e862f79e288a616d9fda278940a44f53f"
  },
  "kernelspec": {
   "display_name": "Python 3 (ipykernel)",
   "language": "python",
   "name": "python3"
  },
  "language_info": {
   "codemirror_mode": {
    "name": "ipython",
    "version": 3
   },
   "file_extension": ".py",
   "mimetype": "text/x-python",
   "name": "python",
   "nbconvert_exporter": "python",
   "pygments_lexer": "ipython3",
   "version": "3.9.6"
  }
 },
 "nbformat": 4,
 "nbformat_minor": 2
}
