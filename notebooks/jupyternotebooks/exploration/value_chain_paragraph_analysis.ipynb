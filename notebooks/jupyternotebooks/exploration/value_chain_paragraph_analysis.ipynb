{
 "cells": [
  {
   "cell_type": "code",
   "execution_count": 1,
   "metadata": {},
   "outputs": [],
   "source": [
    "import os\n",
    "os.chdir('..')"
   ]
  },
  {
   "cell_type": "code",
   "execution_count": null,
   "metadata": {},
   "outputs": [],
   "source": [
    "import srsly\n",
    "import spacy"
   ]
  },
  {
   "cell_type": "code",
   "execution_count": null,
   "metadata": {},
   "outputs": [],
   "source": [
    "from spacy.matcher import PhraseMatcher\n",
    "context_matcher = PhraseMatcher(nlp.vocab, attr=\"LEMMA\", validate=True)\n",
    "sustainability_matcher = PhraseMatcher(nlp.vocab, attr=\"LEMMA\", validate=True)\n",
    "\n",
    "def get_keywords_from_file(file):\n",
    "    return [nlp(line.strip().lower()) for line in f.readlines() if not line.startswith('#')]\n",
    "\n",
    "with open('assets/value_chain/industries_clean.txt') as f:\n",
    "    industry_list = get_keywords_from_file(f)\n",
    "context_matcher.add('industries', industry_list)\n",
    "\n",
    "with open('assets/value_chain/technologies.txt') as f:\n",
    "    technology_list = get_keywords_from_file(f)\n",
    "context_matcher.add('technologies', technology_list)\n",
    "\n",
    "with open('assets/value_chain/products_clean.txt') as f:\n",
    "    product_list = get_keywords_from_file(f)\n",
    "context_matcher.add('products', product_list)\n",
    "\n",
    "with open('assets/value_chain/sustainability.txt') as f:\n",
    "    product_list = get_keywords_from_file(f)\n",
    "sustainability_matcher.add('sustainability', product_list)"
   ]
  }
 ],
 "metadata": {
  "interpreter": {
   "hash": "50ef1f00e07f65fb8c66231f14f6a624080f70ef226807e0f66598eceb63f363"
  },
  "kernelspec": {
   "display_name": "Python 3.9.9 64-bit ('smart-evidence-0MftrBAc-py3.9': poetry)",
   "language": "python",
   "name": "python3"
  },
  "language_info": {
   "codemirror_mode": {
    "name": "ipython",
    "version": 3
   },
   "file_extension": ".py",
   "mimetype": "text/x-python",
   "name": "python",
   "nbconvert_exporter": "python",
   "pygments_lexer": "ipython3",
   "version": "3.9.9"
  },
  "orig_nbformat": 4
 },
 "nbformat": 4,
 "nbformat_minor": 2
}
