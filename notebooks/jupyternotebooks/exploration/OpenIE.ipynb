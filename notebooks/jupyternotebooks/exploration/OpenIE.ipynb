{
 "cells": [
  {
   "cell_type": "code",
   "execution_count": null,
   "metadata": {},
   "outputs": [],
   "source": [
    "import os\n",
    "os.chdir('..')"
   ]
  },
  {
   "cell_type": "code",
   "execution_count": null,
   "metadata": {},
   "outputs": [],
   "source": [
    "from allennlp.predictors.predictor import Predictor\n",
    "import allennlp_models.tagging\n",
    "\n",
    "predictor = Predictor.from_path(\"https://storage.googleapis.com/allennlp-public-models/openie-model.2020.03.26.tar.gz\")"
   ]
  },
  {
   "cell_type": "code",
   "execution_count": null,
   "metadata": {},
   "outputs": [],
   "source": [
    "import srsly\n",
    "import spacy\n",
    "from scripts.labeling_rules import *\n",
    "\n",
    "nlp = spacy.load('en_core_web_trf')\n",
    "# nlp.add_pipe(\"expand_entities\")\n",
    "nlp.add_pipe(\"labeling_ruler\")\n",
    "nlp.add_pipe(\"labeling_extend_ruler\")"
   ]
  },
  {
   "cell_type": "code",
   "execution_count": null,
   "metadata": {},
   "outputs": [],
   "source": [
    "items = srsly.read_jsonl('corpus/sentences_dev.jsonl')"
   ]
  },
  {
   "cell_type": "code",
   "execution_count": null,
   "metadata": {},
   "outputs": [],
   "source": [
    "items = [{'text': \n",
    "\"Remediation Consulting Services, one of the segments analyzed in the report , is projected to grow at a 5.2 % to reach US$ 15.3 Billion by the end of the analysis period . \"\n",
    "}]"
   ]
  },
  {
   "cell_type": "code",
   "execution_count": null,
   "metadata": {},
   "outputs": [],
   "source": [
    "for doc in nlp.pipe(item['text'] for item in items):\n",
    "    if not any(ent.label_ == 'IX_REFERENCE_VALUE' for ent in doc.ents):\n",
    "        continue\n",
    "    prediction = predictor.predict(sentence=doc.text)\n",
    "    break"
   ]
  },
  {
   "cell_type": "code",
   "execution_count": null,
   "metadata": {},
   "outputs": [],
   "source": [
    "[(ent, ent.label_) for ent in doc.ents]"
   ]
  },
  {
   "cell_type": "code",
   "execution_count": null,
   "metadata": {},
   "outputs": [],
   "source": [
    "[p['description'] for p in prediction['verbs']]"
   ]
  },
  {
   "cell_type": "code",
   "execution_count": null,
   "metadata": {},
   "outputs": [],
   "source": [
    "import re\n",
    "if found := re.match(r\"ARG(\\d)\", \"ARG4\"):\n",
    "    print(found[1])"
   ]
  },
  {
   "cell_type": "code",
   "execution_count": null,
   "metadata": {},
   "outputs": [],
   "source": [
    "def ie_to_spans(doc, prediction):\n",
    "    for verb in prediction[\"verbs\"]:\n",
    "        spans = []\n",
    "        found = None\n",
    "        for ent in doc.ents:\n",
    "            if ent.label_ != \"IX_REFERENCE_VALUE\": continue\n",
    "            for tok in ent:\n",
    "                if found := re.match(r\".*ARG(\\d)\", verb[\"tags\"][tok.i]):\n",
    "                    found = int(found[1])\n",
    "                    obj_inds = [\n",
    "                        obj_i\n",
    "                        for obj_i, tag in enumerate(verb[\"tags\"])\n",
    "                        if tag.endswith(f\"ARG{found}\")\n",
    "                    ]\n",
    "                    obj_span = tok_inds_to_span(obj_inds, \"IX_REFERENCE_VALUE\")\n",
    "                    spans.append(obj_span)\n",
    "                    break\n",
    "            if found is not None:\n",
    "                break\n",
    "        if found is not None:\n",
    "            verb_inds = [\n",
    "                verb_i\n",
    "                for verb_i, tag in enumerate(verb[\"tags\"])\n",
    "                if tag.endswith(f\"-V\")\n",
    "            ]\n",
    "            if not verb_inds:\n",
    "                continue\n",
    "            verb_span = tok_inds_to_span(verb_inds, \"PREDICATE\")\n",
    "            spans.append(verb_span)\n",
    "            subj_inds = [\n",
    "                subj_i\n",
    "                for subj_i, tag in enumerate(verb[\"tags\"])\n",
    "                if tag.endswith(f\"ARG{found - 1}\")\n",
    "            ]\n",
    "            if not subj_inds:\n",
    "                continue\n",
    "            subj_span = tok_inds_to_span(subj_inds, \"METRIC\")\n",
    "            if not spans or not any(\n",
    "                (\n",
    "                    (span[\"token_start\"] <= subj_span['token_start']\n",
    "                    and subj_span['token_start'] <= span[\"token_end\"])\n",
    "                    or \n",
    "                    (span[\"token_end\"] <= subj_span['token_end']\n",
    "                    and subj_span['token_end'] >= span[\"token_start\"])\n",
    "                    \n",
    "                )\n",
    "                and span[\"token_end\"] - span[\"token_start\"] >= subj_span['token_end'] - subj_span['token_start']\n",
    "                for span in spans\n",
    "            ):\n",
    "                spans.append(subj_span)\n",
    "        yield spans\n",
    "\n",
    "def tok_inds_to_span(inds, label):\n",
    "    token_start = inds[0]\n",
    "    token_end = inds[-1]\n",
    "    char_start = doc[token_start].idx\n",
    "    char_end = doc[token_end].idx + len(doc[token_end])\n",
    "    return {\n",
    "        \"start\": char_start,\n",
    "        \"end\": char_end,\n",
    "        \"token_start\": token_start,\n",
    "        \"token_end\": token_end,\n",
    "        \"label\": label,\n",
    "    }"
   ]
  },
  {
   "cell_type": "code",
   "execution_count": null,
   "metadata": {},
   "outputs": [],
   "source": [
    "spans = ie_to_spans(doc, prediction)"
   ]
  },
  {
   "cell_type": "code",
   "execution_count": null,
   "metadata": {},
   "outputs": [],
   "source": [
    "print(doc)\n",
    "for span in spans:\n",
    "    print(span['label'], doc[span['token_start']: span['token_end']+1])"
   ]
  },
  {
   "cell_type": "code",
   "execution_count": null,
   "metadata": {},
   "outputs": [],
   "source": []
  },
  {
   "cell_type": "code",
   "execution_count": null,
   "metadata": {},
   "outputs": [],
   "source": []
  }
 ],
 "metadata": {
  "interpreter": {
   "hash": "24f4e86cc3e4fbfbc97d206e4988c09e8cd92be38b351f7e67f50431c8fd2cd8"
  },
  "kernelspec": {
   "display_name": "Python 3.9.2 64-bit ('smart-evidence-0MftrBAc-py3.9': poetry)",
   "name": "python3"
  },
  "language_info": {
   "codemirror_mode": {
    "name": "ipython",
    "version": 3
   },
   "file_extension": ".py",
   "mimetype": "text/x-python",
   "name": "python",
   "nbconvert_exporter": "python",
   "pygments_lexer": "ipython3",
   "version": "3.9.2"
  },
  "orig_nbformat": 4
 },
 "nbformat": 4,
 "nbformat_minor": 2
}
