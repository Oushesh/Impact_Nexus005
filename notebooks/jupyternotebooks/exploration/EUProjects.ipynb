{
 "cells": [
  {
   "cell_type": "code",
   "execution_count": 5,
   "source": [
    "import os\n",
    "os.chdir('../')"
   ],
   "outputs": [],
   "metadata": {}
  },
  {
   "cell_type": "code",
   "execution_count": 7,
   "source": [
    "import pandas as pd"
   ],
   "outputs": [],
   "metadata": {}
  },
  {
   "cell_type": "code",
   "execution_count": 8,
   "source": [
    "df = pd.read_csv('assets/cordis-h2020projects.csv', sep=\";\")"
   ],
   "outputs": [],
   "metadata": {}
  },
  {
   "cell_type": "code",
   "execution_count": 45,
   "source": [
    "text = df.title.str.strip() + df.title.apply(lambda x: '. ' if x.strip()[-1] != '.' else ' ') + df.objective.str.strip()"
   ],
   "outputs": [],
   "metadata": {}
  },
  {
   "cell_type": "code",
   "execution_count": 47,
   "source": [
    "df['text'] = text"
   ],
   "outputs": [],
   "metadata": {}
  },
  {
   "cell_type": "code",
   "execution_count": 53,
   "source": [
    "import srsly\n",
    "srsly.write_jsonl('data/eu_projects.jsonl', df[['id', 'text']].to_dict('records'))"
   ],
   "outputs": [],
   "metadata": {}
  },
  {
   "cell_type": "code",
   "execution_count": 55,
   "source": [
    "corpus = list(get_nounchunks(text))"
   ],
   "outputs": [],
   "metadata": {}
  },
  {
   "cell_type": "code",
   "execution_count": 54,
   "source": [
    "from sklearn.feature_extraction.text import TfidfVectorizer\n",
    "from scripts.nounchunker import get_nounchunks\n",
    "import re\n",
    "\n",
    "vectorizer = TfidfVectorizer(\n",
    "    min_df=5,\n",
    "    max_df=0.3,\n",
    "    stop_words=\"english\",\n",
    "    token_pattern=r\"(?u)\\b[A-Za-z]\\w+\\b\",\n",
    "    sublinear_tf=True,\n",
    "    smooth_idf=True,\n",
    "    analyzer=lambda x: [w.lower() for w in x if not re.match(r\".*[^-a-zA-Z]+\", w)],\n",
    ")\n",
    "\n",
    "X = vectorizer.fit_transform(corpus)\n",
    "print(len(vectorizer.get_feature_names()))\n",
    "print(vectorizer.get_feature_names())\n"
   ],
   "outputs": [
    {
     "output_type": "stream",
     "name": "stdout",
     "text": [
      "1490\n",
      "['-', 'a', 'absence', 'academia', 'accelerators', 'access', 'accessibility', 'accountability', 'accuracy', 'acoustics', 'acquisition', 'action', 'actions', 'activation', 'activism', 'activities', 'activity', 'actors', 'ad', 'adaptation', 'adaptations', 'adhd', 'adolescence', 'adolescents', 'adoption', 'adults', 'advancement', 'advances', 'advertising', 'aerosols', 'aesthetics', 'africa', 'aftermath', 'age', 'ageing', 'agency', 'aging', 'agriculture', 'ai', 'air', 'aircraft', 'airports', 'algae', 'algebra', 'algorithms', 'alliance', 'als', 'alternative', 'alternatives', 'alzheimer', 'ammonia', 'amplification', 'amputees', 'analysis', 'analytics', 'angiogenesis', 'animal', 'animals', 'anthropocene', 'anti', 'antibiotics', 'antibodies', 'antimicrobials', 'antiquity', 'ants', 'anxiety', 'application', 'applications', 'approach', 'approaches', 'aquaculture', 'arabidopsis', 'archaeology', 'architecture', 'architectures', 'arctic', 'area', 'areas', 'arithmetic', 'art', 'arts', 'asia', 'assays', 'assembly', 'assessment', 'assets', 'association', 'asthma', 'astrocytes', 'astronomy', 'astrophysics', 'asturias', 'athens', 'atherosclerosis', 'atlantic', 'atm', 'atmosphere', 'atoms', 'attention', 'attitudes', 'attractiveness', 'authentication', 'authority', 'autism', 'autoimmunity', 'automation', 'automotive', 'autonomous', 'autonomy', 'autophagy', 'aviation', 'awareness', 'babies', 'bacteria', 'balance', 'balkans', 'banks', 'barriers', 'basis', 'batteries', 'bavaria', 'bc', 'bce', 'bees', 'behavior', 'behaviour', 'belgium', 'beliefs', 'belonging', 'benefit', 'benefits', 'bicycles', 'bio', 'biocatalysis', 'biodiversity', 'bioeconomy', 'bioenergy', 'biofuels', 'biogas', 'biology', 'biomarker', 'biomarkers', 'biomass', 'biomaterials', 'biomechanics', 'biomethane', 'biomolecules', 'biopolymers', 'biosensing', 'biotechnology', 'birds', 'birth', 'blockchain', 'blood', 'board', 'body', 'bone', 'borders', 'bosnia', 'boundaries', 'box', 'brain', 'brazil', 'breakthrough', 'breast', 'bridge', 'bridges', 'britain', 'building', 'buildings', 'bulgaria', 'business', 'businesses', 'ca', 'calibration', 'canals', 'cancer', 'cantabria', 'capabilities', 'capacity', 'capitalism', 'capture', 'carbon', 'care', 'caregivers', 'cars', 'cartilage', 'case', 'catalysis', 'catalysts', 'cattle', 'causes', 'cell', 'cells', 'cellular', 'center', 'centre', 'centuries', 'century', 'cereals', 'certification', 'chains', 'challenge', 'challenges', 'change', 'changes', 'characterisation', 'characterization', 'chemical', 'chemicals', 'chemistry', 'chemotherapy', 'child', 'childhood', 'children', 'china', 'chip', 'chirality', 'choice', 'chromatin', 'circuits', 'circularity', 'circulation', 'cities', 'citizens', 'citizenship', 'city', 'class', 'classification', 'climate', 'cloud', 'clouds', 'clusters', 'co', 'coatings', 'code', 'codes', 'coevolution', 'coexistence', 'cognition', 'collaboration', 'collaborative', 'collection', 'colombia', 'colonization', 'colour', 'combination', 'combinatorics', 'combustion', 'comfort', 'commerce', 'commercialisation', 'commercialization', 'communication', 'communications', 'communities', 'community', 'companies', 'comparison', 'competition', 'competitiveness', 'complexity', 'compliance', 'components', 'composites', 'composition', 'compounds', 'computation', 'concept', 'concepts', 'conditions', 'conflict', 'conflicts', 'connections', 'connectivity', 'consciousness', 'consequences', 'conservation', 'consortium', 'constraints', 'construction', 'consumers', 'consumption', 'contact', 'containers', 'contaminants', 'content', 'context', 'contexts', 'continuation', 'continuity', 'continuum', 'contribution', 'contributions', 'control', 'convergence', 'conversion', 'cooling', 'cooperation', 'coordination', 'copernicus', 'corrosion', 'corruption', 'cosmetics', 'cosmology', 'cost', 'costs', 'counter', 'countries', 'coupling', 'court', 'creation', 'creativity', 'crime', 'crisis', 'crispr', 'croatia', 'crops', 'cross', 'crossroad', 'crossroads', 'crosstalk', 'cultural', 'culture', 'cultures', 'cure', 'cyanobacteria', 'cybersecurity', 'cycles', 'cycling', 'cyprus', 'damage', 'data', 'dawn', 'de', 'death', 'decarbonisation', 'decision', 'decontamination', 'defects', 'defence', 'defense', 'degradation', 'delivery', 'demand', 'dementia', 'democracy', 'demography', 'demonstration', 'demonstrator', 'denmark', 'deployment', 'depression', 'depth', 'design', 'designing', 'detection', 'determinants', 'determination', 'developing', 'development', 'device', 'devices', 'diabetes', 'diabetics', 'diagnosis', 'diagnostics', 'dialogue', 'diamond', 'diet', 'difference', 'differentiation', 'digital', 'digitalisation', 'digitalization', 'digitisation', 'dimensions', 'disabilities', 'disability', 'discourse', 'discovery', 'disease', 'diseases', 'disorder', 'disorders', 'dispersion', 'displacement', 'dissection', 'dissemination', 'distribution', 'diversification', 'diversity', 'dna', 'dogs', 'domain', 'domestication', 'driver', 'drivers', 'drones', 'drosophila', 'drought', 'drug', 'drugs', 'drying', 'duality', 'dust', 'dynamics', 'dysfunction', 'e', 'earth', 'east', 'ecology', 'economics', 'economy', 'ecosystem', 'ecosystems', 'edge', 'education', 'een', 'effect', 'effectiveness', 'effects', 'efficacy', 'efficiency', 'efficient', 'egnss', 'egypt', 'ehealth', 'elderly', 'electricity', 'electronics', 'electrons', 'elements', 'elimination', 'elucidation', 'emergence', 'emergency', 'emission', 'emissions', 'emotions', 'empathy', 'empire', 'empowerment', 'enabler', 'encoding', 'end', 'endometriosis', 'energy', 'engagement', 'engineering', 'england', 'enhancement', 'entanglement', 'entrepreneurs', 'entrepreneurship', 'environment', 'environments', 'enzymes', 'epigenetics', 'epigenome', 'epilepsy', 'epistemology', 'equality', 'equilibrium', 'equipment', 'equity', 'era', 'establishment', 'estimation', 'estonia', 'estuaries', 'ethanol', 'ethics', 'ethnography', 'eu', 'eukaryotes', 'europe', 'european', 'evaluation', 'events', 'everyone', 'everything', 'evidence', 'evolution', 'examination', 'exascale', 'excellence', 'exchange', 'exclusion', 'exoplanets', 'exosomes', 'expansion', 'expectations', 'experience', 'experiences', 'experiment', 'experimentation', 'experiments', 'expertise', 'experts', 'exploitation', 'exploration', 'exposure', 'expression', 'extinction', 'extraction', 'extreme', 'eye', 'eyes', 'fabrication', 'face', 'factories', 'factors', 'failure', 'fairness', 'fall', 'families', 'family', 'farm', 'farmers', 'fashion', 'fate', 'fatigue', 'feasibility', 'feed', 'feedback', 'feedbacks', 'fertility', 'fibres', 'fibrosis', 'field', 'fight', 'film', 'finance', 'fire', 'fish', 'fitness', 'flanders', 'flexibility', 'flight', 'flow', 'flows', 'fluxes', 'focus', 'food', 'foods', 'forces', 'forecasting', 'forestry', 'forests', 'formation', 'foundation', 'foundations', 'frame', 'framework', 'france', 'freedom', 'friction', 'friend', 'frontiers', 'fruits', 'fuel', 'fuels', 'fun', 'function', 'functionality', 'functions', 'fundamentals', 'funding', 'fusion', 'future', 'g', 'galaxies', 'galaxy', 'galicia', 'game', 'games', 'gamification', 'gap', 'gaps', 'gas', 'gender', 'generation', 'generations', 'genes', 'genetics', 'genome', 'genomes', 'genomics', 'geometry', 'germany', 'glass', 'glioblastoma', 'global', 'globalization', 'glycosylation', 'gnss', 'goods', 'governance', 'government', 'graphene', 'graphs', 'gravity', 'greece', 'green', 'greener', 'grid', 'ground', 'groups', 'growth', 'guidance', 'gut', 'hands', 'hardware', 'healing', 'health', 'healthcare', 'healthy', 'heart', 'heat', 'heating', 'heritage', 'herzegovina', 'heterogeneity', 'historical', 'history', 'hiv', 'holography', 'home', 'homeostasis', 'horizon', 'hospitals', 'host', 'housing', 'hpc', 'human', 'humanities', 'humanity', 'humans', 'hydrodynamics', 'hydrogen', 'hypertension', 'hypoxia', 'i', 'ice', 'ict', 'ideas', 'identification', 'identities', 'identity', 'images', 'imagination', 'imaging', 'immigrants', 'immunity', 'immunotherapy', 'impact', 'impacts', 'implants', 'implementation', 'implications', 'importance', 'improvement', 'inclusion', 'increase', 'india', 'indicators', 'individual', 'individuals', 'induction', 'industrialisation', 'industrialization', 'industries', 'industry', 'inequalities', 'inequality', 'infants', 'infection', 'infertility', 'inflammation', 'influence', 'influenza', 'informatics', 'information', 'infrastructure', 'infrastructures', 'inheritance', 'inhibition', 'inhibitors', 'innovation', 'innovations', 'innovative', 'insects', 'insight', 'insights', 'inspection', 'institute', 'institutions', 'integrability', 'integrated', 'integration', 'integrity', 'intelligence', 'interaction', 'interactions', 'interface', 'interfaces', 'international', 'internationalisation', 'internet', 'interoperability', 'interplay', 'interpretation', 'intervention', 'interventions', 'intestine', 'introduction', 'investigation', 'investment', 'investments', 'investors', 'involvement', 'iot', 'iran', 'ireland', 'iron', 'islam', 'islands', 'isolation', 'israel', 'istanbul', 'it', 'italy', 'itself', 'japan', 'justice', 'kam', 'key', 'kind', 'kinetics', 'knowledge', 'lab', 'laboratory', 'labour', 'lakes', 'land', 'landscape', 'landscapes', 'language', 'laser', 'lasers', 'latin', 'latvia', 'launch', 'law', 'learning', 'legacy', 'legitimacy', 'lens', 'lessons', 'level', 'lhc', 'lidar', 'life', 'lifespan', 'lifestyle', 'lifetime', 'light', 'lighting', 'limits', 'line', 'link', 'links', 'liquids', 'lisbon', 'literacy', 'literature', 'lives', 'livestock', 'localization', 'locomotion', 'logic', 'logistics', 'lombardia', 'loop', 'loss', 'losses', 'macedonia', 'machine', 'machines', 'macro', 'macrophages', 'madrid', 'magnetism', 'maintenance', 'making', 'mammals', 'man', 'management', 'manifolds', 'manipulation', 'manufacture', 'manufacturing', 'manure', 'manuscripts', 'mapping', 'margins', 'marine', 'market', 'markets', 'mars', 'material', 'materials', 'mathematics', 'matter', 'maturation', 'me', 'meaning', 'means', 'measurement', 'measurements', 'measures', 'mechanics', 'mechanism', 'mechanisms', 'mechanobiology', 'media', 'mediation', 'medicine', 'medicines', 'mediterranean', 'meiosis', 'melanoma', 'membranes', 'memories', 'memory', 'men', 'metabolism', 'metabolomics', 'metacognition', 'metal', 'metals', 'metamaterials', 'metaphysics', 'metastasis', 'methane', 'methanol', 'method', 'methodology', 'methods', 'mexico', 'mice', 'micro', 'micro-', 'microalgae', 'microbes', 'microbiome', 'microbiota', 'microenvironment', 'microfluidics', 'microorganisms', 'microplastics', 'micrornas', 'migrants', 'migration', 'milk', 'mind', 'minerals', 'mining', 'mitigation', 'mitosis', 'mixtures', 'mobility', 'mobilization', 'mode', 'model', 'modeling', 'modelling', 'models', 'modification', 'modular', 'modulation', 'molecular', 'molecules', 'money', 'monitoring', 'morbidity', 'morphogenesis', 'morphology', 'mortality', 'motion', 'motivation', 'mouse', 'move', 'movement', 'mri', 'multimodal', 'music', 'nano', 'nanocrystals', 'nanomaterials', 'nanoparticles', 'nanoplastics', 'nanoscale', 'nanostructures', 'nanotechnology', 'narratives', 'nature', 'navigation', 'need', 'needs', 'neolithic', 'netherlands', 'network', 'networking', 'networks', 'neurobiology', 'neurodegeneration', 'neuroimaging', 'neuroinflammation', 'neurons', 'neuroplasticity', 'neuroscience', 'neutrinos', 'neutrophils', 'night', 'nitrogen', 'nmr', 'noise', 'non', 'norms', 'novel', 'numbers', 'nutrients', 'nutrition', 'obesity', 'objects', 'observation', 'observations', 'ocean', 'oceans', 'oil', 'omics', 'oncology', 'onset', 'open', 'operation', 'operations', 'opportunities', 'opportunity', 'optimisation', 'optimization', 'optoelectronics', 'orchestration', 'order', 'organelles', 'organisation', 'organization', 'organoids', 'origin', 'origins', 'osteoarthritis', 'osteoporosis', 'others', 'outcome', 'outcomes', 'ownership', 'packaging', 'pain', 'palaeolithic', 'paradigm', 'parents', 'paris', 'part', 'participation', 'particle', 'particles', 'partnership', 'partnerships', 'past', 'path', 'pathogenesis', 'pathogens', 'pathologies', 'pathology', 'pathophysiology', 'paths', 'pathway', 'pathways', 'patient', 'patients', 'patterns', 'pcp', 'peace', 'peacebuilding', 'peer', 'people', 'perception', 'performance', 'period', 'permafrost', 'persistence', 'persons', 'perspectives', 'pesticides', 'pharmaceuticals', 'phase', 'phenomena', 'phenomenology', 'philosophy', 'phosphorus', 'photocatalysis', 'photochemistry', 'photon', 'photonics', 'photons', 'photosynthesis', 'photovoltaics', 'physics', 'physiology', 'place', 'places', 'planet', 'planning', 'plant', 'plants', 'plasma', 'plastic', 'plasticity', 'plastics', 'platelets', 'platform', 'platforms', 'poetics', 'point', 'poland', 'polarity', 'polarization', 'policies', 'policy', 'political', 'politics', 'pollutants', 'pollution', 'polymers', 'populism', 'ports', 'portugal', 'potential', 'poverty', 'power', 'practice', 'practices', 'precision', 'precursors', 'predictability', 'prediction', 'preferences', 'pregnancy', 'prehistory', 'preparation', 'preparedness', 'presence', 'present', 'preservation', 'pressure', 'prevalence', 'prevention', 'principles', 'privacy', 'probability', 'probe', 'problem', 'problems', 'process', 'processes', 'processing', 'product', 'production', 'productivity', 'products', 'profiling', 'prognosis', 'progression', 'project', 'projects', 'promise', 'promotion', 'proof', 'propagation', 'properties', 'property', 'proposal', 'protection', 'protein', 'proteins', 'proteomics', 'provision', 'psychology', 'qualification', 'quality', 'quantification', 'quantum', 'quest', 'race', 'radiation', 'radiotherapy', 'rail', 'railway', 'railways', 'randomness', 'range', 'rationality', 'rays', 're', 'reactivity', 'reading', 'reality', 'realization', 'reasoning', 'reception', 'receptor', 'recognition', 'reconstruction', 'recovery', 'recycling', 'reduction', 'refugees', 'refurbishment', 'regeneration', 'region', 'regions', 'regulation', 'regulations', 'regulators', 'rehabilitation', 'relapse', 'relation', 'relations', 'relationship', 'release', 'relevance', 'reliability', 'religion', 'removal', 'renaissance', 'renewables', 'repair', 'replacement', 'replication', 'representation', 'representations', 'reproduction', 'reprogramming', 'rescue', 'research', 'researchers', 'resilience', 'resistance', 'resolution', 'resource', 'resources', 'response', 'responses', 'responsibility', 'restoration', 'results', 'retail', 'retrieval', 'reuse', 'revolution', 'rheology', 'right', 'rights', 'rise', 'risk', 'risks', 'rivers', 'rna', 'road', 'roadmap', 'roadmaps', 'robot', 'robotics', 'robots', 'robustness', 'role', 'roles', 'roll', 'romania', 'rome', 'roots', 'rotation', 'rri', 'rules', 'russia', 'safe', 'safety', 'salmonella', 'satellite', 'satellites', 'scale', 'scales', 'schizophrenia', 'schools', 'science', 'sciences', 'scientists', 'screening', 'sea', 'search', 'secretariat', 'sectors', 'secure', 'security', 'selection', 'self', 'semantics', 'senescence', 'sense', 'sensing', 'sensitivity', 'sensor', 'sensors', 'separation', 'sepsis', 'sequencing', 'service', 'services', 'sex', 'shape', 'shaping', 'sharing', 'ships', 'shocks', 'sicily', 'signal', 'signals', 'silico', 'silicon', 'simulation', 'simulations', 'singularities', 'site', 'sites', 'situ', 'size', 'skills', 'skin', 'slavery', 'sleep', 'slovakia', 'smart', 'sme', 'smes', 'social', 'societies', 'society', 'software', 'soil', 'soils', 'solidarity', 'solids', 'solution', 'solutions', 'sound', 'source', 'sources', 'sovereignty', 'space', 'spaces', 'spain', 'speciation', 'species', 'specificity', 'spectroscopy', 'speech', 'speed', 'spins', 'spintronics', 'sport', 'spread', 'stability', 'stage', 'stakeholders', 'standardisation', 'standards', 'stars', 'startups', 'state', 'states', 'statistics', 'step', 'stimulation', 'stone', 'storage', 'strategies', 'strategy', 'stratification', 'stress', 'stroke', 'structure', 'structures', 'students', 'studies', 'study', 'substitution', 'success', 'sun', 'sunlight', 'super', 'superconductivity', 'superfluidity', 'supply', 'support', 'surface', 'surfaces', 'surgery', 'surveillance', 'surveying', 'survival', 'susceptibility', 'sustainability', 'sustainable', 'sweden', 'symbols', 'symmetries', 'synapses', 'synergies', 'synergy', 'synthesis', 'system', 'systems', 'talk', 'target', 'targets', 'techniques', 'technologies', 'technology', 'telomeres', 'temperature', 'territories', 'test', 'testing', 'tests', 'text', 'textiles', 'texts', 'them', 'theories', 'theory', 'therapeutics', 'therapy', 'they', 'things', 'threat', 'threats', 'thrombosis', 'time', 'times', 'timing', 'tissue', 'tissues', 'titanium', 'today', 'tolerance', 'tomography', 'tomorrow', 'tool', 'tools', 'top', 'topology', 'toxicity', 'tracers', 'tracking', 'trade', 'traffic', 'training', 'trajectories', 'transcription', 'transcriptional', 'transfer', 'transformation', 'transformations', 'transition', 'transitions', 'translation', 'transmission', 'transparency', 'transplantation', 'transport', 'transportation', 'trauma', 'treatment', 'treatments', 'trees', 'trends', 'trust', 'tuberculosis', 'tumor', 'tumorigenesis', 'tumors', 'tumours', 'turbulence', 'turkey', 'twinning', 'type', 'u', 'uk', 'ukraine', 'ultrasound', 'uncertainty', 'understanding', 'universality', 'universe', 'universities', 'university', 'upgrade', 'upscale', 'upscaling', 'uptake', 'urbanization', 'us', 'usa', 'usage', 'use', 'user', 'users', 'utilisation', 'utilization', 'vaccine', 'vaccines', 'validation', 'valorisation', 'valorization', 'value', 'values', 'variability', 'variation', 'varieties', 'vegetables', 'vegetation', 'vehicle', 'vehicles', 'verification', 'vertebrates', 'vessels', 'viability', 'vibration', 'view', 'violence', 'virus', 'viruses', 'vision', 'visualization', 'vivo', 'voices', 'vulnerability', 'wales', 'war', 'waste', 'wastewater', 'water', 'waves', 'way', 'we', 'weather', 'web', 'welding', 'welfare', 'wellbeing', 'west', 'what', 'who', 'wild', 'wind', 'window', 'wine', 'women', 'wood', 'words', 'work', 'world', 'writing', 'x', 'years', 'yield', 'you', 'youth', 'zebrafish']\n"
     ]
    }
   ],
   "metadata": {}
  }
 ],
 "metadata": {
  "orig_nbformat": 4,
  "language_info": {
   "name": "python",
   "version": "3.9.2",
   "mimetype": "text/x-python",
   "codemirror_mode": {
    "name": "ipython",
    "version": 3
   },
   "pygments_lexer": "ipython3",
   "nbconvert_exporter": "python",
   "file_extension": ".py"
  },
  "kernelspec": {
   "name": "python3",
   "display_name": "Python 3.9.2 64-bit ('text-data-hXNSdjxg-py3.9': poetry)"
  },
  "interpreter": {
   "hash": "72e5c414fa685c04be857c4b405d4059aa1da4000f4059e821b345d549630a65"
  }
 },
 "nbformat": 4,
 "nbformat_minor": 2
}