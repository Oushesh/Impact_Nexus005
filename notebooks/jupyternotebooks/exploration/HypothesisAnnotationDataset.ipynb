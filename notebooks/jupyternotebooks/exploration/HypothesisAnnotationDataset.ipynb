{
 "cells": [
  {
   "cell_type": "code",
   "execution_count": 1,
   "metadata": {},
   "outputs": [],
   "source": [
    "%load_ext autoreload\n",
    "%autoreload 2"
   ]
  },
  {
   "cell_type": "code",
   "execution_count": 2,
   "metadata": {},
   "outputs": [],
   "source": [
    "import srsly\n",
    "import os\n",
    "os.chdir('../..')"
   ]
  },
  {
   "cell_type": "code",
   "execution_count": 92,
   "metadata": {},
   "outputs": [],
   "source": [
    "lines = srsly.read_jsonl('assets/documents_raw.jsonl')"
   ]
  },
  {
   "cell_type": "code",
   "execution_count": 93,
   "metadata": {},
   "outputs": [
    {
     "name": "stdout",
     "output_type": "stream",
     "text": [
      "ea7cbbecf9494640b32f9721c6adbb6b\n",
      "<re.Match object; span=(0, 3), match=' \\n\\n'>\n"
     ]
    }
   ],
   "source": [
    "for line in lines:\n",
    "    if matches := re.match(r\"^(\\S|[\\W\\d]+?) *$\\n+(?= *(\\S|[\\W\\d]+?|\\s*) *$)\", line['text'], flags=re.MULTILINE):\n",
    "        if line['text'].strip():\n",
    "            print(line['id'])\n",
    "            print(matches)\n",
    "            break\n"
   ]
  },
  {
   "cell_type": "code",
   "execution_count": 66,
   "metadata": {},
   "outputs": [
    {
     "name": "stderr",
     "output_type": "stream",
     "text": [
      "30it [00:15,  1.90it/s]\n"
     ]
    },
    {
     "data": {
      "text/plain": [
       "11"
      ]
     },
     "execution_count": 66,
     "metadata": {},
     "output_type": "execute_result"
    }
   ],
   "source": [
    "len([i['text'] for i in list(extract_process_item(line))])"
   ]
  },
  {
   "cell_type": "code",
   "execution_count": 60,
   "metadata": {},
   "outputs": [],
   "source": [
    "from scripts.download_annotations import *\n",
    "selectors = extract_quote_selectors_text(line)"
   ]
  },
  {
   "cell_type": "code",
   "execution_count": 56,
   "metadata": {},
   "outputs": [
    {
     "data": {
      "text/plain": [
       "['As of 1 January 2020, 21 out of the 27 Member States of the European Union (EU) have national minimum wages: only Denmark, Italy, Cyprus, Austria, Finland and Sweden do not have any.\\n\\n\\xa0\\n\\nMonthly minimum wages generally below €600 in east and above €1 500 in northwest of the EU\\n\\nThe 21 EU Member States that have national minimum wages can be divided into three main groups based on the level in euro.\\n\\nIn January 2020, Bulgaria had the lowest gross* minimum wage (€312) across the EU. Nine Member States, predominantly located in the east of the EU, followed with minimum wages between €400 and around €600 per month: Latvia (€430), Romania (€466), Hungary (€487), Croatia (€546), Czechia (€575), Slovakia (€580), Estonia (€584), Lithuania (€607) and Poland (€611).\\n\\nIn five other Member States, located mainly in the south of the EU, minimum wages ranged between €700 and just over €1 000 per month: Portugal (€741), Greece (€758), Malta (€777), Slovenia (€941) and Spain (€1 050).\\n\\nIn the remaining seven Member States, all located in the west and north of the EU, minimum wages were above €1 500 per month: France (€1 539), Germany (€1 584), Belgium (€1 594), the Netherlands (€1 636), Ireland (€1 656) and Luxembourg (€2 142).']"
      ]
     },
     "execution_count": 56,
     "metadata": {},
     "output_type": "execute_result"
    }
   ],
   "source": [
    "[selector[0]['exact'] for selector in selectors]"
   ]
  },
  {
   "cell_type": "code",
   "execution_count": 9,
   "metadata": {},
   "outputs": [
    {
     "data": {
      "text/plain": [
       "{'selector': [{'endContainer': '/div[2]/section[1]/div[1]/div[1]/div[1]/div[1]/div[1]/section[1]/div[1]/div[2]/div[1]/div[1]/div[2]/div[1]/div[2]/div[1]/p[7]',\n",
       "   'endOffset': 246.0,\n",
       "   'startOffset': 0.0,\n",
       "   'type': 'RangeSelector',\n",
       "   'startContainer': '/div[2]/section[1]/div[1]/div[1]/div[1]/div[1]/div[1]/section[1]/div[1]/div[2]/div[1]/div[1]/div[2]/div[1]/div[2]/div[1]/p[1]'},\n",
       "  {'type': 'TextPositionSelector', 'start': 25469.0, 'end': 26700.0},\n",
       "  {'exact': 'As of 1 January 2020, 21 out of the 27 Member States of the European Union (EU) have national minimum wages: only Denmark, Italy, Cyprus, Austria, Finland and Sweden do not have any.\\n\\n\\xa0\\n\\nMonthly minimum wages generally below €600 in east and above €1 500 in northwest of the EU\\n\\nThe 21 EU Member States that have national minimum wages can be divided into three main groups based on the level in euro.\\n\\nIn January 2020, Bulgaria had the lowest gross* minimum wage (€312) across the EU. Nine Member States, predominantly located in the east of the EU, followed with minimum wages between €400 and around €600 per month: Latvia (€430), Romania (€466), Hungary (€487), Croatia (€546), Czechia (€575), Slovakia (€580), Estonia (€584), Lithuania (€607) and Poland (€611).\\n\\nIn five other Member States, located mainly in the south of the EU, minimum wages ranged between €700 and just over €1 000 per month: Portugal (€741), Greece (€758), Malta (€777), Slovenia (€941) and Spain (€1 050).\\n\\nIn the remaining seven Member States, all located in the west and north of the EU, minimum wages were above €1 500 per month: France (€1 539), Germany (€1 584), Belgium (€1 594), the Netherlands (€1 636), Ireland (€1 656) and Luxembourg (€2 142).',\n",
       "   'type': 'TextQuoteSelector',\n",
       "   'suffix': '\\n\\nFor comparison, the federal mi',\n",
       "   'prefix': '/02/2020\\n\\n    \\n    \\t\\n    \\t\\n    \\t'}],\n",
       " 'source': 'https://ec.europa.eu/eurostat/web/products-eurostat-news/-/DDN-20200203-2'}"
      ]
     },
     "execution_count": 9,
     "metadata": {},
     "output_type": "execute_result"
    }
   ],
   "source": [
    "line['meta']['hypothesis_annotations'][0]['target'][0]"
   ]
  },
  {
   "cell_type": "code",
   "execution_count": 10,
   "metadata": {},
   "outputs": [
    {
     "data": {
      "text/plain": [
       "{'exact': 'As of 1 January 2020, 21 out of the 27 Member States of the European Union (EU) have national minimum wages: only Denmark, Italy, Cyprus, Austria, Finland and Sweden do not have any.\\n\\n\\xa0\\n\\nMonthly minimum wages generally below €600 in east and above €1 500 in northwest of the EU\\n\\nThe 21 EU Member States that have national minimum wages can be divided into three main groups based on the level in euro.\\n\\nIn January 2020, Bulgaria had the lowest gross* minimum wage (€312) across the EU. Nine Member States, predominantly located in the east of the EU, followed with minimum wages between €400 and around €600 per month: Latvia (€430), Romania (€466), Hungary (€487), Croatia (€546), Czechia (€575), Slovakia (€580), Estonia (€584), Lithuania (€607) and Poland (€611).\\n\\nIn five other Member States, located mainly in the south of the EU, minimum wages ranged between €700 and just over €1 000 per month: Portugal (€741), Greece (€758), Malta (€777), Slovenia (€941) and Spain (€1 050).\\n\\nIn the remaining seven Member States, all located in the west and north of the EU, minimum wages were above €1 500 per month: France (€1 539), Germany (€1 584), Belgium (€1 594), the Netherlands (€1 636), Ireland (€1 656) and Luxembourg (€2 142).',\n",
       " 'type': 'TextQuoteSelector',\n",
       " 'suffix': '\\n\\nFor comparison, the federal mi',\n",
       " 'prefix': '/02/2020\\n\\n    \\n    \\t\\n    \\t\\n    \\t'}"
      ]
     },
     "execution_count": 10,
     "metadata": {},
     "output_type": "execute_result"
    }
   ],
   "source": [
    "import re\n",
    "selectors[0][0]"
   ]
  },
  {
   "cell_type": "code",
   "execution_count": 11,
   "metadata": {},
   "outputs": [],
   "source": [
    "import difflib"
   ]
  },
  {
   "cell_type": "code",
   "execution_count": 12,
   "metadata": {},
   "outputs": [
    {
     "data": {
      "text/plain": [
       "\"\\n\\nNavigation\\n\\nSkip to Content\\n\\n\\n\\n\\n\\n\\n\\n\\n\\nSign In\\n\\n\\n|\\nRegister\\n\\n\\n\\n\\nLegal notice | Cookies | Links |   My alerts | Contact\\n\\n\\n\\n\\n\\n\\n\\n\\n\\n\\n\\tEnglish\\n\\n\\n\\n\\n\\tDeutsch\\n\\n\\n\\n\\n\\tFrançais\\n\\n\\n\\n\\n\\n\\n\\n\\n\\n\\n\\n\\n\\n\\n\\n\\r\\n\\t\\t\\t\\t\\tYour key to European statistics\\r\\n\\t\\t\\t\\n\\n\\n\\n\\n\\n\\n\\n\\n\\n\\n\\n\\n\\n\\n\\n\\n\\n\\n\\n\\n\\n\\n\\n\\n\\n\\n\\n\\n\\n\\n\\n\\n\\n\\n\\n\\n\\n\\n\\n\\nSearch\\n\\nSearch\\xa0\\xa0\\n\\n\\n\\n\\n\\n\\n\\n\\n\\n\\n\\n\\n\\n\\n\\n\\n\\n\\n\\n\\n\\n\\n\\n\\n\\n\\n\\n\\n\\n\\n\\n\\nHamburger menu\\n\\n\\n\\n\\n\\n\\n\\n News                             \\n \\n\\n\\n\\n\\n\\n                                                What's new?\\n                                            \\n\\n\\n\\n                                                Euro indicators\\n                                            \\n\\n\\n\\n                                                Release calendar\\n                                            \\n\\n\\n\\n\\n\\n Data                             \\n \\n\\n\\n\\n\\n\\n                                                Database\\n                                            \\n\\n\\n\\n                                                Browse statistics by theme\\n                                            \\n\\n\\n\\n                                                Statistics A - Z\\n                                            \\n\\n\\n\\n                                                Experimental statistics\\n                                            \\n\\n\\n\\n                                                Bulk download\\n                                            \\n\\n\\n\\n                                                Web Services\\n                                            \\n\\n\\n\\n                                                Access to microdata\\n                                            \\n\\n\\n\\n                                                GISCO:Geographical Information and maps\\n                                            \\n\\n\\n\\n                                                Metadata\\n                                            \\n\\n\\n\\n                                                SDMX InfoSpace\\n                                            \\n\\n\\n\\n                                                Data validation\\n                                            \\n\\n\\n\\n\\n\\n Publications                             \\n \\n\\n\\n\\n\\n\\n                                                All publications\\n                                            \\n\\n\\n\\n                                                Flagship publications\\n                                            \\n\\n\\n\\n                                                Interactive publications\\n                                            \\n\\n\\n\\n                                                Key figures\\n                                            \\n\\n\\n\\n                                                Statistics Explained\\n                                                    \\n\\n\\n\\n\\n                                                Methodological publications\\n                                            \\n\\n\\n\\n                                                Leaflets and other brochures\\n                                            \\n\\n\\n\\n                                                How to order?\\n                                            \\n\\n\\n\\n\\n\\n About Eurostat                             \\n \\n\\n\\n\\n\\n\\n                                                Who we are\\n                                            \\n\\n\\n\\n                                                Policies\\n                                            \\n\\n\\n\\n                                                Our partners\\n                                            \\n\\n\\n\\n                                                Opportunities\\n                                            \\n\\n\\n\\n\\n\\n Help                             \\n \\n\\n\\n\\n\\n\\n                                                User support\\n                                            \\n\\n\\n\\n                                                Media support\\n                                            \\n\\n\\n\\n                                                Institutional support\\n                                            \\n\\n\\n\\n                                                First Visit\\n                                            \\n\\n\\n\\n                                                Frequently asked questions\\n                                            \\n\\n\\n\\n                                                Education corner\\n                                            \\n\\n\\n\\n                                                Group visits\\n                                            \\n\\n\\n\\n\\n\\n\\n\\n\\n\\n\\n\\n\\n\\n\\n\\nEuropean Commission\\nEurostat\\n\\n\\nProducts Eurostat News\\n\\n\\n\\nDisparities in minimum wages across the EU\\n\\n\\n \\n\\nDisparities in minimum wages across the EU - Products Eurostat News\\n\\n\\n\\n\\n\\n\\n\\n\\n\\n\\n\\n\\n\\n\\n\\n\\n\\n\\n\\n\\n\\n\\n\\n\\nnull\\n\\n\\n\\n\\t\\t\\t\\t\\tDisparities in minimum wages across the EU\\n\\t\\t\\t\\t\\n\\n\\n\\n\\n\\n\\n\\n\\n\\n\\n\\n\\nPrint Disparities in minimum wages across the EU\\n\\n\\n\\n\\t\\n\\t03/02/2020\\n\\n\\n\\n\\nAs of 1 January 2020, 21 out of the 27 Member States of the European Union (EU) have national minimum wages: only Denmark, Italy, Cyprus, Austria, Finland and Sweden do not have any.\\n\\xa0\\nMonthly minimum wages generally below €600 in east and above €1 500 in northwest of the EU\\nThe 21 EU Member States that have national minimum wages can be divided into three main groups based on the level in euro.\\nIn January 2020, Bulgaria had the lowest gross* minimum wage (€312) across the EU. Nine Member States, predominantly located in the east of the EU, followed with minimum wages between €400 and around €600 per month: Latvia (€430), Romania (€466), Hungary (€487), Croatia (€546), Czechia (€575), Slovakia (€580), Estonia (€584), Lithuania (€607) and Poland (€611).\\nIn five other Member States, located mainly in the south of the EU, minimum wages ranged between €700 and just over €1 000 per month: Portugal (€741), Greece (€758), Malta (€777), Slovenia (€941) and Spain (€1 050).\\nIn the remaining seven Member States, all located in the west and north of the EU, minimum wages were above €1 500 per month: France (€1 539), Germany (€1 584), Belgium (€1 594), the Netherlands (€1 636), Ireland (€1 656) and Luxembourg (€2 142).\\nFor comparison, the federal minimum wage in the United States was €1 119 per month in January 2020.\\n\\xa0\\n\\nThe source dataset is available\\xa0here.\\n\\xa0\\nSmaller gaps in minimum wages once price level differences are eliminated\\nAcross the 21 Member States concerned, the highest minimum wage in the EU was almost 7 times higher than the lowest.\\nHowever, the disparities in minimum wages across the EU Member States are considerably smaller once price level differences are taken into account: minimum wages in Member States with lower price levels become relatively higher when expressed in purchasing power standard (PPS), and relatively lower in Member States with higher price levels.\\nBy eliminating price differences, minimum wages ranged from 579 PPS per month in Latvia and 618 PPS in Bulgaria to 1 705 PPS in Luxembourg, meaning that the highest minimum wage more than 3 times higher than the lowest.\\n\\xa0\\nFurther information is provided in the Statistics Explained article\\xa0Minimum wage statistics.\\n\\xa0\\n* Before taxes are deducted\\n\\xa0\\nNote: The European Union (EU) includes\\xa027 EU Member States. The United Kingdom left the European Union on 31 January 2020. Further information is published\\xa0here.\\n\\xa0\\nTo contact us, please visit our\\xa0User Support\\xa0page.\\nFor press queries, please contact our\\xa0Media Support.\\n\\n\\n\\nShare this page:\\n\\n\\n\\n\\n\\n\\n\\n\\n\\n\\n\\n\\n\\n\\n\\n\\n\\n\\n \\n\\n\\n\\n\\nNews\\nWhat's new?\\nEuro indicators\\nRelease calendar\\n\\nData\\nDatabase\\nStatistics by theme\\nStatistics A to Z \\n\\nPublications\\nAll publications\\nStatistics Explained\\n\\nAbout us\\nWho we are\\nContact\\nAccessibility\\n\\nOpportunities\\nCalls for tenders\\nGrants\\n\\xa0\\xa0\\u200b\\xa0\\xa0\\n\\n\\u200b\\n\\n \\n\\n\\n\\n\\n\\n\\n\\n\\n\\n\\n\\n\\n\""
      ]
     },
     "execution_count": 12,
     "metadata": {},
     "output_type": "execute_result"
    }
   ],
   "source": [
    "line['text']"
   ]
  },
  {
   "cell_type": "code",
   "execution_count": 13,
   "metadata": {},
   "outputs": [],
   "source": [
    "exact = selectors[0][0]['exact']"
   ]
  },
  {
   "cell_type": "code",
   "execution_count": 14,
   "metadata": {},
   "outputs": [],
   "source": [
    "from scripts.preprocess import *"
   ]
  },
  {
   "cell_type": "code",
   "execution_count": 15,
   "metadata": {},
   "outputs": [
    {
     "data": {
      "text/plain": [
       "'As of 1 January 2020, 21 out of the 27 Member States of the European Union (EU) have national minimum wages: only Denmark, Italy, Cyprus, Austria, Finland and Sweden do not have any.\\n\\n \\nMonthly minimum wages generally below €600 in east and above €1 500 in northwest of the EU\\n\\nThe 21 EU Member States that have national minimum wages can be divided into three main groups based on the level in euro.\\n\\nIn January 2020, Bulgaria had the lowest gross* minimum wage (€312) across the EU. Nine Member States, predominantly located in the east of the EU, followed with minimum wages between €400 and around €600 per month: Latvia (€430), Romania (€466), Hungary (€487), Croatia (€546), Czechia (€575), Slovakia (€580), Estonia (€584), Lithuania (€607) and Poland (€611).\\n\\nIn five other Member States, located mainly in the south of the EU, minimum wages ranged between €700 and just over €1 000 per month: Portugal (€741), Greece (€758), Malta (€777), Slovenia (€941) and Spain (€1 050).\\n\\nIn the remaining seven Member States, all located in the west and north of the EU, minimum wages were above €1 500 per month: France (€1 539), Germany (€1 584), Belgium (€1 594), the Netherlands (€1 636), Ireland (€1 656) and Luxembourg (€2 142).'"
      ]
     },
     "execution_count": 15,
     "metadata": {},
     "output_type": "execute_result"
    }
   ],
   "source": [
    "cleanup(selectors[0][0]['exact'])"
   ]
  },
  {
   "cell_type": "code",
   "execution_count": 16,
   "metadata": {},
   "outputs": [
    {
     "name": "stderr",
     "output_type": "stream",
     "text": [
      "100%|██████████| 19/19 [00:00<00:00, 1127.53it/s]\n"
     ]
    }
   ],
   "source": [
    "# meta = line['meta']\n",
    "pars = []\n",
    "for par in extract_process_item(line):\n",
    "    pars.append(par['text'])"
   ]
  },
  {
   "cell_type": "code",
   "execution_count": 23,
   "metadata": {},
   "outputs": [
    {
     "name": "stderr",
     "output_type": "stream",
     "text": [
      "100%|██████████| 19/19 [00:00<00:00, 5136.10it/s]\n"
     ]
    },
    {
     "name": "stdout",
     "output_type": "stream",
     "text": [
      "Legal notice | Cookies | Links |\n",
      "My alerts | Contact\n",
      "Your key to European statistics\n",
      "GISCO:Geographical Information and maps\n",
      "Disparities in minimum wages across the EU\n",
      "Disparities in minimum wages across the EU - Products Eurostat News\n",
      "Disparities in minimum wages across the EU\n",
      "Print Disparities in minimum wages across the EU\n",
      "03/02/2020\n",
      "As of 1 January 2020, 21 out of the 27 Member States of the European Union (EU) have national minimum wages: only Denmark, Italy, Cyprus, Austria, Finland and Sweden do not have any.\n",
      "Monthly minimum wages generally below €600 in east and above €1 500 in northwest of the EU\n",
      "The 21 EU Member States that have national minimum wages can be divided into three main groups based on the level in euro.\n",
      "In January 2020, Bulgaria had the lowest gross* minimum wage (€312) across the EU.\n",
      "Nine Member States, predominantly located in the east of the EU, followed with minimum wages between €400 and around €600 per month: Latvia (€430), Romania (€466), Hungary (€487), Croatia (€546), Czechia (€575), Slovakia (€580), Estonia (€584), Lithuania (€607) and Poland (€611).\n",
      "In five other Member States, located mainly in the south of the EU, minimum wages ranged between €700 and just over €1 000 per month: Portugal (€741), Greece (€758), Malta (€777), Slovenia (€941) and Spain (€1 050).\n",
      "In the remaining seven Member States, all located in the west and north of the EU, minimum wages were above €1 500 per month: France (€1 539), Germany (€1 584), Belgium (€1 594), the Netherlands (€1 636), Ireland (€1 656) and Luxembourg (€2 142).\n",
      "For comparison, the federal minimum wage in the United States was €1 119 per month in January 2020.\n",
      "The source dataset is available here.\n",
      "Smaller gaps in minimum wages once price level differences are eliminated\n",
      "Across the 21 Member States concerned, the highest minimum wage in the EU was almost 7 times higher than the lowest.\n",
      "However, the disparities in minimum wages across the EU Member States are considerably smaller once price level differences are taken into account: minimum wages in Member States with lower price levels become relatively higher when expressed in purchasing power standard (PPS), and relatively lower in Member States with higher price levels.\n",
      "By eliminating price differences, minimum wages ranged from 579 PPS per month in Latvia and 618 PPS in Bulgaria to 1 705 PPS in Luxembourg, meaning that the highest minimum wage more than 3 times higher than the lowest.\n",
      "Further information is provided in the Statistics Explained article Minimum wage statistics.\n",
      "Note: The European Union (EU) includes 27 EU Member States.\n",
      "The United Kingdom left the European Union on 31 January 2020.\n",
      "Further information is published here.\n",
      "To contact us, please visit our User Support page.\n",
      "For press queries, please contact our Media Support.\n",
      "News\n",
      "What's new?\n",
      "Euro indicators\n",
      "Release calendar\n",
      "Data\n",
      "Database\n",
      "Statistics by theme\n",
      "Statistics A to Z\n",
      "Publications\n",
      "All publications\n",
      "Statistics Explained\n",
      "About us\n",
      "Who we are\n",
      "Contact\n",
      "Accessibility\n",
      "Opportunities\n",
      "Calls for tenders\n",
      "Grants\n"
     ]
    }
   ],
   "source": [
    "line[\"text\"] = cleanup(line[\"text\"])\n",
    "paragraphs = [\n",
    "    clean_par\n",
    "    for par in re.split(r\"\\n\\n+\", line[\"text\"].strip())\n",
    "    if len(clean_par := par.strip()) > 30\n",
    "]\n",
    "n_cleaned_paragraphs = 0\n",
    "for doc in nlp.pipe(tqdm(paragraphs)):\n",
    "    for sent in doc.sents:\n",
    "        if sent.text.strip():\n",
    "            print(sent.text.strip())"
   ]
  },
  {
   "cell_type": "code",
   "execution_count": 19,
   "metadata": {},
   "outputs": [
    {
     "data": {
      "text/plain": [
       "['As of 1 January 2020, 21 out of the 27 Member States of the European Union (EU) have national minimum wages: only Denmark, Italy, Cyprus, Austria, Finland and Sweden do not have any.',\n",
       " 'The 21 EU Member States that have national minimum wages can be divided into three main groups based on the level in euro.\\nIn January 2020, Bulgaria had the lowest gross* minimum wage (€312) across the EU.\\nNine Member States, predominantly located in the east of the EU, followed with minimum wages between €400 and around €600 per month: Latvia (€430), Romania (€466), Hungary (€487), Croatia (€546), Czechia (€575), Slovakia (€580), Estonia (€584), Lithuania (€607) and Poland (€611). In five other Member States, located mainly in the south of the EU, minimum wages ranged between €700 and just over €1 000 per month: Portugal (€741), Greece (€758), Malta (€777), Slovenia (€941) and Spain (€1 050). In the remaining seven Member States, all located in the west and north of the EU, minimum wages were above €1 500 per month: France (€1 539), Germany (€1 584), Belgium (€1 594), the Netherlands (€1 636), Ireland (€1 656) and Luxembourg (€2 142). For comparison, the federal minimum wage in the United States was €1 119 per month in January 2020.',\n",
       " 'Across the 21 Member States concerned, the highest minimum wage in the EU was almost 7 times higher than the lowest.\\nHowever, the disparities in minimum wages across the EU Member States are considerably smaller once price level differences are taken into account: minimum wages in Member States with lower price levels become relatively higher when expressed in purchasing power standard (PPS), and relatively lower in Member States with higher price levels.\\n\\n\\nBy eliminating price differences, minimum wages ranged from 579 PPS per month in Latvia and 618 PPS in Bulgaria to 1 705 PPS in Luxembourg, meaning that the highest minimum wage more than 3 times higher than the lowest.',\n",
       " 'Further information is provided in the Statistics Explained article Minimum wage statistics.',\n",
       " 'Note: The European Union (EU) includes 27 EU Member States.\\nThe United Kingdom left the European Union on 31 January 2020.',\n",
       " 'To contact us, please visit our User Support page.\\nFor press queries, please contact our Media Support.']"
      ]
     },
     "execution_count": 19,
     "metadata": {},
     "output_type": "execute_result"
    }
   ],
   "source": [
    "pars"
   ]
  },
  {
   "cell_type": "code",
   "execution_count": 56,
   "metadata": {},
   "outputs": [
    {
     "data": {
      "text/plain": [
       "['Legal notice | Cookies | Links |   My alerts | Contact',\n",
       " 'Disparities in minimum wages across the EU - Products Eurostat News',\n",
       " '03/02/2020 \\nAs of 1 January 2020, 21 out of the 27 Member States of the European Union (EU) have national minimum wages: only Denmark, Italy, Cyprus, Austria, Finland and Sweden do not have any.',\n",
       " 'Monthly minimum wages generally below €600 in east and above €1 500 in northwest of the EU\\nThe 21 EU Member States that have national minimum wages can be divided into three main groups based on the level in euro.\\nIn January 2020, Bulgaria had the lowest gross* minimum wage (€312) across the EU. Nine Member States, predominantly located in the east of the EU, followed with minimum wages between €400 and around €600 per month: Latvia (€430), Romania (€466), Hungary (€487), Croatia (€546), Czechia (€575), Slovakia (€580), Estonia (€584), Lithuania (€607) and Poland (€611).\\nIn five other Member States, located mainly in the south of the EU, minimum wages ranged between €700 and just over €1 000 per month: Portugal (€741), Greece (€758), Malta (€777), Slovenia (€941) and Spain (€1 050).\\nIn the remaining seven Member States, all located in the west and north of the EU, minimum wages were above €1 500 per month: France (€1 539), Germany (€1 584), Belgium (€1 594), the Netherlands (€1 636), Ireland (€1 656) and Luxembourg (€2 142).\\nFor comparison, the federal minimum wage in the United States was €1 119 per month in January 2020.',\n",
       " 'Smaller gaps in minimum wages once price level differences are eliminated\\nAcross the 21 Member States concerned, the highest minimum wage in the EU was almost 7 times higher than the lowest.\\nHowever, the disparities in minimum wages across the EU Member States are considerably smaller once price level differences are taken into account: minimum wages in Member States with lower price levels become relatively higher when expressed in purchasing power standard (PPS), and relatively lower in Member States with higher price levels.\\nBy eliminating price differences, minimum wages ranged from 579 PPS per month in Latvia and 618 PPS in Bulgaria to 1 705 PPS in Luxembourg, meaning that the highest minimum wage more than 3 times higher than the lowest.',\n",
       " 'Further information is provided in the Statistics Explained article Minimum wage statistics.',\n",
       " 'Note: The European Union (EU) includes 27 EU Member States. The United Kingdom left the European Union on 31 January 2020. Further information is published here.',\n",
       " 'To contact us, please visit our User Support page.\\nFor press queries, please contact our Media Support.',\n",
       " 'Data\\nDatabase\\nStatistics by theme\\nStatistics A to Z']"
      ]
     },
     "execution_count": 56,
     "metadata": {},
     "output_type": "execute_result"
    }
   ],
   "source": [
    "line[\"text\"] = cleanup(line[\"text\"])\n",
    "paragraphs = [par.strip() for par in re.split(r\"\\n\\n+\", line[\"text\"].strip()) if len(par.strip()) > 50]\n",
    "paragraphs"
   ]
  },
  {
   "cell_type": "code",
   "execution_count": 39,
   "metadata": {},
   "outputs": [
    {
     "data": {
      "text/plain": [
       "'The 21 EU Member States that have national minimum wages can be divided into three main groups based on the level in euro.\\nIn January 2020, Bulgaria had the lowest gross* minimum wage (€312) across the EU.\\nNine Member States, predominantly located in the east of the EU, followed with minimum wages between €400 and around €600 per month: Latvia (€430), Romania (€466), Hungary (€487), Croatia (€546), Czechia (€575), Slovakia (€580), Estonia (€584), Lithuania (€607) and Poland (€611). In five other Member States, located mainly in the south of the EU, minimum wages ranged between €700 and just over €1 000 per month: Portugal (€741), Greece (€758), Malta (€777), Slovenia (€941) and Spain (€1 050). In the remaining seven Member States, all located in the west and north of the EU, minimum wages were above €1 500 per month: France (€1 539), Germany (€1 584), Belgium (€1 594), the Netherlands (€1 636), Ireland (€1 656) and Luxembourg (€2 142). For comparison, the federal minimum wage in the United States was €1 119 per month in January 2020.'"
      ]
     },
     "execution_count": 39,
     "metadata": {},
     "output_type": "execute_result"
    }
   ],
   "source": [
    "pars[2]"
   ]
  },
  {
   "cell_type": "code",
   "execution_count": 38,
   "metadata": {},
   "outputs": [
    {
     "data": {
      "text/plain": [
       "'As of 1 January 2020, 21 out of the 27 Member States of the European Union (EU) have national minimum wages: only Denmark, Italy, Cyprus, Austria, Finland and Sweden do not have any.\\n\\n\\xa0\\n\\nMonthly minimum wages generally below €600 in east and above €1 500 in northwest of the EU\\n\\nThe 21 EU Member States that have national minimum wages can be divided into three main groups based on the level in euro.\\n\\nIn January 2020, Bulgaria had the lowest gross* minimum wage (€312) across the EU. Nine Member States, predominantly located in the east of the EU, followed with minimum wages between €400 and around €600 per month: Latvia (€430), Romania (€466), Hungary (€487), Croatia (€546), Czechia (€575), Slovakia (€580), Estonia (€584), Lithuania (€607) and Poland (€611).\\n\\nIn five other Member States, located mainly in the south of the EU, minimum wages ranged between €700 and just over €1 000 per month: Portugal (€741), Greece (€758), Malta (€777), Slovenia (€941) and Spain (€1 050).\\n\\nIn the remaining seven Member States, all located in the west and north of the EU, minimum wages were above €1 500 per month: France (€1 539), Germany (€1 584), Belgium (€1 594), the Netherlands (€1 636), Ireland (€1 656) and Luxembourg (€2 142).'"
      ]
     },
     "execution_count": 38,
     "metadata": {},
     "output_type": "execute_result"
    }
   ],
   "source": [
    "exact"
   ]
  },
  {
   "cell_type": "code",
   "execution_count": 37,
   "metadata": {},
   "outputs": [],
   "source": [
    "with open('diff1', 'w') as f:\n",
    "    f.write(re.sub('[\\n\\s]+', '', exact))"
   ]
  },
  {
   "cell_type": "code",
   "execution_count": 43,
   "metadata": {},
   "outputs": [
    {
     "data": {
      "text/plain": [
       "[True, True, True, True, True, False]"
      ]
     },
     "execution_count": 43,
     "metadata": {},
     "output_type": "execute_result"
    }
   ],
   "source": [
    "[re.sub('\\s+', '', sent) in re.sub('\\s+', '', exact) for sent in pars[2].split('.') if len(sent) > 10]"
   ]
  },
  {
   "cell_type": "code",
   "execution_count": null,
   "metadata": {},
   "outputs": [],
   "source": []
  }
 ],
 "metadata": {
  "interpreter": {
   "hash": "24f4e86cc3e4fbfbc97d206e4988c09e8cd92be38b351f7e67f50431c8fd2cd8"
  },
  "kernelspec": {
   "display_name": "Python 3.9.2 64-bit ('smart-evidence-0MftrBAc-py3.9': poetry)",
   "name": "python3"
  },
  "language_info": {
   "codemirror_mode": {
    "name": "ipython",
    "version": 3
   },
   "file_extension": ".py",
   "mimetype": "text/x-python",
   "name": "python",
   "nbconvert_exporter": "python",
   "pygments_lexer": "ipython3",
   "version": "3.9.2"
  },
  "orig_nbformat": 4
 },
 "nbformat": 4,
 "nbformat_minor": 2
}
