{
 "cells": [
  {
   "cell_type": "code",
   "execution_count": null,
   "id": "overhead-currency",
   "metadata": {},
   "outputs": [],
   "source": [
    "import spacy"
   ]
  },
  {
   "cell_type": "code",
   "execution_count": null,
   "id": "conscious-nursery",
   "metadata": {
    "tags": []
   },
   "outputs": [],
   "source": [
    "import os"
   ]
  },
  {
   "cell_type": "code",
   "execution_count": null,
   "id": "expired-adjustment",
   "metadata": {},
   "outputs": [],
   "source": [
    "os.chdir('../..')"
   ]
  },
  {
   "cell_type": "code",
   "execution_count": null,
   "id": "specialized-breath",
   "metadata": {},
   "outputs": [],
   "source": [
    "import scripts.custom_functions"
   ]
  },
  {
   "cell_type": "code",
   "execution_count": null,
   "id": "theoretical-litigation",
   "metadata": {},
   "outputs": [],
   "source": [
    "from thinc.api import Config"
   ]
  },
  {
   "cell_type": "code",
   "execution_count": null,
   "id": "divine-bench",
   "metadata": {},
   "outputs": [],
   "source": [
    "config = Config().from_disk(path=\"configs/config.cfg\")"
   ]
  },
  {
   "cell_type": "code",
   "execution_count": null,
   "id": "annual-research",
   "metadata": {},
   "outputs": [],
   "source": [
    "nlp = spacy.blank('en', config=config)"
   ]
  },
  {
   "cell_type": "code",
   "execution_count": null,
   "id": "proud-junior",
   "metadata": {},
   "outputs": [],
   "source": [
    "nlp = spacy.load('en_core_web_lg')"
   ]
  },
  {
   "cell_type": "code",
   "execution_count": null,
   "id": "occupied-administrator",
   "metadata": {},
   "outputs": [],
   "source": [
    "doc = nlp('Monthly minimum wages generally below 20 in east and above 200 in northwest of the EU.')"
   ]
  },
  {
   "cell_type": "code",
   "execution_count": null,
   "id": "cloudy-valentine",
   "metadata": {},
   "outputs": [],
   "source": [
    "from spacy import displacy"
   ]
  },
  {
   "cell_type": "code",
   "execution_count": null,
   "id": "falling-montreal",
   "metadata": {},
   "outputs": [],
   "source": [
    "list(doc.noun_chunks)"
   ]
  },
  {
   "cell_type": "code",
   "execution_count": null,
   "id": "chemical-smart",
   "metadata": {},
   "outputs": [],
   "source": [
    "displacy.serve(doc)"
   ]
  },
  {
   "cell_type": "code",
   "execution_count": null,
   "id": "equivalent-transfer",
   "metadata": {},
   "outputs": [],
   "source": [
    "from spacy.training import Corpus"
   ]
  },
  {
   "cell_type": "code",
   "execution_count": null,
   "id": "dangerous-product",
   "metadata": {},
   "outputs": [],
   "source": [
    "reader = Corpus(\"./corpus/train.spacy\")"
   ]
  },
  {
   "cell_type": "code",
   "execution_count": null,
   "id": "decent-argument",
   "metadata": {},
   "outputs": [],
   "source": [
    "train_data = reader(nlp)"
   ]
  },
  {
   "cell_type": "code",
   "execution_count": null,
   "id": "improved-crash",
   "metadata": {},
   "outputs": [],
   "source": [
    "for x in train_data:\n",
    "    break"
   ]
  },
  {
   "cell_type": "code",
   "execution_count": null,
   "id": "super-exemption",
   "metadata": {},
   "outputs": [],
   "source": [
    "from scripts.preprocess import cleanup"
   ]
  },
  {
   "cell_type": "code",
   "execution_count": null,
   "id": "inside-conference",
   "metadata": {},
   "outputs": [],
   "source": [
    "text = '\\n'.join([par for par in cleanup(x.text).strip().split('\\n') if len(par) > 100][5:10])"
   ]
  },
  {
   "cell_type": "code",
   "execution_count": null,
   "id": "retained-kernel",
   "metadata": {},
   "outputs": [],
   "source": [
    "doc = nlp(text)"
   ]
  },
  {
   "cell_type": "code",
   "execution_count": null,
   "id": "funky-voice",
   "metadata": {},
   "outputs": [],
   "source": [
    "[(ent.label_, ent.text) for ent in doc.ents]"
   ]
  },
  {
   "cell_type": "code",
   "execution_count": null,
   "id": "front-checkout",
   "metadata": {},
   "outputs": [],
   "source": [
    "spacy.explain('PRODUCT')"
   ]
  },
  {
   "cell_type": "code",
   "execution_count": null,
   "id": "irish-island",
   "metadata": {},
   "outputs": [],
   "source": []
  }
 ],
 "metadata": {
  "kernelspec": {
   "display_name": "smart_evidence",
   "language": "python",
   "name": "smart_evidence"
  },
  "language_info": {
   "codemirror_mode": {
    "name": "ipython",
    "version": 3
   },
   "file_extension": ".py",
   "mimetype": "text/x-python",
   "name": "python",
   "nbconvert_exporter": "python",
   "pygments_lexer": "ipython3",
   "version": "3.9.2"
  }
 },
 "nbformat": 4,
 "nbformat_minor": 5
}
