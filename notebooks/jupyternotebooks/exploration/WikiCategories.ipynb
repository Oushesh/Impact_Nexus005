{
 "cells": [
  {
   "cell_type": "code",
   "execution_count": null,
   "source": [
    "import spacy\n",
    "import srsly"
   ],
   "outputs": [],
   "metadata": {}
  },
  {
   "cell_type": "code",
   "execution_count": null,
   "source": [
    "nlp = spacy.load('en_core_web_lg')"
   ],
   "outputs": [],
   "metadata": {}
  },
  {
   "cell_type": "code",
   "execution_count": null,
   "source": [
    "def clean_nounchunk(nc):\n",
    "    return ' '.join([tok.text.lower().strip() for tok in nc if tok.pos_ not in ['DET', 'NUM', 'PUNCT']]).strip()"
   ],
   "outputs": [],
   "metadata": {}
  },
  {
   "cell_type": "code",
   "execution_count": null,
   "source": [
    "corpus = []\n",
    "for item in srsly.read_jsonl('wiki.jsonl'):\n",
    "    text = item['text']\n",
    "    doc = nlp(text)\n",
    "    corpus.append([clean_nounchunk(nc) for nc in doc.noun_chunks])"
   ],
   "outputs": [],
   "metadata": {}
  },
  {
   "cell_type": "code",
   "execution_count": null,
   "source": [
    "corpus = []\n",
    "for item in srsly.read_jsonl('wiki.jsonl'):\n",
    "    corpus.extend([sent.strip() for sent in  item['text'].split('.') if sent.strip()])"
   ],
   "outputs": [],
   "metadata": {}
  },
  {
   "cell_type": "code",
   "execution_count": null,
   "source": [
    "from sklearn.feature_extraction.text import TfidfVectorizer\n",
    "import re\n",
    "\n",
    "stop_words = nlp.Defaults.stop_words\n",
    "\n",
    "vectorizer = TfidfVectorizer(\n",
    "    min_df=5,\n",
    "    max_df=0.1,\n",
    "    stop_words=\"english\",\n",
    "    ngram_range=(1, 4),\n",
    "    # analyzer=lambda x: [\n",
    "    #     w.lower()\n",
    "    #     for w in x\n",
    "    #     if w.lower() not in stop_words and not re.match(r\".*[^-a-zA-Z]+\", w)\n",
    "    # ],\n",
    ")\n",
    "X = vectorizer.fit_transform(corpus)\n",
    "vectorizer.get_feature_names()\n"
   ],
   "outputs": [],
   "metadata": {
    "tags": []
   }
  }
 ],
 "metadata": {
  "interpreter": {
   "hash": "72e5c414fa685c04be857c4b405d4059aa1da4000f4059e821b345d549630a65"
  },
  "kernelspec": {
   "name": "python3",
   "display_name": "Python 3.9.2 64-bit ('text-data-hXNSdjxg-py3.9': poetry)"
  },
  "language_info": {
   "codemirror_mode": {
    "name": "ipython",
    "version": 3
   },
   "file_extension": ".py",
   "mimetype": "text/x-python",
   "name": "python",
   "nbconvert_exporter": "python",
   "pygments_lexer": "ipython3",
   "version": "3.9.2"
  }
 },
 "nbformat": 4,
 "nbformat_minor": 5
}