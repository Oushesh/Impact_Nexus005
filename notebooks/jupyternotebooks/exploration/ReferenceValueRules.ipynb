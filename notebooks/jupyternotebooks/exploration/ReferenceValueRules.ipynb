{
 "cells": [
  {
   "cell_type": "code",
   "execution_count": null,
   "metadata": {},
   "outputs": [],
   "source": [
    "import os\n",
    "os.chdir('..')"
   ]
  },
  {
   "cell_type": "code",
   "execution_count": null,
   "metadata": {},
   "outputs": [],
   "source": [
    "pwd"
   ]
  },
  {
   "cell_type": "code",
   "execution_count": null,
   "metadata": {},
   "outputs": [],
   "source": [
    "from scripts import labeling_rules"
   ]
  },
  {
   "cell_type": "code",
   "execution_count": null,
   "metadata": {},
   "outputs": [],
   "source": [
    "import spacy\n",
    "nlp = spacy.load('en_core_web_trf')"
   ]
  },
  {
   "cell_type": "code",
   "execution_count": null,
   "metadata": {},
   "outputs": [],
   "source": [
    "nlp.add_pipe('labeling_ruler')\n",
    "nlp.add_pipe('labeling_extend_ruler')\n",
    "nlp.add_pipe('expand_entities')"
   ]
  },
  {
   "cell_type": "code",
   "execution_count": null,
   "metadata": {},
   "outputs": [],
   "source": [
    "doc = nlp('On 3 April 2020 , in response to the covid-19 crisis , the government passed Law No . 21,218 , which created a monthly subsidy to guarantee a minimum monthly income of 300,000 pesos ( US$ 378 ) for employees who receive less than 384,363 pesos ( US$ 484 ) per month . ')\n",
    "[(ent, ent.label_) for ent in doc.ents]"
   ]
  },
  {
   "cell_type": "code",
   "execution_count": null,
   "metadata": {},
   "outputs": [],
   "source": [
    "nlp(']')[0].orth_"
   ]
  },
  {
   "cell_type": "code",
   "execution_count": null,
   "metadata": {},
   "outputs": [],
   "source": [
    "list(doc.ents)"
   ]
  },
  {
   "cell_type": "code",
   "execution_count": null,
   "metadata": {},
   "outputs": [],
   "source": [
    "end_index = 22\n",
    "print(doc[end_index])\n",
    "next((nc.end for nc in doc.noun_chunks if nc.start == end_index), None)"
   ]
  },
  {
   "cell_type": "code",
   "execution_count": null,
   "metadata": {},
   "outputs": [],
   "source": [
    "[(tok, tok.ent_type_) for tok in nlp('Food systems contribute 19%–29% of global anthropogenic greenhouse gas (GHG) emissions, releasing 9,800–16,900 megatonnes of carbon dioxide equivalent (MtCO2e) in 2008.')]"
   ]
  },
  {
   "cell_type": "code",
   "execution_count": null,
   "metadata": {},
   "outputs": [],
   "source": []
  },
  {
   "cell_type": "code",
   "execution_count": null,
   "metadata": {},
   "outputs": [],
   "source": [
    "import srsly\n",
    "for item in srsly.read_jsonl('corpus/sentences_dev.jsonl'):\n",
    "    if item['label'] == 'INTERESTING':\n",
    "        doc = nlp(item['text'])\n",
    "        print(doc)\n",
    "        print([(tok, tok.ent_type_) for tok in doc])\n",
    "        print(\"====\")"
   ]
  },
  {
   "cell_type": "code",
   "execution_count": null,
   "metadata": {},
   "outputs": [],
   "source": [
    "from spacy.pipeline import EntityRuler\n",
    "from scripts.labeling_rules import *\n",
    "ruler = EntityRuler(nlp)\n",
    "ruler.add_patterns([\n",
    "    {\n",
    "        \"label\": \"IX_REFERENCE_VALUE\",\n",
    "        \"pattern\": [\n",
    "            {\"ent_type\": \"IX_REFERENCE_VALUE\", \"OP\": \"+\"},\n",
    "            {\"ent_type\": \"\", \"OP\": \"*\"},\n",
    "            {\"LOWER\": {\"IN\": UNIT_LOWERS + TERMS_LOWERS}},\n",
    "            {\"LOWER\": {\"IN\": [\"]\", \")\"]}, \"OP\": \"?\"},\n",
    "        ],\n",
    "    },\n",
    "])"
   ]
  },
  {
   "cell_type": "code",
   "execution_count": null,
   "metadata": {},
   "outputs": [],
   "source": [
    "doc = nlp('More than 4 million ghg tco2e die prematurely from illness attributable to the household air pollution from cooking with solid fuels.')\n",
    "spacy.displacy.serve(doc)"
   ]
  },
  {
   "cell_type": "code",
   "execution_count": null,
   "metadata": {},
   "outputs": [],
   "source": [
    "[(tok, tok.ent_type_) for tok in doc]"
   ]
  },
  {
   "cell_type": "code",
   "execution_count": null,
   "metadata": {},
   "outputs": [],
   "source": [
    "from spacy.matcher import DependencyMatcher\n",
    "ruler = DependencyMatcher(nlp.vocab)\n",
    "patterns = [\n",
    "[\n",
    "    # anchor token: founded\n",
    "    {\n",
    "        \"RIGHT_ID\": \"noun\",\n",
    "        \"RIGHT_ATTRS\": {\"POS\": \"NOUN\"}\n",
    "    },\n",
    "    {\n",
    "        \"LEFT_ID\": \"noun\",\n",
    "        \"RIGHT_ID\": \"num\",\n",
    "        \"REL_OP\": \">\",\n",
    "        \"RIGHT_ATTRS\": {\"DEP\": \"nummod\"}\n",
    "    },\n",
    "    {\n",
    "        \"LEFT_ID\": \"num\",\n",
    "        \"RIGHT_ID\": \"num2\",\n",
    "        \"REL_OP\": \">\",\n",
    "        \"RIGHT_ATTRS\": {\"DEP\": {\"IN\":[\"compound\", \"quantmod\"]}}, \n",
    "        \"OP\": \"*\"\n",
    "    },\n",
    "    {\n",
    "        \"LEFT_ID\": \"num2\",\n",
    "        \"RIGHT_ID\": \"num3\",\n",
    "        \"REL_OP\": \">\",\n",
    "        \"RIGHT_ATTRS\": {\"DEP\": {\"IN\":[\"compound\", \"quantmod\"]}}, \n",
    "        \"OP\": \"*\"\n",
    "    }\n",
    "],]\n",
    "ruler.add(\"IX_REFERENCE_VALUE\", patterns)"
   ]
  },
  {
   "cell_type": "code",
   "execution_count": null,
   "metadata": {},
   "outputs": [],
   "source": [
    "ruler(doc)"
   ]
  },
  {
   "cell_type": "code",
   "execution_count": null,
   "metadata": {},
   "outputs": [],
   "source": [
    "doc = nlp('Over 4 million people die prematurely from illness attributable to the household air pollution from cooking with solid fuels.')\n",
    "for _, tok_inds in ruler(doc):\n",
    "    print(doc[min(tok_inds) : max(tok_inds) + 1])"
   ]
  }
 ],
 "metadata": {
  "interpreter": {
   "hash": "24f4e86cc3e4fbfbc97d206e4988c09e8cd92be38b351f7e67f50431c8fd2cd8"
  },
  "kernelspec": {
   "display_name": "Python 3.9.2 64-bit ('smart-evidence-0MftrBAc-py3.9': poetry)",
   "name": "python3"
  },
  "language_info": {
   "codemirror_mode": {
    "name": "ipython",
    "version": 3
   },
   "file_extension": ".py",
   "mimetype": "text/x-python",
   "name": "python",
   "nbconvert_exporter": "python",
   "pygments_lexer": "ipython3",
   "version": "3.9.2"
  }
 },
 "nbformat": 4,
 "nbformat_minor": 5
}
