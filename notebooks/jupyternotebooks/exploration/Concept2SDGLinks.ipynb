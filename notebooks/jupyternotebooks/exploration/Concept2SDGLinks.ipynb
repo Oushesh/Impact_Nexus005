{
 "cells": [
  {
   "cell_type": "code",
   "execution_count": null,
   "metadata": {},
   "outputs": [],
   "source": [
    "import rdflib"
   ]
  },
  {
   "cell_type": "code",
   "execution_count": null,
   "metadata": {},
   "outputs": [],
   "source": [
    "g = rdflib.Graph()"
   ]
  },
  {
   "cell_type": "code",
   "execution_count": null,
   "metadata": {},
   "outputs": [],
   "source": [
    "result = g.parse('../../assets/sdg-kos-subject-mappings.ttl')"
   ]
  },
  {
   "cell_type": "code",
   "execution_count": null,
   "metadata": {},
   "outputs": [],
   "source": [
    "for s in g: \n",
    "  print(list(s))"
   ]
  },
  {
   "cell_type": "code",
   "execution_count": null,
   "metadata": {},
   "outputs": [],
   "source": [
    "sdg_to_concept = {}\n",
    "for stmt in g:\n",
    "  sdg_to_concept[str(stmt[2])] = sdg_to_concept.get(str(stmt[2]), []) + [str(i) for i in stmt][:1]"
   ]
  },
  {
   "cell_type": "code",
   "execution_count": null,
   "metadata": {},
   "outputs": [],
   "source": [
    "len(sdg_to_concept)"
   ]
  },
  {
   "cell_type": "code",
   "execution_count": null,
   "id": "ee3b0957",
   "metadata": {},
   "outputs": [],
   "source": []
  }
 ],
 "metadata": {
  "interpreter": {
   "hash": "72e5c414fa685c04be857c4b405d4059aa1da4000f4059e821b345d549630a65"
  },
  "kernelspec": {
   "display_name": "Python 3.9.2 64-bit ('text-data-hXNSdjxg-py3.9': poetry)",
   "name": "python3"
  },
  "language_info": {
   "codemirror_mode": {
    "name": "ipython",
    "version": 3
   },
   "file_extension": ".py",
   "mimetype": "text/x-python",
   "name": "python",
   "nbconvert_exporter": "python",
   "pygments_lexer": "ipython3",
   "version": "3.9.9"
  }
 },
 "nbformat": 4,
 "nbformat_minor": 5
}
