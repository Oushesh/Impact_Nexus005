{
 "cells": [
  {
   "cell_type": "code",
   "execution_count": 1,
   "source": [
    "import srsly\n",
    "import os\n",
    "os.chdir('..')"
   ],
   "outputs": [],
   "metadata": {}
  },
  {
   "cell_type": "code",
   "execution_count": 2,
   "source": [
    "def lines_to_text(lines, title_field, text_field):\n",
    "    for line in lines:\n",
    "        result = ''\n",
    "        title = line[title_field].strip()\n",
    "        if title:\n",
    "            result += title\n",
    "            if title[-1] != '.':\n",
    "                result += '. '\n",
    "            else: \n",
    "                result += \" \"\n",
    "        try:\n",
    "            result += line[text_field].strip()\n",
    "        except:\n",
    "            print(line)\n",
    "            breakpoint()\n",
    "        yield result\n"
   ],
   "outputs": [],
   "metadata": {}
  },
  {
   "cell_type": "code",
   "execution_count": 21,
   "source": [
    "metrics = lines_to_text(srsly.read_jsonl('data/metrics.jsonl'), \"title\", \"text\")"
   ],
   "outputs": [],
   "metadata": {}
  },
  {
   "cell_type": "code",
   "execution_count": 22,
   "source": [
    "envo = lines_to_text(srsly.read_jsonl('data/envo.jsonl'), \"title\", \"text\")"
   ],
   "outputs": [],
   "metadata": {}
  },
  {
   "cell_type": "code",
   "execution_count": 23,
   "source": [
    "eu_projects = (item['text'] for item in srsly.read_jsonl('data/eu_projects.jsonl'))"
   ],
   "outputs": [],
   "metadata": {}
  },
  {
   "cell_type": "code",
   "execution_count": 24,
   "source": [
    "from itertools import chain\n",
    "lines = chain(metrics, envo, eu_projects)"
   ],
   "outputs": [],
   "metadata": {}
  },
  {
   "cell_type": "code",
   "execution_count": 25,
   "source": [
    "corpus = [line for line in lines]"
   ],
   "outputs": [],
   "metadata": {}
  },
  {
   "cell_type": "code",
   "execution_count": 26,
   "source": [
    "len(corpus)"
   ],
   "outputs": [
    {
     "output_type": "execute_result",
     "data": {
      "text/plain": [
       "56899"
      ]
     },
     "metadata": {},
     "execution_count": 26
    }
   ],
   "metadata": {}
  },
  {
   "cell_type": "code",
   "execution_count": 30,
   "source": [
    "from tqdm.autonotebook import tqdm\n",
    "chunk_corpus = [line for line in tqdm(get_nounchunks(corpus, \"en_core_web_sm\"))]"
   ],
   "outputs": [
    {
     "output_type": "stream",
     "name": "stderr",
     "text": [
      "56899it [15:35, 60.80it/s]\n",
      "0it [17:29, ?it/s]\n"
     ]
    }
   ],
   "metadata": {}
  },
  {
   "cell_type": "code",
   "execution_count": 31,
   "source": [
    "chunk_corpus[0]"
   ],
   "outputs": [
    {
     "output_type": "execute_result",
     "data": {
      "text/plain": [
       "['ratio',\n",
       " 'basic salary',\n",
       " 'remuneration',\n",
       " 'women',\n",
       " 'men',\n",
       " 'employee category',\n",
       " 'significant locations',\n",
       " 'operations']"
      ]
     },
     "metadata": {},
     "execution_count": 31
    }
   ],
   "metadata": {}
  },
  {
   "cell_type": "code",
   "execution_count": null,
   "source": [
    "from sklearn.feature_extraction.text import TfidfVectorizer\n",
    "from scripts.nounchunker import get_nounchunks\n",
    "import spacy\n",
    "import re\n",
    "\n",
    "stop_words = spacy.load('en_core_web_sm').Defaults.stop_words\n",
    "\n",
    "vectorizer = TfidfVectorizer(\n",
    "    min_df=50,\n",
    "    max_df=0.1,\n",
    "    # preprocessor=lambda x: x.lower(),\n",
    "    stop_words=\"english\",\n",
    "    token_pattern=r\"(?u)\\b[A-Za-z-]{2,}\\b\",\n",
    "    sublinear_tf=True,\n",
    "    smooth_idf=True,\n",
    "    analyzer=lambda x: [\n",
    "        re.sub(r'\\s+', ' ', w)\n",
    "        for w in x\n",
    "        if len(w) > 2 and w.lower() not in stop_words and not re.match(r\".*[^-a-zA-Z\\s]+\", w)\n",
    "    ],\n",
    ")\n",
    "\n",
    "X = vectorizer.fit_transform(\n",
    "    chunk_corpus\n",
    "    # get_nouncbhunks(lines)\n",
    ")\n",
    "print(len(vectorizer.get_feature_names()))\n",
    "print(vectorizer.get_feature_names())\n"
   ],
   "outputs": [],
   "metadata": {}
  },
  {
   "cell_type": "code",
   "execution_count": 45,
   "source": [
    "with open('data/extracted_concepts.txt', 'w') as f:\n",
    "    for feature in vectorizer.get_feature_names():\n",
    "        f.writelines(feature + \"\\n\")"
   ],
   "outputs": [],
   "metadata": {}
  },
  {
   "cell_type": "code",
   "execution_count": 68,
   "source": [
    "import pandas as pd\n",
    "envo_concepts = pd.read_csv('data/envo_concepts.txt', header=None)\n",
    "linkedsdg_concepts = pd.read_csv('data/linkedsdg_concepts.txt', header=None)\n",
    "extracted_concepts = pd.read_csv('data/extracted_concepts.txt', header=None)"
   ],
   "outputs": [],
   "metadata": {}
  },
  {
   "cell_type": "code",
   "execution_count": 69,
   "source": [
    "df = pd.concat([envo_concepts, linkedsdg_concepts, extracted_concepts])"
   ],
   "outputs": [],
   "metadata": {}
  },
  {
   "cell_type": "code",
   "execution_count": 70,
   "source": [
    "print('Number of duplicates')\n",
    "len(df) - len(df.drop_duplicates())"
   ],
   "outputs": [
    {
     "output_type": "stream",
     "name": "stdout",
     "text": [
      "Number of duplicates\n"
     ]
    },
    {
     "output_type": "execute_result",
     "data": {
      "text/plain": [
       "1032"
      ]
     },
     "metadata": {},
     "execution_count": 70
    }
   ],
   "metadata": {}
  },
  {
   "cell_type": "code",
   "execution_count": 71,
   "source": [
    "df.to_csv('data/concepts.txt', index=False, header=False)"
   ],
   "outputs": [],
   "metadata": {}
  },
  {
   "cell_type": "code",
   "execution_count": 72,
   "source": [
    "df = df.rename({0: \"concept\"}, axis=1)"
   ],
   "outputs": [],
   "metadata": {}
  },
  {
   "cell_type": "code",
   "execution_count": 73,
   "source": [
    "df = df.fillna('')"
   ],
   "outputs": [],
   "metadata": {}
  },
  {
   "cell_type": "code",
   "execution_count": 75,
   "source": [
    "nlp = spacy.blank(\"en\")\n",
    "\n",
    "srsly.write_jsonl(\n",
    "    \"data/concepts.jsonl\",\n",
    "    (\n",
    "        {\"label\": \"CONCEPT\", \"pattern\": [{\"LOWER\": tok.lower_} for tok in concept]}\n",
    "        for concept in nlp.tokenizer.pipe(df.concept.str.lower()) if len(concept) > 0\n",
    "    ),\n",
    ")\n"
   ],
   "outputs": [],
   "metadata": {}
  },
  {
   "cell_type": "code",
   "execution_count": null,
   "source": [],
   "outputs": [],
   "metadata": {}
  }
 ],
 "metadata": {
  "orig_nbformat": 4,
  "language_info": {
   "name": "python",
   "version": "3.9.2",
   "mimetype": "text/x-python",
   "codemirror_mode": {
    "name": "ipython",
    "version": 3
   },
   "pygments_lexer": "ipython3",
   "nbconvert_exporter": "python",
   "file_extension": ".py"
  },
  "kernelspec": {
   "name": "python3",
   "display_name": "Python 3.9.2 64-bit ('text-data-hXNSdjxg-py3.9': poetry)"
  },
  "interpreter": {
   "hash": "72e5c414fa685c04be857c4b405d4059aa1da4000f4059e821b345d549630a65"
  }
 },
 "nbformat": 4,
 "nbformat_minor": 2
}