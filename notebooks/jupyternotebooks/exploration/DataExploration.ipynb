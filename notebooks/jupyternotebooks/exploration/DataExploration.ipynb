{
 "cells": [
  {
   "cell_type": "code",
   "execution_count": null,
   "metadata": {},
   "outputs": [],
   "source": [
    "import srsly"
   ]
  },
  {
   "cell_type": "code",
   "execution_count": null,
   "metadata": {},
   "outputs": [],
   "source": [
    "import os\n",
    "os.chdir('..')"
   ]
  },
  {
   "cell_type": "code",
   "execution_count": null,
   "metadata": {},
   "outputs": [],
   "source": [
    "from scripts import labeling_rules"
   ]
  },
  {
   "cell_type": "code",
   "execution_count": null,
   "metadata": {},
   "outputs": [],
   "source": [
    "import spacy\n",
    "\n",
    "nlp = spacy.load('en_core_web_trf')"
   ]
  },
  {
   "cell_type": "code",
   "execution_count": null,
   "metadata": {},
   "outputs": [],
   "source": [
    "nlp.add_pipe(\"labeling_ruler\")\n",
    "nlp.add_pipe(\"labeling_extend_ruler\")\n",
    "nlp.add_pipe(\"expand_entities\")"
   ]
  },
  {
   "cell_type": "code",
   "execution_count": null,
   "metadata": {},
   "outputs": [],
   "source": [
    "items = srsly.read_jsonl('corpus/paragraphs_train.jsonl')\n",
    "pars = []"
   ]
  },
  {
   "cell_type": "code",
   "execution_count": null,
   "metadata": {},
   "outputs": [],
   "source": [
    "import pandas as pd\n",
    "import numpy as np\n",
    "df = pd.DataFrame(items)"
   ]
  },
  {
   "cell_type": "code",
   "execution_count": null,
   "metadata": {},
   "outputs": [],
   "source": [
    "doc = nlp('The Taxonomy Regulation was published in the Official Journal of the European Union on 22 June 2020 and entered into force on 12 July 2020. It establishes the framework for the EU taxonomy by setting out four overarching conditions that an economic activity has to meet in order to qualify as environmentally sustainable. The Taxonomy Regulation establishes six environmental objectives Climate change mitigation Climate change adaptation The sustainable use and protection of water and marine resources The transition to a circular economy Pollution prevention and control The protection and restoration of biodiversity and ecosystems Different means can be required for an activity to make a substantial contribution to each objective. ')"
   ]
  },
  {
   "cell_type": "code",
   "execution_count": null,
   "metadata": {},
   "outputs": [],
   "source": [
    "print([(ent.label_, ent) for ent in doc.ents])"
   ]
  },
  {
   "cell_type": "code",
   "execution_count": null,
   "metadata": {},
   "outputs": [],
   "source": [
    "from IPython.display import HTML\n"
   ]
  },
  {
   "cell_type": "code",
   "execution_count": null,
   "metadata": {},
   "outputs": [],
   "source": [
    "query = 'trillion sdg'\n",
    "filtered_df = df[np.logical_and(*[df.text.str.lower().str.contains(word) for word in query.split(' ')])]\n",
    "HTML(filtered_df.to_html())"
   ]
  },
  {
   "cell_type": "code",
   "execution_count": null,
   "metadata": {},
   "outputs": [],
   "source": [
    "for i, par in enumerate(nlp.pipe((item['text'] for item in items))):\n",
    "    if any((ent.label_ == 'IX_REFERENCE_VALUE' for ent in par.ents)):\n",
    "        pars.append(par.text)"
   ]
  },
  {
   "cell_type": "code",
   "execution_count": null,
   "metadata": {},
   "outputs": [],
   "source": [
    "len(pars) / (i + 1)"
   ]
  },
  {
   "cell_type": "code",
   "execution_count": null,
   "metadata": {},
   "outputs": [],
   "source": [
    "from spacy.pipeline import EntityRuler\n",
    "from spacy.language import Language\n",
    "\n",
    "@Language.factory(\"ruler\")\n",
    "def make_optional_pattern_component(nlp: Language, name: str):\n",
    "    ruler = EntityRuler(nlp, overwrite_ents=True)\n",
    "    ruler.add_patterns([{\n",
    "            \"label\": \"IX_REFERENCE_VALUE\",\n",
    "            \"pattern\": [\n",
    "                {\"POS\": \"ADV\"},\n",
    "                {\"POS\": \"ADJ\"},\n",
    "            ],\n",
    "        },])\n",
    "    return ruler"
   ]
  },
  {
   "cell_type": "code",
   "execution_count": null,
   "metadata": {},
   "outputs": [],
   "source": [
    "nlp.disable_pipe('ner')"
   ]
  },
  {
   "cell_type": "code",
   "execution_count": null,
   "metadata": {},
   "outputs": [],
   "source": [
    "nlp.add_pipe('ruler')"
   ]
  },
  {
   "cell_type": "code",
   "execution_count": null,
   "metadata": {},
   "outputs": [],
   "source": [
    "for i, par in enumerate(nlp.pipe((item['text'] for item in items))):\n",
    "    if any((ent.label_ == 'IX_REFERENCE_VALUE' for ent in par.ents)):\n",
    "        print([ent for ent in par.ents if ent.label_ == 'IX_REFERENCE_VALUE'])\n",
    "        pars.append(par.text)"
   ]
  },
  {
   "cell_type": "code",
   "execution_count": null,
   "metadata": {},
   "outputs": [],
   "source": [
    "items = srsly.read_jsonl('corpus/reference_value_paragraphs_train_v1.jsonl')"
   ]
  },
  {
   "cell_type": "code",
   "execution_count": null,
   "metadata": {},
   "outputs": [],
   "source": [
    "import re\n",
    "\n",
    "\n",
    "def filter_digit_spans(items):\n",
    "    span_count = 0\n",
    "    for item in items:\n",
    "        spans = []\n",
    "        for span in item['spans']:\n",
    "            span_texts = []\n",
    "            for i in range(span['token_start'], span['token_end'] + 1):\n",
    "                span_texts += [item['tokens'][i]['text']]\n",
    "            span_text = ' '.join(span_texts)\n",
    "            if span_text not in ['very small', 'lower', 'significantly lower', 'significantly higher', 'higher', 'approximately up to']:\n",
    "                span_count += 1\n",
    "                spans.append(span)\n",
    "        item['spans'] = spans\n",
    "        if spans:\n",
    "            yield item\n",
    "    print(span_count)"
   ]
  },
  {
   "cell_type": "code",
   "execution_count": null,
   "metadata": {},
   "outputs": [],
   "source": [
    "srsly.write_jsonl('corpus/reference_value_paragraphs_train_v2.jsonl', filter_digit_spans(items))"
   ]
  },
  {
   "cell_type": "code",
   "execution_count": null,
   "metadata": {},
   "outputs": [],
   "source": []
  }
 ],
 "metadata": {
  "interpreter": {
   "hash": "50ef1f00e07f65fb8c66231f14f6a624080f70ef226807e0f66598eceb63f363"
  },
  "kernelspec": {
   "display_name": "Python 3.9.2 64-bit ('smart-evidence-0MftrBAc-py3.9': poetry)",
   "name": "python3"
  },
  "language_info": {
   "codemirror_mode": {
    "name": "ipython",
    "version": 3
   },
   "file_extension": ".py",
   "mimetype": "text/x-python",
   "name": "python",
   "nbconvert_exporter": "python",
   "pygments_lexer": "ipython3",
   "version": "3.9.2"
  },
  "orig_nbformat": 4
 },
 "nbformat": 4,
 "nbformat_minor": 2
}
