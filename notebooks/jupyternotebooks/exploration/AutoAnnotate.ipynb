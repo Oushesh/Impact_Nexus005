{
 "cells": [
  {
   "cell_type": "code",
   "execution_count": 1,
   "metadata": {},
   "outputs": [
    {
     "ename": "ModuleNotFoundError",
     "evalue": "No module named 'srsly'",
     "output_type": "error",
     "traceback": [
      "\u001b[0;31m---------------------------------------------------------------------------\u001b[0m",
      "\u001b[0;31mModuleNotFoundError\u001b[0m                       Traceback (most recent call last)",
      "Cell \u001b[0;32mIn[1], line 1\u001b[0m\n\u001b[0;32m----> 1\u001b[0m \u001b[38;5;28;01mimport\u001b[39;00m \u001b[38;5;21;01msrsly\u001b[39;00m\n\u001b[1;32m      2\u001b[0m \u001b[38;5;28;01mimport\u001b[39;00m \u001b[38;5;21;01mos\u001b[39;00m\n\u001b[1;32m      3\u001b[0m os\u001b[38;5;241m.\u001b[39mchdir(\u001b[38;5;124m'\u001b[39m\u001b[38;5;124m..\u001b[39m\u001b[38;5;124m'\u001b[39m)\n",
      "\u001b[0;31mModuleNotFoundError\u001b[0m: No module named 'srsly'"
     ]
    }
   ],
   "source": [
    "import srsly\n",
    "import os\n",
    "os.chdir('..')"
   ]
  },
  {
   "cell_type": "code",
   "execution_count": 2,
   "metadata": {},
   "outputs": [
    {
     "ename": "ModuleNotFoundError",
     "evalue": "No module named 'spacy'",
     "output_type": "error",
     "traceback": [
      "\u001b[0;31m---------------------------------------------------------------------------\u001b[0m",
      "\u001b[0;31mModuleNotFoundError\u001b[0m                       Traceback (most recent call last)",
      "Cell \u001b[0;32mIn[2], line 1\u001b[0m\n\u001b[0;32m----> 1\u001b[0m \u001b[38;5;28;01mimport\u001b[39;00m \u001b[38;5;21;01mspacy\u001b[39;00m\n\u001b[1;32m      2\u001b[0m nlp \u001b[38;5;241m=\u001b[39m spacy\u001b[38;5;241m.\u001b[39mblank(\u001b[38;5;124m'\u001b[39m\u001b[38;5;124men\u001b[39m\u001b[38;5;124m'\u001b[39m)\n\u001b[1;32m      3\u001b[0m ruler \u001b[38;5;241m=\u001b[39m nlp\u001b[38;5;241m.\u001b[39madd_pipe(\u001b[38;5;124m'\u001b[39m\u001b[38;5;124mentity_ruler\u001b[39m\u001b[38;5;124m'\u001b[39m)\n",
      "\u001b[0;31mModuleNotFoundError\u001b[0m: No module named 'spacy'"
     ]
    }
   ],
   "source": [
    "import spacy\n",
    "nlp = spacy.blank('en')\n",
    "ruler = nlp.add_pipe('entity_ruler')\n",
    "ruler.from_disk('assets/patterns.jsonl')"
   ]
  },
  {
   "cell_type": "code",
   "execution_count": 3,
   "metadata": {},
   "outputs": [],
   "source": [
    "from collections import Counter\n",
    "from tqdm.notebook import tqdm\n",
    "from pathlib import Path\n",
    "from typing import List, Dict\n",
    "import pandas as pd\n",
    "\n",
    "\n",
    "def load_data(input_path: Path) -> List[Dict]:\n",
    "    data = []\n",
    "    items = srsly.read_jsonl(input_path)\n",
    "    text_items = ((item[\"text\"], item) for item in items)\n",
    "    for doc, item in tqdm(nlp.pipe(text_items, as_tuples=True)):\n",
    "        example = {}\n",
    "        example[\"text\"] = item[\"text\"]\n",
    "        example[\"y\"] = item[\"label\"]\n",
    "        example.update(Counter([ent.label_ for ent in doc.ents]))\n",
    "        data.append(example)\n",
    "\n",
    "    df = pd.DataFrame(data)\n",
    "\n",
    "    df[\"N_ENTS\"] = df[[\"WIKI\", \"ENVO\", \"LINKEDSDG\", \"INDUSTRY\", \"SUBSTANCE\"]].sum(\n",
    "        axis=1\n",
    "    )\n",
    "    df[\"LEN\"] = df.text.str.len()\n",
    "    df[\"ENT/CHAR\"] = df[\"N_ENTS\"] / df[\"LEN\"]\n",
    "\n",
    "    return df\n"
   ]
  },
  {
   "cell_type": "code",
   "execution_count": 4,
   "metadata": {},
   "outputs": [
    {
     "data": {
      "application/vnd.jupyter.widget-view+json": {
       "model_id": "b4030653929f4bfcbb1698636c0cc354",
       "version_major": 2,
       "version_minor": 0
      },
      "text/plain": [
       "0it [00:00, ?it/s]"
      ]
     },
     "metadata": {},
     "output_type": "display_data"
    },
    {
     "data": {
      "text/html": [
       "<div>\n",
       "<style scoped>\n",
       "    .dataframe tbody tr th:only-of-type {\n",
       "        vertical-align: middle;\n",
       "    }\n",
       "\n",
       "    .dataframe tbody tr th {\n",
       "        vertical-align: top;\n",
       "    }\n",
       "\n",
       "    .dataframe thead th {\n",
       "        text-align: right;\n",
       "    }\n",
       "</style>\n",
       "<table border=\"1\" class=\"dataframe\">\n",
       "  <thead>\n",
       "    <tr style=\"text-align: right;\">\n",
       "      <th></th>\n",
       "      <th>text</th>\n",
       "      <th>y</th>\n",
       "      <th>WIKI</th>\n",
       "      <th>LINKEDSDG</th>\n",
       "      <th>ENVO</th>\n",
       "      <th>INDUSTRY</th>\n",
       "      <th>SUBSTANCE</th>\n",
       "      <th>N_ENTS</th>\n",
       "      <th>LEN</th>\n",
       "      <th>ENT/CHAR</th>\n",
       "    </tr>\n",
       "  </thead>\n",
       "  <tbody>\n",
       "    <tr>\n",
       "      <th>4288</th>\n",
       "      <td>PoliticsThe Biden PresidencyFacts FirstBusines...</td>\n",
       "      <td>None</td>\n",
       "      <td>3.0</td>\n",
       "      <td>NaN</td>\n",
       "      <td>NaN</td>\n",
       "      <td>NaN</td>\n",
       "      <td>NaN</td>\n",
       "      <td>3.0</td>\n",
       "      <td>774</td>\n",
       "      <td>0.003876</td>\n",
       "    </tr>\n",
       "    <tr>\n",
       "      <th>5821</th>\n",
       "      <td>Find Us on FacebookWohltätige Spenden„Spenden“...</td>\n",
       "      <td>None</td>\n",
       "      <td>5.0</td>\n",
       "      <td>NaN</td>\n",
       "      <td>NaN</td>\n",
       "      <td>NaN</td>\n",
       "      <td>NaN</td>\n",
       "      <td>5.0</td>\n",
       "      <td>928</td>\n",
       "      <td>0.005388</td>\n",
       "    </tr>\n",
       "    <tr>\n",
       "      <th>451</th>\n",
       "      <td>CatalogMenuThis page in:EnglishEspañolFrançais...</td>\n",
       "      <td>None</td>\n",
       "      <td>NaN</td>\n",
       "      <td>2.0</td>\n",
       "      <td>NaN</td>\n",
       "      <td>NaN</td>\n",
       "      <td>NaN</td>\n",
       "      <td>2.0</td>\n",
       "      <td>298</td>\n",
       "      <td>0.006711</td>\n",
       "    </tr>\n",
       "    <tr>\n",
       "      <th>5146</th>\n",
       "      <td>Lecker dank Frost Wunderlauch Haselnüsse samme...</td>\n",
       "      <td>None</td>\n",
       "      <td>1.0</td>\n",
       "      <td>NaN</td>\n",
       "      <td>1.0</td>\n",
       "      <td>NaN</td>\n",
       "      <td>NaN</td>\n",
       "      <td>2.0</td>\n",
       "      <td>237</td>\n",
       "      <td>0.008439</td>\n",
       "    </tr>\n",
       "    <tr>\n",
       "      <th>5380</th>\n",
       "      <td>BBC HomepageSkip to contentAccessibility HelpY...</td>\n",
       "      <td>None</td>\n",
       "      <td>3.0</td>\n",
       "      <td>NaN</td>\n",
       "      <td>NaN</td>\n",
       "      <td>NaN</td>\n",
       "      <td>1.0</td>\n",
       "      <td>4.0</td>\n",
       "      <td>458</td>\n",
       "      <td>0.008734</td>\n",
       "    </tr>\n",
       "    <tr>\n",
       "      <th>...</th>\n",
       "      <td>...</td>\n",
       "      <td>...</td>\n",
       "      <td>...</td>\n",
       "      <td>...</td>\n",
       "      <td>...</td>\n",
       "      <td>...</td>\n",
       "      <td>...</td>\n",
       "      <td>...</td>\n",
       "      <td>...</td>\n",
       "      <td>...</td>\n",
       "    </tr>\n",
       "    <tr>\n",
       "      <th>729</th>\n",
       "      <td>Hosting a Blood Drive</td>\n",
       "      <td>None</td>\n",
       "      <td>2.0</td>\n",
       "      <td>NaN</td>\n",
       "      <td>1.0</td>\n",
       "      <td>NaN</td>\n",
       "      <td>NaN</td>\n",
       "      <td>3.0</td>\n",
       "      <td>21</td>\n",
       "      <td>0.142857</td>\n",
       "    </tr>\n",
       "    <tr>\n",
       "      <th>3827</th>\n",
       "      <td>Leave a Reply</td>\n",
       "      <td>None</td>\n",
       "      <td>2.0</td>\n",
       "      <td>NaN</td>\n",
       "      <td>NaN</td>\n",
       "      <td>NaN</td>\n",
       "      <td>NaN</td>\n",
       "      <td>2.0</td>\n",
       "      <td>13</td>\n",
       "      <td>0.153846</td>\n",
       "    </tr>\n",
       "    <tr>\n",
       "      <th>2590</th>\n",
       "      <td>A decade of rising poverty</td>\n",
       "      <td>None</td>\n",
       "      <td>3.0</td>\n",
       "      <td>1.0</td>\n",
       "      <td>NaN</td>\n",
       "      <td>NaN</td>\n",
       "      <td>NaN</td>\n",
       "      <td>4.0</td>\n",
       "      <td>26</td>\n",
       "      <td>0.153846</td>\n",
       "    </tr>\n",
       "    <tr>\n",
       "      <th>732</th>\n",
       "      <td>Hosting a Blood Drive FAQ</td>\n",
       "      <td>None</td>\n",
       "      <td>3.0</td>\n",
       "      <td>NaN</td>\n",
       "      <td>1.0</td>\n",
       "      <td>NaN</td>\n",
       "      <td>NaN</td>\n",
       "      <td>4.0</td>\n",
       "      <td>25</td>\n",
       "      <td>0.160000</td>\n",
       "    </tr>\n",
       "    <tr>\n",
       "      <th>4392</th>\n",
       "      <td>Share Tweet Email</td>\n",
       "      <td>None</td>\n",
       "      <td>2.0</td>\n",
       "      <td>1.0</td>\n",
       "      <td>NaN</td>\n",
       "      <td>NaN</td>\n",
       "      <td>NaN</td>\n",
       "      <td>3.0</td>\n",
       "      <td>17</td>\n",
       "      <td>0.176471</td>\n",
       "    </tr>\n",
       "  </tbody>\n",
       "</table>\n",
       "<p>5939 rows × 10 columns</p>\n",
       "</div>"
      ],
      "text/plain": [
       "                                                   text     y  WIKI  \\\n",
       "4288  PoliticsThe Biden PresidencyFacts FirstBusines...  None   3.0   \n",
       "5821  Find Us on FacebookWohltätige Spenden„Spenden“...  None   5.0   \n",
       "451   CatalogMenuThis page in:EnglishEspañolFrançais...  None   NaN   \n",
       "5146  Lecker dank Frost Wunderlauch Haselnüsse samme...  None   1.0   \n",
       "5380  BBC HomepageSkip to contentAccessibility HelpY...  None   3.0   \n",
       "...                                                 ...   ...   ...   \n",
       "729                               Hosting a Blood Drive  None   2.0   \n",
       "3827                                      Leave a Reply  None   2.0   \n",
       "2590                         A decade of rising poverty  None   3.0   \n",
       "732                           Hosting a Blood Drive FAQ  None   3.0   \n",
       "4392                                  Share Tweet Email  None   2.0   \n",
       "\n",
       "      LINKEDSDG  ENVO  INDUSTRY  SUBSTANCE  N_ENTS  LEN  ENT/CHAR  \n",
       "4288        NaN   NaN       NaN        NaN     3.0  774  0.003876  \n",
       "5821        NaN   NaN       NaN        NaN     5.0  928  0.005388  \n",
       "451         2.0   NaN       NaN        NaN     2.0  298  0.006711  \n",
       "5146        NaN   1.0       NaN        NaN     2.0  237  0.008439  \n",
       "5380        NaN   NaN       NaN        1.0     4.0  458  0.008734  \n",
       "...         ...   ...       ...        ...     ...  ...       ...  \n",
       "729         NaN   1.0       NaN        NaN     3.0   21  0.142857  \n",
       "3827        NaN   NaN       NaN        NaN     2.0   13  0.153846  \n",
       "2590        1.0   NaN       NaN        NaN     4.0   26  0.153846  \n",
       "732         NaN   1.0       NaN        NaN     4.0   25  0.160000  \n",
       "4392        1.0   NaN       NaN        NaN     3.0   17  0.176471  \n",
       "\n",
       "[5939 rows x 10 columns]"
      ]
     },
     "execution_count": 4,
     "metadata": {},
     "output_type": "execute_result"
    }
   ],
   "source": [
    "df = load_data('corpus/sentences_train.jsonl')\n",
    "df.sort_values('ENT/CHAR')"
   ]
  },
  {
   "cell_type": "code",
   "execution_count": 5,
   "metadata": {},
   "outputs": [
    {
     "data": {
      "application/vnd.jupyter.widget-view+json": {
       "model_id": "0a6f42f38132492bb6e9dfe333355cdc",
       "version_major": 2,
       "version_minor": 0
      },
      "text/plain": [
       "0it [00:00, ?it/s]"
      ]
     },
     "metadata": {},
     "output_type": "display_data"
    }
   ],
   "source": [
    "df_dev = load_data('corpus/sentences_dev.jsonl')"
   ]
  },
  {
   "cell_type": "code",
   "execution_count": 6,
   "metadata": {},
   "outputs": [],
   "source": [
    "from sklearn.preprocessing import StandardScaler\n",
    "from sklearn.svm import SVC\n",
    "from sklearn.pipeline import make_pipeline"
   ]
  },
  {
   "cell_type": "code",
   "execution_count": 7,
   "metadata": {},
   "outputs": [
    {
     "data": {
      "text/plain": [
       "Pipeline(steps=[('standardscaler', StandardScaler()),\n",
       "                ('svc',\n",
       "                 SVC(class_weight={0: 0.5313115047414564, 1: 8.484285714285715},\n",
       "                     gamma='auto'))])"
      ]
     },
     "execution_count": 7,
     "metadata": {},
     "output_type": "execute_result"
    }
   ],
   "source": [
    "def build_input(df):\n",
    "    X = df[['WIKI', 'ENVO', 'LINKEDSDG', 'INDUSTRY', 'SUBSTANCE', 'N_ENTS', 'ENT/CHAR', 'LEN']].fillna(0)\n",
    "    y = (df.y == 'INTERESTING').astype(int)\n",
    "    return X, y\n",
    "\n",
    "import numpy as np\n",
    "X, y = build_input(df)\n",
    "class_weights = dict(zip([0, 1], len(y) / (2 * np.bincount(y))))\n",
    "clf = make_pipeline(StandardScaler(), SVC(gamma='auto', class_weight=class_weights))\n",
    "clf.fit(X, y)"
   ]
  },
  {
   "cell_type": "code",
   "execution_count": 8,
   "metadata": {},
   "outputs": [
    {
     "data": {
      "text/plain": [
       "(array([0.43658434, 0.66442953]),\n",
       " array([0.95425435, 0.06851211]),\n",
       " array([0.59908099, 0.12421581]),\n",
       " array([1093, 1445]))"
      ]
     },
     "execution_count": 8,
     "metadata": {},
     "output_type": "execute_result"
    }
   ],
   "source": [
    "from sklearn.metrics import precision_recall_fscore_support\n",
    "X_dev, y_dev = build_input(df_dev)\n",
    "precision_recall_fscore_support(clf.predict(X_dev), y_dev)"
   ]
  },
  {
   "cell_type": "code",
   "execution_count": null,
   "metadata": {},
   "outputs": [],
   "source": []
  }
 ],
 "metadata": {
  "interpreter": {
   "hash": "24f4e86cc3e4fbfbc97d206e4988c09e8cd92be38b351f7e67f50431c8fd2cd8"
  },
  "kernelspec": {
   "display_name": "Python 3 (ipykernel)",
   "language": "python",
   "name": "python3"
  },
  "language_info": {
   "codemirror_mode": {
    "name": "ipython",
    "version": 3
   },
   "file_extension": ".py",
   "mimetype": "text/x-python",
   "name": "python",
   "nbconvert_exporter": "python",
   "pygments_lexer": "ipython3",
   "version": "3.9.6"
  }
 },
 "nbformat": 4,
 "nbformat_minor": 4
}
