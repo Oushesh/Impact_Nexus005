{
 "cells": [
  {
   "cell_type": "code",
   "execution_count": 2,
   "metadata": {},
   "outputs": [],
   "source": [
    "import os\n",
    "os.chdir('../..')"
   ]
  },
  {
   "cell_type": "code",
   "execution_count": 3,
   "metadata": {},
   "outputs": [
    {
     "name": "stderr",
     "output_type": "stream",
     "text": [
      "100%|██████████| 231508/231508 [00:00<00:00, 699958.21B/s]\n",
      "100%|██████████| 434/434 [00:00<00:00, 219079.06B/s]\n",
      "100%|██████████| 1344997306/1344997306 [03:35<00:00, 6254166.30B/s]\n"
     ]
    }
   ],
   "source": [
    "import blink.main_dense as main_dense\n",
    "import argparse\n",
    "\n",
    "models_path = \"models/\"  # the path where you stored the BLINK models\n",
    "\n",
    "config = {\n",
    "    \"test_entities\": None,\n",
    "    \"test_mentions\": None,\n",
    "    \"interactive\": False,\n",
    "    \"top_k\": 10,\n",
    "    \"biencoder_model\": models_path + \"biencoder_wiki_large.bin\",\n",
    "    \"biencoder_config\": models_path + \"biencoder_wiki_large.json\",\n",
    "    \"entity_catalogue\": models_path + \"entity.jsonl\",\n",
    "    \"entity_encoding\": models_path + \"all_entities_large.t7\",\n",
    "    \"crossencoder_model\": models_path + \"crossencoder_wiki_large.bin\",\n",
    "    \"crossencoder_config\": models_path + \"crossencoder_wiki_large.json\",\n",
    "    \"fast\": False,  # set this to be true if speed is a concern\n",
    "    \"output_path\": \"logs/\",  # logging directory\n",
    "}\n",
    "\n",
    "args = argparse.Namespace(**config)\n",
    "\n",
    "models = main_dense.load_models(args, logger=None)\n",
    "\n",
    "data_to_link = [\n",
    "    {\n",
    "        \"id\": 0,\n",
    "        \"label\": \"unknown\",\n",
    "        \"label_id\": -1,\n",
    "        \"context_left\": \"\".lower(),\n",
    "        \"mention\": \"Photovoltaic (PV)\".lower(),\n",
    "        \"context_right\": \" systems are a safe and reliable source of solar electricity that produces no onsite pollution or emissions. They incur few operating costs and can be installed on any kind of building.\".lower(),\n",
    "    },\n",
    "    {\n",
    "        \"id\": 1,\n",
    "        \"label\": \"unknown\",\n",
    "        \"label_id\": -1,\n",
    "        \"context_left\": \"Photovoltaic (PV) systems are a safe and reliable source of solar electricity that produces no \".lower(),\n",
    "        \"mention\": \"onsite pollution or emissions\".lower(),\n",
    "        \"context_right\": \". They incur few operating costs and can be installed on any kind of building.\".lower(),\n",
    "    },\n",
    "    {\n",
    "        \"id\": 2,\n",
    "        \"label\": \"unknown\",\n",
    "        \"label_id\": -1,\n",
    "        \"context_left\": \"Photovoltaic (PV) systems are a safe and reliable source of solar electricity that produces no onsite pollution or emissions. They incur few operating costs and can be installed on any kind of \".lower(),\n",
    "        \"mention\": \"building\".lower(),\n",
    "        \"context_right\": \".\".lower(),\n",
    "    },\n",
    "]\n",
    "\n",
    "(\n",
    "    _,\n",
    "    _,\n",
    "    _,\n",
    "    _,\n",
    "    _,\n",
    "    predictions,\n",
    "    scores,\n",
    ") = main_dense.run(args, None, *models, test_data=data_to_link)"
   ]
  }
 ],
 "metadata": {
  "interpreter": {
   "hash": "3a01f96bacd60138fda158296e46c63e862f79e288a616d9fda278940a44f53f"
  },
  "kernelspec": {
   "display_name": "Python 3.9.9 ('smart-evidence-hIlc30vc-py3.9')",
   "language": "python",
   "name": "python3"
  },
  "language_info": {
   "codemirror_mode": {
    "name": "ipython",
    "version": 3
   },
   "file_extension": ".py",
   "mimetype": "text/x-python",
   "name": "python",
   "nbconvert_exporter": "python",
   "pygments_lexer": "ipython3",
   "version": "3.9.9"
  },
  "orig_nbformat": 4
 },
 "nbformat": 4,
 "nbformat_minor": 2
}
