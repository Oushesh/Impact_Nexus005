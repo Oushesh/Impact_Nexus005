{
  "cells": [
    {
      "cell_type": "code",
      "execution_count": 1,
      "metadata": {},
      "outputs": [],
      "source": [
        "import boto3\n",
        "from elasticsearch import Elasticsearch, RequestsHttpConnection, helpers\n",
        "from requests_aws4auth import AWS4Auth"
      ]
    },
    {
      "cell_type": "code",
      "execution_count": 2,
      "metadata": {},
      "outputs": [
        {
          "name": "stdout",
          "output_type": "stream",
          "text": [
            "/home/oguz/Workspace/smart-evidence\n"
          ]
        }
      ],
      "source": [
        "import os\n",
        "os.chdir('../..')\n",
        "!pwd"
      ]
    },
    {
      "cell_type": "code",
      "execution_count": 3,
      "metadata": {},
      "outputs": [],
      "source": [
        "host = (\n",
        "        \"search-ix-documents-rzvvmiarxdl7rnn47lj6ynnz4i.eu-central-1.es.amazonaws.com\"\n",
        "    )\n",
        "region = \"eu-central-1\"\n",
        "\n",
        "service = \"es\"\n",
        "credentials = boto3.Session().get_credentials()\n",
        "awsauth = AWS4Auth(\n",
        "    credentials.access_key,\n",
        "    credentials.secret_key,\n",
        "    region,\n",
        "    service,\n",
        "    session_token=credentials.token,\n",
        ")\n",
        "\n",
        "es = Elasticsearch(\n",
        "    hosts=[\n",
        "        {\"host\": host, \"port\": 443, \"requestTimeout\": 60000, \"readTimeout\": 60000}\n",
        "    ],\n",
        "    http_auth=awsauth,\n",
        "    readTimeout=60000,\n",
        "    requestTimeout=60000,\n",
        "    use_ssl=True,\n",
        "    verify_certs=True,\n",
        "    connection_class=RequestsHttpConnection,\n",
        ")"
      ]
    },
    {
      "cell_type": "code",
      "execution_count": 4,
      "metadata": {},
      "outputs": [],
      "source": [
        "from scripts.components.keyword_ruler import get_keywords_from_globs"
      ]
    },
    {
      "cell_type": "code",
      "execution_count": 21,
      "metadata": {},
      "outputs": [],
      "source": [
        "KEYWORD_GLOBS = [\n",
        "    \"assets/keywords_clean/Impact/IRIS/**/IMPACT.tsv\",\n",
        "    \"assets/keywords_clean/Products & Activities/**/IMPACT.tsv\",\n",
        "]\n",
        "impact_keywords = get_keywords_from_globs(KEYWORD_GLOBS)\n",
        "impact_keywords = [keyword['keyword'] for keyword in impact_keywords]\n",
        "\n",
        "KEYWORD_GLOBS = [\n",
        "    \"assets/keywords_clean/Products & Activities/CPA/PRODUCT.tsv\",\n",
        "    \"assets/keywords_clean/Products & Activities/CPA/ACTIVITY.tsv\",\n",
        "]\n",
        "product_keywords = get_keywords_from_globs(KEYWORD_GLOBS)\n",
        "product_keywords = [keyword['keyword'] for keyword in product_keywords]\n",
        "\n",
        "KEYWORD_GLOBS = [\n",
        "    \"assets/keywords_clean/**/BANLIST.tsv\",\n",
        "    \"assets/keywords_clean/Products & Activities/**/BANLIST.tsv\",\n",
        "]\n",
        "banlist_keywords = get_keywords_from_globs(KEYWORD_GLOBS)\n",
        "banlist_keywords = [keyword['keyword'] for keyword in banlist_keywords]\n"
      ]
    },
    {
      "cell_type": "code",
      "execution_count": 26,
      "metadata": {},
      "outputs": [],
      "source": [
        "query = {\n",
        "    \"query\": {\n",
        "        \"bool\": {\n",
        "            \"must\": [\n",
        "                {\n",
        "                    \"bool\": {\n",
        "                        \"should\": [\n",
        "                            {\"match_phrase\": {\"sentences\": keyword}}\n",
        "                            for keyword in impact_keywords\n",
        "                        ]\n",
        "                    }\n",
        "                },\n",
        "                {\n",
        "                    \"bool\": {\n",
        "                        \"should\": [\n",
        "                            {\"match_phrase\": {\"sentences\": keyword}}\n",
        "                            for keyword in product_keywords\n",
        "                        ]\n",
        "                    }\n",
        "                },\n",
        "            ],\n",
        "            \"must_not\": [\n",
        "                {\"match_phrase\": {\"sentences\": keyword}} for keyword in banlist_keywords\n",
        "            ],\n",
        "        }\n",
        "    },\n",
        "}"
      ]
    },
    {
      "cell_type": "code",
      "execution_count": 62,
      "metadata": {},
      "outputs": [],
      "source": [
        "query = {\n",
        "    \"query\": {\n",
        "        \"bool\": {\n",
        "            \"should\": [\n",
        "                {\"term\": {\"predictions.sustainability_potential\": \"SOLUTION\"}},\n",
        "                {\"term\": {\"predictions.sustainability_potential\": \"PROBLEM+SOLUTION\"}},\n",
        "                {\"match_phrase\": {\"text\": \"cement\"}},\n",
        "            ],\n",
        "            \"must_not\": [\n",
        "                {\"match_phrase\": {\"sentences\": keyword}} for keyword in banlist_keywords\n",
        "            ],\n",
        "        }\n",
        "    },\n",
        "    \"sort\": [{\"n_keywords\": \"desc\"}]\n",
        "}"
      ]
    },
    {
      "cell_type": "code",
      "execution_count": 63,
      "metadata": {},
      "outputs": [],
      "source": [
        "def opensearch_iterate_all_documents(es, index, query, pagesize=250, scroll_timeout=\"1m\", **kwargs):\n",
        "    \"\"\"\n",
        "    Helper to iterate ALL values from a single index\n",
        "    Yields all the documents.\n",
        "    \"\"\"\n",
        "    is_first = True\n",
        "    while True:\n",
        "        # Scroll next\n",
        "        if is_first: # Initialize scroll\n",
        "            result = es.search(index=index, scroll=\"1m\", **kwargs, body={\n",
        "                **query,\n",
        "                \"size\": pagesize\n",
        "            }, terminate_after=1000)\n",
        "            is_first = False\n",
        "        else:\n",
        "            result = es.scroll(body={\n",
        "                \"scroll_id\": scroll_id,\n",
        "                \"scroll\": scroll_timeout\n",
        "            })\n",
        "\n",
        "        scroll_id = result[\"_scroll_id\"]\n",
        "        hits = result[\"hits\"][\"hits\"]\n",
        "        # Stop after no more docs\n",
        "        if not hits:\n",
        "            break\n",
        "        # Yield each entry\n",
        "        yield from (hit for hit in hits)"
      ]
    },
    {
      "cell_type": "code",
      "execution_count": 72,
      "metadata": {},
      "outputs": [],
      "source": [
        "paragraphs = opensearch_iterate_all_documents(es, 'paragraphs-*', query, scroll_timeout=\"1m\")"
      ]
    },
    {
      "cell_type": "code",
      "execution_count": 73,
      "metadata": {},
      "outputs": [],
      "source": [
        "import numpy as np\n",
        "out_paragraphs = [par['_source'] for par in paragraphs]"
      ]
    },
    {
      "cell_type": "code",
      "execution_count": 74,
      "metadata": {},
      "outputs": [],
      "source": [
        "import srsly\n",
        "from pathlib import Path\n",
        "out_path = Path('results/summary-cluster-research/sorted_cement_paragraphs-22_02_03.jsonl')\n",
        "\n",
        "out_path.parent.mkdir(parents=True, exist_ok=True)\n",
        "srsly.write_jsonl(out_path, out_paragraphs)"
      ]
    },
    {
      "cell_type": "code",
      "execution_count": 75,
      "metadata": {},
      "outputs": [
        {
          "data": {
            "text/plain": [
              "9402"
            ]
          },
          "execution_count": 75,
          "metadata": {},
          "output_type": "execute_result"
        }
      ],
      "source": [
        "len(out_paragraphs)"
      ]
    }
  ],
  "metadata": {
    "interpreter": {
      "hash": "50ef1f00e07f65fb8c66231f14f6a624080f70ef226807e0f66598eceb63f363"
    },
    "kernelspec": {
      "display_name": "Python 3.9.9 64-bit ('smart-evidence-0MftrBAc-py3.9': poetry)",
      "language": "python",
      "name": "python3"
    },
    "language_info": {
      "codemirror_mode": {
        "name": "ipython",
        "version": 3
      },
      "file_extension": ".py",
      "mimetype": "text/x-python",
      "name": "python",
      "nbconvert_exporter": "python",
      "pygments_lexer": "ipython3",
      "version": "3.9.9"
    },
    "orig_nbformat": 4
  },
  "nbformat": 4,
  "nbformat_minor": 2
}
