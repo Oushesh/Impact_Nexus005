{
  "cells": [
    {
      "cell_type": "code",
      "execution_count": 1,
      "metadata": {},
      "outputs": [
        {
          "name": "stdout",
          "output_type": "stream",
          "text": [
            "/home/oguz/Workspace/smart-evidence\n"
          ]
        }
      ],
      "source": [
        "import os\n",
        "os.chdir('../..')\n",
        "!pwd"
      ]
    },
    {
      "cell_type": "code",
      "execution_count": 9,
      "metadata": {},
      "outputs": [],
      "source": [
        "from scripts import opensearch_connection"
      ]
    },
    {
      "cell_type": "code",
      "execution_count": 18,
      "metadata": {},
      "outputs": [],
      "source": [
        "paragraphs = opensearch_connection.opensearch_iterate_all_documents('paragraphs-*')\n",
        "\n",
        "n_tokens = 0\n",
        "n_sentences = 0\n",
        "n_documents = 0\n",
        "for par in paragraphs:\n",
        "    if 'text' not in par['_source']:\n",
        "        continue\n",
        "    n_tokens += par['_source']['n_tokens']\n",
        "    n_sentences += len(par['_source']['sentences'])\n",
        "    n_documents += 1"
      ]
    },
    {
      "cell_type": "code",
      "execution_count": 21,
      "metadata": {},
      "outputs": [
        {
          "data": {
            "text/plain": [
              "68406539"
            ]
          },
          "execution_count": 21,
          "metadata": {},
          "output_type": "execute_result"
        }
      ],
      "source": [
        "n_tokens"
      ]
    },
    {
      "cell_type": "code",
      "execution_count": 19,
      "metadata": {},
      "outputs": [
        {
          "data": {
            "text/plain": [
              "2542517"
            ]
          },
          "execution_count": 19,
          "metadata": {},
          "output_type": "execute_result"
        }
      ],
      "source": [
        "n_sentences"
      ]
    },
    {
      "cell_type": "code",
      "execution_count": 20,
      "metadata": {},
      "outputs": [
        {
          "data": {
            "text/plain": [
              "689045"
            ]
          },
          "execution_count": 20,
          "metadata": {},
          "output_type": "execute_result"
        }
      ],
      "source": [
        "n_documents"
      ]
    }
  ],
  "metadata": {
    "interpreter": {
      "hash": "3a01f96bacd60138fda158296e46c63e862f79e288a616d9fda278940a44f53f"
    },
    "kernelspec": {
      "display_name": "Python 3.9.9 ('smart-evidence-hIlc30vc-py3.9')",
      "language": "python",
      "name": "python3"
    },
    "language_info": {
      "codemirror_mode": {
        "name": "ipython",
        "version": 3
      },
      "file_extension": ".py",
      "mimetype": "text/x-python",
      "name": "python",
      "nbconvert_exporter": "python",
      "pygments_lexer": "ipython3",
      "version": "3.9.9"
    },
    "orig_nbformat": 4
  },
  "nbformat": 4,
  "nbformat_minor": 2
}
