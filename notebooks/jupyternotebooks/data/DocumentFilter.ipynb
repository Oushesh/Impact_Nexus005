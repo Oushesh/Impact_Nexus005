{
 "cells": [
  {
   "cell_type": "code",
   "execution_count": 1,
   "metadata": {},
   "outputs": [],
   "source": [
    "import os\n",
    "os.chdir('../..')"
   ]
  },
  {
   "cell_type": "code",
   "execution_count": 2,
   "metadata": {},
   "outputs": [],
   "source": [
    "from smart_evidence.helpers.data import hash_document"
   ]
  },
  {
   "cell_type": "code",
   "execution_count": 3,
   "metadata": {},
   "outputs": [
    {
     "ename": "ModuleNotFoundError",
     "evalue": "No module named 'srsly'",
     "output_type": "error",
     "traceback": [
      "\u001b[0;31m---------------------------------------------------------------------------\u001b[0m",
      "\u001b[0;31mModuleNotFoundError\u001b[0m                       Traceback (most recent call last)",
      "Cell \u001b[0;32mIn[3], line 1\u001b[0m\n\u001b[0;32m----> 1\u001b[0m \u001b[38;5;28;01mimport\u001b[39;00m \u001b[38;5;21;01msrsly\u001b[39;00m\n\u001b[1;32m      2\u001b[0m \u001b[38;5;28;01mfrom\u001b[39;00m \u001b[38;5;21;01mglob\u001b[39;00m \u001b[38;5;28;01mimport\u001b[39;00m glob\n",
      "\u001b[0;31mModuleNotFoundError\u001b[0m: No module named 'srsly'"
     ]
    }
   ],
   "source": [
    "import srsly\n",
    "from glob import glob"
   ]
  },
  {
   "cell_type": "code",
   "execution_count": null,
   "metadata": {},
   "outputs": [],
   "source": [
    "from haystack.document_stores import OpenSearchDocumentStore\n",
    "from smart_evidence.helpers import opensearch_connection\n",
    "\n",
    "\n",
    "# DocumentStore: holds all your data\n",
    "document_store = OpenSearchDocumentStore(\n",
    "    username=\"admin\",\n",
    "    password=\"R9$Cix3vD$BU#z\",\n",
    "    host=opensearch_connection.HOST,\n",
    "    port=443,\n",
    "    timeout=600,\n",
    "    aws4auth=opensearch_connection.AWS_AUTH,\n",
    "    verify_certs=True,\n",
    "    index=\"paragraphs_v4\",\n",
    "    label_index=\"haystack-paragraphs-labels\",\n",
    "    search_fields=[\"text\", \"title\"],\n",
    "    embedding_field=\"embedding\",\n",
    "    similarity=\"cosine\",\n",
    "    excluded_meta_data=[\n",
    "        \"paragraphs\",\n",
    "    ],\n",
    "    content_field=\"text\",\n",
    "    name_field=\"title\",\n",
    ")\n"
   ]
  },
  {
   "cell_type": "code",
   "execution_count": null,
   "metadata": {},
   "outputs": [],
   "source": [
    "def delete_by_ids(ids):\n",
    "    query = {\"query\": {\"terms\": {\"document_id\": ids}}, '_source': False}\n",
    "    res = document_store.client.delete_by_query(index=document_store.index, body=query, requests_per_second=10, timeout='10m', _source=False)"
   ]
  },
  {
   "cell_type": "code",
   "execution_count": null,
   "metadata": {},
   "outputs": [],
   "source": [
    "from smart_evidence.helpers.concept_patterns import get_keywords_from_yamls\n",
    "impact_keywords = set([k['keyword'] for k in get_keywords_from_yamls(['assets/keywords_clean/IMPACT.yaml'])])\n",
    "company_keywords = set([k['keyword'] for k in get_keywords_from_yamls(['assets/keywords_clean/COMPANY.yaml'])])"
   ]
  },
  {
   "cell_type": "code",
   "execution_count": null,
   "metadata": {},
   "outputs": [],
   "source": [
    "len(impact_keywords), len(company_keywords)"
   ]
  },
  {
   "cell_type": "code",
   "execution_count": null,
   "metadata": {},
   "outputs": [],
   "source": [
    "for documents_path in sorted(glob('corpus/future_documents/wikipedia-*.jsonl')):\n",
    "    to_delete = 0\n",
    "    to_stay = 0\n",
    "    document_ids_to_delete = []\n",
    "    for document in srsly.read_jsonl(documents_path):\n",
    "        if (document['title'] in impact_keywords) or (document['title'] in company_keywords):\n",
    "            to_stay += 1\n",
    "        else:\n",
    "            document_ids_to_delete.append(hash_document(document))\n",
    "    print(documents_path, len(document_ids_to_delete), to_stay)\n",
    "    while len(document_ids_to_delete):\n",
    "        delete_by_ids(document_ids_to_delete[:1000])\n",
    "        document_ids_to_delete = document_ids_to_delete[1000:]"
   ]
  },
  {
   "cell_type": "code",
   "execution_count": null,
   "metadata": {},
   "outputs": [],
   "source": [
    "query = {\"query\": {\"terms\": {\"document_id\": document_ids_to_delete}}, '_source': False}\n",
    "res = document_store.client.delete_by_query(index=document_store.index, body=query, requests_per_second=1, timeout='10m', _source=False)"
   ]
  },
  {
   "cell_type": "code",
   "execution_count": null,
   "metadata": {},
   "outputs": [],
   "source": [
    "len(document_ids_to_delete)"
   ]
  },
  {
   "cell_type": "code",
   "execution_count": null,
   "metadata": {},
   "outputs": [],
   "source": []
  }
 ],
 "metadata": {
  "interpreter": {
   "hash": "d0a532144255747c9fc026cc5fe041066dd2136635c93ea916b266688de6dfd4"
  },
  "kernelspec": {
   "display_name": "Python 3 (ipykernel)",
   "language": "python",
   "name": "python3"
  },
  "language_info": {
   "codemirror_mode": {
    "name": "ipython",
    "version": 3
   },
   "file_extension": ".py",
   "mimetype": "text/x-python",
   "name": "python",
   "nbconvert_exporter": "python",
   "pygments_lexer": "ipython3",
   "version": "3.9.6"
  }
 },
 "nbformat": 4,
 "nbformat_minor": 2
}
