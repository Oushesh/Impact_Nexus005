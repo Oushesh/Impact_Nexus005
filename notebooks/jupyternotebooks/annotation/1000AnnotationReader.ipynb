{
 "cells": [
  {
   "cell_type": "code",
   "execution_count": null,
   "metadata": {},
   "outputs": [],
   "source": [
    "import os\n",
    "os.chdir('../..')"
   ]
  },
  {
   "cell_type": "code",
   "execution_count": null,
   "metadata": {},
   "outputs": [],
   "source": [
    "from app.models.annotation import AnnotatedInsight"
   ]
  },
  {
   "cell_type": "code",
   "execution_count": null,
   "metadata": {},
   "outputs": [],
   "source": [
    "import logging\n",
    "import os\n",
    "import json\n",
    "from typing import Dict, Tuple\n",
    "\n",
    "from opensearchpy import OpenSearch, RequestsHttpConnection\n",
    "from opensearchpy.helpers import scan\n",
    "from pyairtable import Table\n",
    "from pyairtable.formulas import match\n",
    "from requests_aws4auth import AWS4Auth\n",
    "\n",
    "from app.models.annotation import (\n",
    "    AnnotatedInsight,\n",
    "    AnnotatedInsightInput,\n",
    "    AnnotationResponse,\n",
    "    AnnotationType,\n",
    "    InsightAnnotationInput,\n",
    "    InsightLabelingRequest,\n",
    "    InsightAnnotations\n",
    ")\n",
    "from app.models.concepts import CompanyConcept, ImpactConcept\n",
    "\n",
    "service = \"es\"\n",
    "region = \"eu-central-1\"\n",
    "host = \"search-ix-documents-rzvvmiarxdl7rnn47lj6ynnz4i.eu-central-1.es.amazonaws.com\"\n",
    "awsauth = AWS4Auth(\n",
    "    os.environ.get(\"AWS_ACCESS_KEY\"),\n",
    "    os.environ.get(\"AWS_SECRET_ACCESS_KEY\"),\n",
    "    region,\n",
    "    service,\n",
    ")\n",
    "\n",
    "opensearch = OpenSearch(\n",
    "    hosts=[{\"host\": host, \"port\": 443}],\n",
    "    http_auth=awsauth,\n",
    "    use_ssl=True,\n",
    "    verify_certs=True,\n",
    "    connection_class=RequestsHttpConnection,\n",
    ")\n",
    "\n",
    "INSIGHT_INDEX = \"insights_v2\"\n",
    "AIRTABLE_API_KEY = os.environ[\"AIRTABLE_API_KEY\"]"
   ]
  },
  {
   "cell_type": "code",
   "execution_count": null,
   "metadata": {},
   "outputs": [],
   "source": [
    "ANNOTATOR_A = \"marie-sophie.litz@impactnexus.io\"\n",
    "ANNOTATOR_B = \"andreas.schalm@impactnexus.io\""
   ]
  },
  {
   "cell_type": "code",
   "execution_count": null,
   "metadata": {},
   "outputs": [],
   "source": [
    "query_body = {\n",
    "  \"query\": {\n",
    "    \"bool\": {\n",
    "      \"must\": [\n",
    "        {\n",
    "          \"nested\": {\n",
    "            \"path\": \"annotations.concepts\",\n",
    "            \"query\": {\n",
    "              \"term\": {\"annotations.concepts.created_by\": ANNOTATOR_B}  \n",
    "            }\n",
    "          }\n",
    "        }\n",
    "      ]\n",
    "    }\n",
    "  }\n",
    "}\n",
    "if \"@\" in ANNOTATOR_A:\n",
    "  query_body['query']['bool']['must'].append({\n",
    "    \"nested\": {\n",
    "      \"path\": \"annotations.concepts\",\n",
    "      \"query\": {\n",
    "        \"term\": {\"annotations.concepts.created_by\": ANNOTATOR_A}  \n",
    "      }\n",
    "    }\n",
    "  },)"
   ]
  },
  {
   "cell_type": "code",
   "execution_count": null,
   "metadata": {},
   "outputs": [],
   "source": [
    "BATCH_SIZE = 1000\n",
    "\n",
    "items = scan(\n",
    "    opensearch,\n",
    "    query=query_body,\n",
    "    index=INSIGHT_INDEX,\n",
    "    size=BATCH_SIZE,\n",
    "    scroll=\"1h\",\n",
    ")"
   ]
  },
  {
   "cell_type": "code",
   "execution_count": null,
   "metadata": {},
   "outputs": [],
   "source": [
    "documents = [\n",
    "    AnnotatedInsight.from_elasticsearch(**h) for h in items\n",
    "]"
   ]
  },
  {
   "cell_type": "code",
   "execution_count": null,
   "metadata": {},
   "outputs": [],
   "source": [
    "len(documents)"
   ]
  },
  {
   "cell_type": "code",
   "execution_count": null,
   "metadata": {},
   "outputs": [],
   "source": [
    "def get_annoation_for(annotations, created_by = None, type = None):\n",
    "    for annotation in annotations:\n",
    "        if type is None and created_by is not None and annotation.created_by == created_by:\n",
    "            return annotation\n",
    "        if created_by is None and type is not None and annotation.type == type:\n",
    "            return annotation"
   ]
  },
  {
   "cell_type": "code",
   "execution_count": null,
   "metadata": {},
   "outputs": [],
   "source": [
    "def get_company_annotations(annotations: InsightAnnotations, created_by):\n",
    "    annotation = get_annoation_for(annotations.concepts, created_by)\n",
    "    if annotation is None:\n",
    "        return []\n",
    "    return [concept.label for concept in annotation.annotation.company_concepts]\n",
    "\n",
    "def get_impact_annotations(annotations: InsightAnnotations, created_by):\n",
    "    annotation = get_annoation_for(annotations.concepts, created_by)\n",
    "    if annotation is None:\n",
    "        return []\n",
    "    return [concept.label for concept in annotation.annotation.impact_concepts]"
   ]
  },
  {
   "cell_type": "code",
   "execution_count": null,
   "metadata": {},
   "outputs": [],
   "source": [
    "import json\n",
    "def get_relation_annotations(annotations: InsightAnnotations, created_by):\n",
    "    annotation = get_annoation_for(annotations.relations, created_by)\n",
    "    if annotation is None:\n",
    "        return []\n",
    "    return json.loads(annotation.json())['annotation']"
   ]
  },
  {
   "cell_type": "code",
   "execution_count": null,
   "metadata": {},
   "outputs": [],
   "source": [
    "import numpy as np\n",
    "from sklearn.metrics import jaccard_score\n",
    "\n",
    "\n",
    "def compute_jaccard_for_concept_annotation(annotation_a, annotation_b):\n",
    "    items = list(set(annotation_a).union(set(annotation_b)))\n",
    "    ann_a = np.zeros(len(items))\n",
    "    ann_b = np.zeros(len(items))\n",
    "\n",
    "    for i in annotation_a:\n",
    "        ann_a[items.index(i)] = 1\n",
    "        \n",
    "    for i in annotation_b:\n",
    "        ann_b[items.index(i)] = 1\n",
    "        \n",
    "    return(jaccard_score(ann_a, ann_b, average = 'binary'))\n",
    "\n"
   ]
  },
  {
   "cell_type": "code",
   "execution_count": null,
   "metadata": {},
   "outputs": [],
   "source": [
    "def get_relation_triple(relation_annotation):\n",
    "    return relation_annotation['company_concept']['label'], relation_annotation['impact_concept']['label'], relation_annotation['relation']"
   ]
  },
  {
   "cell_type": "code",
   "execution_count": null,
   "metadata": {},
   "outputs": [],
   "source": [
    "def compute_jaccard_for_relation_annotation(annotation_a, annotation_b):\n",
    "    relations_a = [get_relation_triple(ann) for ann in annotation_a]\n",
    "    relations_b = [get_relation_triple(ann) for ann in annotation_b]\n",
    "    \n",
    "    pairs = list(set([(rel[0], rel[1]) for rel in relations_a]).union(set([(rel[0], rel[1]) for rel in relations_b])))\n",
    "    \n",
    "    ann_a = np.zeros(len(pairs))\n",
    "    ann_b = np.zeros(len(pairs))\n",
    "\n",
    "    RELATION_TO_LABEL = {\"POSITIVE\": 2, \"NEGATIVE\": 1}\n",
    "\n",
    "    for relation in relations_a:\n",
    "        pair = (relation[0], relation[1])\n",
    "        ann_a[pairs.index(pair)] = RELATION_TO_LABEL[relation[2]]\n",
    "        \n",
    "    for relation in relations_b:\n",
    "        pair = (relation[0], relation[1])\n",
    "        ann_b[pairs.index(pair)] = RELATION_TO_LABEL[relation[2]]\n",
    "        \n",
    "    disagreements = [1 for (x, y) in zip(ann_a, ann_b) if x > 0 and y > 0 and x != y]\n",
    "    ann_a = [1 if x > 0 else 0 for x in ann_a]\n",
    "    ann_b = [1 if x > 0 else 0 for x in ann_b]\n",
    "\n",
    "    return jaccard_score(ann_a, ann_b, average='binary'), len(disagreements)"
   ]
  },
  {
   "cell_type": "code",
   "execution_count": null,
   "metadata": {},
   "outputs": [],
   "source": [
    "def build_rows(documents, annotation_getter, scoring_function):\n",
    "    for document in documents:\n",
    "        annotation_a = annotation_getter(document.annotations, ANNOTATOR_A)\n",
    "        annotation_b = annotation_getter(document.annotations, ANNOTATOR_B)\n",
    "        yield {\n",
    "            'id': document.id, \n",
    "            'text': document.text,\n",
    "            \"annotator_a\": ANNOTATOR_A,\n",
    "            \"annotator_b\": ANNOTATOR_B,\n",
    "            'annotation_a': annotation_a,\n",
    "            'annotation_b': annotation_b,\n",
    "            'jaccard_score': scoring_function(annotation_a, annotation_b),\n",
    "        }"
   ]
  },
  {
   "cell_type": "code",
   "execution_count": null,
   "metadata": {},
   "outputs": [],
   "source": [
    "import pandas as pd\n",
    "company_df = pd.DataFrame.from_records(build_rows(documents, get_company_annotations, compute_jaccard_for_concept_annotation), index='id')\n",
    "company_df = company_df.style.set_caption('Company concept annotation')\n",
    "company_df"
   ]
  },
  {
   "cell_type": "code",
   "execution_count": null,
   "metadata": {},
   "outputs": [],
   "source": [
    "import pandas as pd\n",
    "impact_df = pd.DataFrame.from_records(build_rows(documents, get_impact_annotations, compute_jaccard_for_concept_annotation), index='id')\n",
    "impact_df = impact_df.style.set_caption('Impact concept annotation')\n",
    "impact_df"
   ]
  },
  {
   "cell_type": "code",
   "execution_count": null,
   "metadata": {},
   "outputs": [],
   "source": [
    "import pandas as pd\n",
    "relation_df = pd.DataFrame.from_records(build_rows(documents, get_relation_annotations, compute_jaccard_for_relation_annotation))\n",
    "relation_df = relation_df.style.set_caption('Relation annotation')\n",
    "relation_df"
   ]
  },
  {
   "cell_type": "code",
   "execution_count": null,
   "metadata": {},
   "outputs": [],
   "source": []
  }
 ],
 "metadata": {
  "kernelspec": {
   "display_name": "Python 3 (ipykernel)",
   "language": "python",
   "name": "python3"
  },
  "language_info": {
   "codemirror_mode": {
    "name": "ipython",
    "version": 3
   },
   "file_extension": ".py",
   "mimetype": "text/x-python",
   "name": "python",
   "nbconvert_exporter": "python",
   "pygments_lexer": "ipython3",
   "version": "3.9.6"
  },
  "vscode": {
   "interpreter": {
    "hash": "d0a532144255747c9fc026cc5fe041066dd2136635c93ea916b266688de6dfd4"
   }
  }
 },
 "nbformat": 4,
 "nbformat_minor": 4
}
