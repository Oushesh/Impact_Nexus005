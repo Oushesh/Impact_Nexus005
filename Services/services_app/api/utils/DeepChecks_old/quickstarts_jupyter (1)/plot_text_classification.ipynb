{
 "cells": [
  {
   "cell_type": "markdown",
   "metadata": {},
   "source": [
    "Text Classification Quickstart {#nlp__multiclass_quickstart}\n",
    "==============================\n",
    "\n",
    "Deepchecks NLP tests your models during model development/research and\n",
    "before deploying to production. Using our testing package reduces model\n",
    "failures and saves tests development time. In this quickstart guide, you\n",
    "will learn how to use the deepchecks NLP package to analyze and evaluate\n",
    "text classification tasks. If you are interested in a multilabel\n",
    "classification task, you can refer to our\n",
    "`Multilabel Quickstart <nlp__multilabel_quickstart>`{.interpreted-text\n",
    "role=\"ref\"}. We will cover the following steps:\n",
    "\n",
    "1.  [Creating a TextData object and auto calculating\n",
    "    properties](#setting-up)\n",
    "2.  [Running the built-in suites and inspecting the\n",
    "    results](#running-the-deepchecks-default-suites)\n",
    "3.  [We\\'ll spotlight two interesting checks - Embeddings drift and\n",
    "    Under-Annotated Segments](#running-individual-checks)\n",
    "\n",
    "To run deepchecks for NLP, you need the following for both your train\n",
    "and test data:\n",
    "\n",
    "1.  Your `text data <nlp__textdata_object>`{.interpreted-text\n",
    "    role=\"ref\"} - a list of strings, each string is a single sample (can\n",
    "    be a sentence, paragraph, document, etc.).\n",
    "2.  Your labels - either a\n",
    "    `Text Classification <nlp_supported_text_classification>`{.interpreted-text\n",
    "    role=\"ref\"} label or a\n",
    "    `Token Classification <nlp_supported_token_classification>`{.interpreted-text\n",
    "    role=\"ref\"} label. These are not needed for checks that don\\'t\n",
    "    require labels (such as the Embeddings Drift check or most data\n",
    "    integrity checks), but are needed for many other checks.\n",
    "3.  Your model\\'s predictions (see\n",
    "    `nlp__supported_tasks`{.interpreted-text role=\"ref\"} for info on\n",
    "    supported formats). These are needed only for the model related\n",
    "    checks, shown in the [Model Evaluation](#model-evaluation) section\n",
    "    of this guide.\n",
    "\n",
    "If you don\\'t have deepchecks installed yet:\n",
    "\n",
    "``` {.python}\n",
    "import sys\n",
    "!{sys.executable} -m pip install 'deepchecks[nlp]' -U --quiet #--user\n",
    "```\n",
    "\n",
    "Some properties calculated by `deepchecks.nlp` require additional\n",
    "packages to be installed. You can install them by running:\n",
    "\n",
    "``` {.python}\n",
    "import sys\n",
    "!{sys.executable} -m pip install 'deepchecks[nlp-properties]' -U --quiet #--user\n",
    "```\n",
    "\n",
    "Setting Up\n",
    "----------\n",
    "\n",
    "### Load Data\n",
    "\n",
    "For the purpose of this guide, we\\'ll use a small subset of the [tweet\n",
    "emotion](https://github.com/cardiffnlp/tweeteval) dataset. This dataset\n",
    "contains tweets and their corresponding emotion - Anger, Happiness,\n",
    "Optimism, and Sadness.\n"
   ]
  },
  {
   "cell_type": "code",
   "execution_count": null,
   "metadata": {},
   "outputs": [],
   "source": [
    "from deepchecks.nlp import TextData\n",
    "from deepchecks.nlp.datasets.classification import tweet_emotion\n",
    "\n",
    "train, test = tweet_emotion.load_data(data_format='DataFrame')\n",
    "train.head()"
   ]
  },
  {
   "cell_type": "markdown",
   "metadata": {},
   "source": [
    "We can see that we have the tweet text itself, the label (the emotion)\n",
    "and then some additional metadata columns.\n",
    "\n",
    "Create a TextData Objects\n",
    "=========================\n",
    "\n",
    "We can now create a `TextData <nlp__textdata_object>`{.interpreted-text\n",
    "role=\"ref\"} object for the train and test dataframes. This object is\n",
    "used to pass your data to the deepchecks checks.\n",
    "\n",
    "To create a TextData object, the only required argument is the text\n",
    "itself, but passing only the text will prevent multiple checks from\n",
    "running. In this example we\\'ll pass the label and define the task type\n",
    "and finally define the\n",
    "`metadata columns <nlp__metadata_guide>`{.interpreted-text role=\"ref\"}\n",
    "(the other columns in the dataframe) which we\\'ll use later on in the\n",
    "guide.\n"
   ]
  },
  {
   "cell_type": "code",
   "execution_count": null,
   "metadata": {},
   "outputs": [],
   "source": [
    "train = TextData(train.text, label=train['label'], task_type='text_classification',\n",
    "                 metadata=train.drop(columns=['label', 'text']))\n",
    "test = TextData(test.text, label=test['label'], task_type='text_classification',\n",
    "                metadata=test.drop(columns=['label', 'text']))"
   ]
  },
  {
   "cell_type": "markdown",
   "metadata": {},
   "source": [
    "Calculating Properties\n",
    "======================\n",
    "\n",
    "Some of deepchecks\\' checks use properties of the text samples for\n",
    "various calculations. Deepcheck has a wide variety of such properties,\n",
    "some simple and some that rely on external models and are more heavy to\n",
    "run. In order for deepchecks\\' checks to be able to access the\n",
    "properties, they must be stored within the\n",
    "`TextData <nlp__textdata_object>`{.interpreted-text role=\"ref\"} object.\n",
    "You can read more about properties in the\n",
    "`Property Guide <nlp__properties_guide>`{.interpreted-text role=\"ref\"}.\n"
   ]
  },
  {
   "cell_type": "code",
   "execution_count": null,
   "metadata": {},
   "outputs": [],
   "source": [
    "# properties can be either calculated directly by Deepchecks\n",
    "# or imported from other sources in appropriate format\n",
    "\n",
    "# device = torch.device('cuda' if torch.cuda.is_available() else 'cpu')\n",
    "# train.calculate_builtin_properties(\n",
    "#   include_long_calculation_properties=True, device=device\n",
    "# )\n",
    "# test.calculate_builtin_properties(\n",
    "#   include_long_calculation_properties=True,  device=device\n",
    "# )"
   ]
  },
  {
   "cell_type": "markdown",
   "metadata": {},
   "source": [
    "In this example though we\\'ll use pre-calculated properties:\n"
   ]
  },
  {
   "cell_type": "code",
   "execution_count": null,
   "metadata": {},
   "outputs": [],
   "source": [
    "train_properties, test_properties = tweet_emotion.load_properties()\n",
    "\n",
    "train.set_properties(train_properties, categorical_properties=['Language'])\n",
    "test.set_properties(test_properties, categorical_properties=['Language'])\n",
    "\n",
    "train.properties.head(2)"
   ]
  },
  {
   "cell_type": "markdown",
   "metadata": {},
   "source": [
    "Running the Deepchecks Default Suites\n",
    "=====================================\n",
    "\n",
    "Deepchecks comes with a set of pre-built suites that can be used to run\n",
    "a set of checks on your data, alongside with their default conditions\n",
    "and thresholds. You can read more about customizing and creating your\n",
    "own suites in the\n",
    "`Customizations Guide <general__customizations>`{.interpreted-text\n",
    "role=\"ref\"}. In this guide we\\'ll be using 3 suites - the data integrity\n",
    "suite, the train test validation suite and the model evaluation suite.\n",
    "You can also run all the checks at once using the\n",
    "`full_suite <deepchecks.nlp.suites>`{.interpreted-text role=\"mod\"}.\n",
    "\n",
    "Data Integrity\n",
    "--------------\n",
    "\n",
    "We will start by doing preliminary integrity check to validate the text\n",
    "formatting. It is recommended to do this step before model training as\n",
    "it may imply additional data engineering is required.\n",
    "\n",
    "We\\'ll do that using the\n",
    "`data_integrity <deepchecks.nlp.suites>`{.interpreted-text role=\"mod\"}\n",
    "pre-built suite.\n"
   ]
  },
  {
   "cell_type": "code",
   "execution_count": null,
   "metadata": {},
   "outputs": [],
   "source": [
    "from deepchecks.nlp.suites import data_integrity\n",
    "\n",
    "data_integrity_suite = data_integrity()\n",
    "data_integrity_suite.run(train, test)"
   ]
  },
  {
   "cell_type": "markdown",
   "metadata": {},
   "source": [
    "Integrity \\#1: Unknown Tokens\n",
    "=============================\n",
    "\n",
    "First up (in the \"Didn\\'t Pass\" tab) we see that the Unknown Tokens\n",
    "check has returned a problem.\n",
    "\n",
    "Looking at the result, we can see that it assumed (by default) that\n",
    "we're going to use the bert-base-uncased tokenizer for our NLP model,\n",
    "and that if that's the case there are many words in the dataset that\n",
    "contain characters (such as emojis, or Korean characters) that are\n",
    "unrecognized by the tokenizer. This is an important insight, as bert\n",
    "tokenizers are very common. You can configure the tokenizer used by this\n",
    "check by passing the tokenizer to the check's constructor, and can also\n",
    "configure the threshold for the percent of unknown tokens allowed by\n",
    "modifying the checks condition.\n",
    "\n",
    "Integrity \\#2: Text Outliers\n",
    "============================\n",
    "\n",
    "In the \"Didn\\'t Pass\" tab, by looking at the Text Outlier check result\n",
    "we can derive several insights by hovering over the different values and\n",
    "inspecting the outlier texts:\n",
    "\n",
    "1.  hashtags ('\\#...') are usually several words written together\n",
    "    without spaces - we might consider splitting them before feeding the\n",
    "    tweet to a model\n",
    "2.  In some instances users deliberately misspell words, for example '!'\n",
    "    instead of the letter 'l' or 'okayyyyyyyyyy'.\n",
    "3.  The majority of the data is in English but not all. If we want a\n",
    "    classifier that is multilingual we should collect more data,\n",
    "    otherwise we may consider dropping tweets in other languages from\n",
    "    our dataset before training our model.\n",
    "\n",
    "Integrity \\#3: Property-Label Correlation (Shortcut Learning)\n",
    "=============================================================\n",
    "\n",
    "In the \\\"Passed\\\" tab we can see tha Property-Label Correlation check,\n",
    "that verifies the data does not contain any shortcuts the model can\n",
    "fixate on during the learning process. In our case we can see no\n",
    "indication that this problem exists in our dataset. For more information\n",
    "about shortcut learning see:\n",
    "<https://towardsdatascience.com/shortcut-learning-how-and-why-models-cheat-1b37575a159>\n"
   ]
  },
  {
   "cell_type": "markdown",
   "metadata": {},
   "source": [
    "Train Test Validation\n",
    "=====================\n",
    "\n",
    "The next suite, the\n",
    "`train_test_validation <deepchecks.nlp.suites>`{.interpreted-text\n",
    "role=\"mod\"} suite serves to validate our split and compare the two\n",
    "dataset. These splits can be either you training and val / test sets, in\n",
    "which case you\\'d want to run this suite after the split was made but\n",
    "before training, or for example your training and inference data, in\n",
    "which case the suite is useful for validating that the inference data is\n",
    "similar enough to the training data.\n"
   ]
  },
  {
   "cell_type": "code",
   "execution_count": null,
   "metadata": {},
   "outputs": [],
   "source": [
    "from deepchecks.nlp.suites import train_test_validation\n",
    "\n",
    "train_test_validation().run(train, test)"
   ]
  },
  {
   "cell_type": "markdown",
   "metadata": {},
   "source": [
    "Label Drift\n",
    "===========\n",
    "\n",
    "This check, appearing in the \\\"Didn\\'t Pass\\\" tab, lets us see that we\n",
    "have some significant change in the distribution of the label - the\n",
    "label \"optimism\" is suddenly way more common in the test dataset, while\n",
    "other labels declined. This happened because we split on time, so the\n",
    "topics covered by the tweets in the test dataset may correspond to\n",
    "specific trends or events that happened later in time. Let's\n",
    "investigate!\n"
   ]
  },
  {
   "cell_type": "markdown",
   "metadata": {},
   "source": [
    "Model Evaluation\n",
    "================\n",
    "\n",
    "The suite below, the\n",
    "`model_evaluation <deepchecks.nlp.suites>`{.interpreted-text role=\"mod\"}\n",
    "suite, is designed to be run after a model has been trained and requires\n",
    "model predictions which can be supplied via the relevant arguments in\n",
    "the `run` function.\n"
   ]
  },
  {
   "cell_type": "code",
   "execution_count": null,
   "metadata": {},
   "outputs": [],
   "source": [
    "train_preds, test_preds = tweet_emotion.load_precalculated_predictions(\n",
    "    pred_format='predictions', as_train_test=True)\n",
    "train_probas, test_probas = tweet_emotion.load_precalculated_predictions(\n",
    "    pred_format='probabilities', as_train_test=True)\n",
    "\n",
    "from deepchecks.nlp.suites import model_evaluation\n",
    "\n",
    "result = model_evaluation().run(train, test,\n",
    "                                train_predictions=train_preds,\n",
    "                                test_predictions=test_preds,\n",
    "                                train_probabilities=train_probas,\n",
    "                                test_probabilities=test_probas)\n",
    "result.show()"
   ]
  },
  {
   "cell_type": "markdown",
   "metadata": {},
   "source": [
    "OK! We have many important issues being surfaced by this suite. Let's\n",
    "dive into the individual checks:\n",
    "\n",
    "Model Eval \\#1: Train Test Performance\n",
    "======================================\n",
    "\n",
    "We can immediately see in the \\\"Didn\\'t Pass\\\" tab that there has been\n",
    "significant degradation in the Recall on class \"optimism\". This is very\n",
    "likely a result of the severe label drift we saw after running the\n",
    "previous suite.\n",
    "\n",
    "Model Eval \\#2: Segment Performance\n",
    "===================================\n",
    "\n",
    "Also in the \\\"Didn\\'t Pass\\\" tab we can see the two segment performance\n",
    "checks - Property Segment Performance and Metadata Segment Performance.\n",
    "These use the `metadata columns <nlp__metadata_guide>`{.interpreted-text\n",
    "role=\"ref\"} of user related information OR our\n",
    "`calculated properties <nlp__properties_guide>`{.interpreted-text\n",
    "role=\"ref\"} to try and **automatically** detect significant data\n",
    "segments on which our model performs badly.\n",
    "\n",
    "In this case we can see that both checks have found issues in the test\n",
    "dataset:\n",
    "\n",
    "1.  The Property Segment Performance check has found that we're getting\n",
    "    very poor results on low toxicity samples. That probably means that\n",
    "    our model is using the toxicity of the text to infer the \"anger\"\n",
    "    label, and is having a harder problem with other, more benign text\n",
    "    samples.\n",
    "2.  The Metadata Segment Performance check has found that we have\n",
    "    predicting correct results on new users from the Americas. That's 5%\n",
    "    of our dataset so we better investigate that further.\n",
    "\n",
    "You\\'ll note that these two issues occur only in the test data, and so\n",
    "the results of these checks for the training data appear in the\n",
    "\\\"Passed\\\" tab.\n",
    "\n",
    "Model Eval \\#3: Prediction Drift\n",
    "================================\n",
    "\n",
    "We note that the Prediction Drift (here in the \"Passed\" tab) shows no\n",
    "issue. Given that we already know that there is significant Label Drift,\n",
    "this means we have Concept Drift - the labels corresponding to our\n",
    "samples have changed, while the model continues to predict the same\n",
    "labels. You can learn more about the different types of drift and how\n",
    "deepchecks detects them in our\n",
    "`Drift Guide <drift_user_guide>`{.interpreted-text role=\"ref\"}.\n"
   ]
  },
  {
   "cell_type": "markdown",
   "metadata": {},
   "source": [
    "Running Individual Checks\n",
    "=========================\n",
    "\n",
    "Checks can also be run individually. In this section, we\\'ll show two of\n",
    "the more interesting checks and how you can run them stand-alone and add\n",
    "conditions to them. You can learn more about customizing suites, checks\n",
    "and conditions in our\n",
    "`Customizations Guide <general__customizations>`{.interpreted-text\n",
    "role=\"ref\"}.\n",
    "\n",
    "Embeddings Drift\n",
    "----------------\n",
    "\n",
    "In order to run the\n",
    "`Embeddings Drift <nlp__embeddings_drift>`{.interpreted-text role=\"ref\"}\n",
    "check you must have text embeddings loaded to both datasets. You can\n",
    "read more about using embeddings in deepchecks NLP in our\n",
    "`Embeddings Guide <nlp__embeddings_guide>`{.interpreted-text\n",
    "role=\"ref\"}.\n",
    "\n",
    "In this example, we have the embeddings already pre-calculated:\n"
   ]
  },
  {
   "cell_type": "code",
   "execution_count": null,
   "metadata": {},
   "outputs": [],
   "source": [
    "from deepchecks.nlp.datasets.classification.tweet_emotion import load_embeddings\n",
    "\n",
    "train_embeddings, test_embeddings = load_embeddings()\n",
    "\n",
    "train.set_embeddings(train_embeddings)\n",
    "test.set_embeddings(test_embeddings)"
   ]
  },
  {
   "cell_type": "markdown",
   "metadata": {},
   "source": [
    "You can also calculate the embeddings using deepchecks, either using an\n",
    "open-source sentence-transformer or using Open AI's embedding API.\n"
   ]
  },
  {
   "cell_type": "code",
   "execution_count": null,
   "metadata": {},
   "outputs": [],
   "source": [
    "# train.calculate_builtin_embeddings()\n",
    "# test.calculate_builtin_embeddings()"
   ]
  },
  {
   "cell_type": "code",
   "execution_count": null,
   "metadata": {},
   "outputs": [],
   "source": [
    "from deepchecks.nlp.checks import TextEmbeddingsDrift\n",
    "\n",
    "check = TextEmbeddingsDrift()\n",
    "res = check.run(train, test)\n",
    "res.show()"
   ]
  },
  {
   "cell_type": "markdown",
   "metadata": {},
   "source": [
    "Here we can see some clusters that distinctly contain more samples from\n",
    "train or more sample for test. For example, if we look at the greenish\n",
    "cluster in the middle (by hovering on the samples and reading the\n",
    "tweets) we see it's full of inspirational quotes and sayings, and\n",
    "belongs mostly to the test dataset. That is the source of the drastic\n",
    "increase in optimistic labels!\n",
    "\n",
    "There are of course also other note-worthy clusters, such as the\n",
    "greenish cluster on the right that contains tweets about a terror attack\n",
    "in Bangladesh, which belongs solely to the test data.\n"
   ]
  },
  {
   "cell_type": "markdown",
   "metadata": {},
   "source": [
    "Under Annotated Segments\n",
    "========================\n",
    "\n",
    "Another note-worthy segment is the\n",
    "`Under Annotated Segments <nlp__under_annotated_property_segments>`{.interpreted-text\n",
    "role=\"ref\"} check, which explores our data and automatically identifies\n",
    "segments where the data is under-annotated - meaning that the ratio of\n",
    "missing labels is higher. To this check we'll also add a condition that\n",
    "will fail in case that an under-annotated segment of significant size is\n",
    "found.\n"
   ]
  },
  {
   "cell_type": "code",
   "execution_count": null,
   "metadata": {},
   "outputs": [],
   "source": [
    "from deepchecks.nlp.checks import UnderAnnotatedPropertySegments\n",
    "test_under = tweet_emotion.load_under_annotated_data()\n",
    "\n",
    "check = UnderAnnotatedPropertySegments(\n",
    "    segment_minimum_size_ratio=0.1\n",
    ").add_condition_segments_relative_performance_greater_than()\n",
    "\n",
    "check.run(test_under)"
   ]
  },
  {
   "cell_type": "markdown",
   "metadata": {},
   "source": [
    "For example, here the check detected that we have a lot of lacking\n",
    "annotations for samples that are informal and not very fluent. May it be\n",
    "the case that our annotators have a problem annotating these samples and\n",
    "prefer not to deal with them? If these samples are important for use, we\n",
    "may have to put special focus on annotating this segment.\n",
    "\n",
    "::: {.note}\n",
    "::: {.title}\n",
    "Note\n",
    ":::\n",
    "\n",
    "You can find the full list of available NLP checks in the\n",
    "`nlp.checks api documentation ֿ\n",
    "<deepchecks.nlp.checks>`{.interpreted-text role=\"mod\"}.\n",
    ":::\n"
   ]
  }
 ],
 "metadata": {
  "kernelspec": {
   "display_name": "Python 3 (ipykernel)",
   "language": "python",
   "name": "python3"
  },
  "language_info": {
   "codemirror_mode": {
    "name": "ipython",
    "version": 3
   },
   "file_extension": ".py",
   "mimetype": "text/x-python",
   "name": "python",
   "nbconvert_exporter": "python",
   "pygments_lexer": "ipython3",
   "version": "3.10.9"
  }
 },
 "nbformat": 4,
 "nbformat_minor": 1
}
